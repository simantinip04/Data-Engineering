{
 "cells": [
  {
   "cell_type": "code",
   "execution_count": 0,
   "metadata": {
    "application/vnd.databricks.v1+cell": {
     "cellMetadata": {
      "byteLimit": 2048000,
      "rowLimit": 10000
     },
     "inputWidgets": {},
     "nuid": "86e95b99-cabc-47d1-997c-f0d4352d86f0",
     "showTitle": false,
     "tableResultSettingsMap": {},
     "title": ""
    }
   },
   "outputs": [
    {
     "output_type": "execute_result",
     "data": {
      "text/plain": [
       "<pyspark.sql.connect.session.SparkSession at 0xfff99c38e6d0>"
      ]
     },
     "execution_count": 31,
     "metadata": {},
     "output_type": "execute_result"
    }
   ],
   "source": [
    "spark"
   ]
  },
  {
   "cell_type": "code",
   "execution_count": 0,
   "metadata": {
    "application/vnd.databricks.v1+cell": {
     "cellMetadata": {
      "byteLimit": 2048000,
      "rowLimit": 10000
     },
     "inputWidgets": {},
     "nuid": "f6692d3e-ae1f-4f96-806f-d2dbb9a26371",
     "showTitle": false,
     "tableResultSettingsMap": {},
     "title": ""
    }
   },
   "outputs": [
    {
     "output_type": "stream",
     "name": "stdout",
     "output_type": "stream",
     "text": [
      "+--------+-----------+-------------+----------+-------------+---------+-----------------+----------+-------+\n|order_id|customer_id|customer_name|order_date|delivery_date|   status|            issue|delay_days|delayed|\n+--------+-----------+-------------+----------+-------------+---------+-----------------+----------+-------+\n|       1|        101|  Amit Sharma|05-01-2024|   05-05-2024|Delivered|         No issue|       414|      1|\n|       2|        102|  Priya Singh|05-03-2024|         NULL|  Delayed|    Late delivery|         0|      0|\n|       3|        101|  Amit Sharma|05-10-2024|   05-09-2024|Delivered|         No issue|       291|      1|\n|       4|        103|   Ravi Kumar|05-12-2024|         NULL|  Pending|Address not found|         0|      0|\n|       5|        104|  Anita Desai|      NULL|         NULL|Delivered|         No issue|         0|      0|\n|       6|        102|  Priya Singh|      NULL|         NULL|  Delayed|    Late delivery|         0|      0|\n|       7|        105|    Manoj Das|      NULL|         NULL|Delivered|         No issue|         0|      0|\n|       8|        106|Neha Kulkarni|      NULL|         NULL|Delivered|Minor item damage|         0|      0|\n|       9|        107|  Karan Mehta|      NULL|         NULL|Delivered|         No issue|         0|      0|\n|      10|        108|   Divya Iyer|      NULL|         NULL|  Delayed| No status update|         0|      0|\n|      11|        109|    Arjun Sen|      NULL|         NULL|Delivered|         No issue|         0|      0|\n|      12|        110|  Meera Joshi|      NULL|         NULL|  Delayed| Delayed by 1 day|         0|      0|\n+--------+-----------+-------------+----------+-------------+---------+-----------------+----------+-------+\n\n"
     ]
    }
   ],
   "source": [
    "from pyspark.sql.functions import col, sum as _sum\n",
    "\n",
    "#Data\n",
    "orders_df = spark.read.option(\"header\", True).option(\"inferSchema\", True) \\\n",
    "    .csv(\"/Volumes/workspace/csv_data/customersordersinsights/cleaned_orders.csv\")\n",
    "\n",
    "orders_df.show()"
   ]
  },
  {
   "cell_type": "code",
   "execution_count": 0,
   "metadata": {
    "application/vnd.databricks.v1+cell": {
     "cellMetadata": {
      "byteLimit": 2048000,
      "rowLimit": 10000
     },
     "inputWidgets": {},
     "nuid": "adce9be6-8fa4-4981-a03b-be5d6608cfb8",
     "showTitle": false,
     "tableResultSettingsMap": {},
     "title": ""
    }
   },
   "outputs": [
    {
     "output_type": "stream",
     "name": "stdout",
     "output_type": "stream",
     "text": [
      "+-----------+-------------+--------------------+----------+------+\n|customer_id|customer_name|               email|     Phone|Region|\n+-----------+-------------+--------------------+----------+------+\n|        101|  Amit Sharma|amit.sharma@examp...|9876543210| North|\n|        102|  Priya Singh|priya.singh@examp...|9123456780| South|\n|        103|    Raj Verma|raj.verma@example...|9988776655|  West|\n|        104|  Sneha Reddy|sneha.reddy@examp...|9871234567| South|\n|        105|    Manoj Das|manoj.das@example...|9123987654|  East|\n|        106|Neha Kulkarni|neha.kulkarni@exa...|7894561230|  West|\n|        107|  Karan Mehta|karan.mehta@examp...|7001239876| North|\n|        108|   Divya Iyer|divya.iyer@exampl...|8080808080| South|\n|        109|    Arjun Sen|arjun.sen@example...|9900990099|  East|\n|        110|  Meera Joshi|meera.joshi@examp...|8500450060|  West|\n+-----------+-------------+--------------------+----------+------+\n\n"
     ]
    }
   ],
   "source": [
    "customers_df = spark.read.option(\"header\", True).option(\"inferSchema\", True) \\\n",
    "    .csv(\"/Volumes/workspace/csv_data/customersordersinsights/customers.csv\")\n",
    "\n",
    "customers_df.show()"
   ]
  },
  {
   "cell_type": "code",
   "execution_count": 0,
   "metadata": {
    "application/vnd.databricks.v1+cell": {
     "cellMetadata": {
      "byteLimit": 2048000,
      "rowLimit": 10000
     },
     "inputWidgets": {},
     "nuid": "fc30d45e-d4a8-4987-8fdb-0000c5aeb9ce",
     "showTitle": false,
     "tableResultSettingsMap": {},
     "title": ""
    }
   },
   "outputs": [
    {
     "output_type": "stream",
     "name": "stdout",
     "output_type": "stream",
     "text": [
      "+-----------+--------+-------------+----------+-------------+---------+-----------------+----------+-------+-------------+--------------------+----------+------+\n|customer_id|order_id|customer_name|order_date|delivery_date|   status|            issue|delay_days|delayed|customer_name|               email|     Phone|Region|\n+-----------+--------+-------------+----------+-------------+---------+-----------------+----------+-------+-------------+--------------------+----------+------+\n|        101|       1|  Amit Sharma|05-01-2024|   05-05-2024|Delivered|         No issue|       414|      1|  Amit Sharma|amit.sharma@examp...|9876543210| North|\n|        102|       2|  Priya Singh|05-03-2024|         NULL|  Delayed|    Late delivery|         0|      0|  Priya Singh|priya.singh@examp...|9123456780| South|\n|        101|       3|  Amit Sharma|05-10-2024|   05-09-2024|Delivered|         No issue|       291|      1|  Amit Sharma|amit.sharma@examp...|9876543210| North|\n|        103|       4|   Ravi Kumar|05-12-2024|         NULL|  Pending|Address not found|         0|      0|    Raj Verma|raj.verma@example...|9988776655|  West|\n|        104|       5|  Anita Desai|      NULL|         NULL|Delivered|         No issue|         0|      0|  Sneha Reddy|sneha.reddy@examp...|9871234567| South|\n|        102|       6|  Priya Singh|      NULL|         NULL|  Delayed|    Late delivery|         0|      0|  Priya Singh|priya.singh@examp...|9123456780| South|\n|        105|       7|    Manoj Das|      NULL|         NULL|Delivered|         No issue|         0|      0|    Manoj Das|manoj.das@example...|9123987654|  East|\n|        106|       8|Neha Kulkarni|      NULL|         NULL|Delivered|Minor item damage|         0|      0|Neha Kulkarni|neha.kulkarni@exa...|7894561230|  West|\n|        107|       9|  Karan Mehta|      NULL|         NULL|Delivered|         No issue|         0|      0|  Karan Mehta|karan.mehta@examp...|7001239876| North|\n|        108|      10|   Divya Iyer|      NULL|         NULL|  Delayed| No status update|         0|      0|   Divya Iyer|divya.iyer@exampl...|8080808080| South|\n|        109|      11|    Arjun Sen|      NULL|         NULL|Delivered|         No issue|         0|      0|    Arjun Sen|arjun.sen@example...|9900990099|  East|\n|        110|      12|  Meera Joshi|      NULL|         NULL|  Delayed| Delayed by 1 day|         0|      0|  Meera Joshi|meera.joshi@examp...|8500450060|  West|\n+-----------+--------+-------------+----------+-------------+---------+-----------------+----------+-------+-------------+--------------------+----------+------+\n\n"
     ]
    }
   ],
   "source": [
    "joined_df = orders_df.join(customers_df, on=\"customer_id\", how=\"inner\")\n",
    "joined_df.show()"
   ]
  },
  {
   "cell_type": "code",
   "execution_count": 0,
   "metadata": {
    "application/vnd.databricks.v1+cell": {
     "cellMetadata": {
      "byteLimit": 2048000,
      "rowLimit": 10000
     },
     "inputWidgets": {},
     "nuid": "9ddf49f2-eaa8-4ba4-a249-1a2c19eb99b7",
     "showTitle": false,
     "tableResultSettingsMap": {},
     "title": ""
    }
   },
   "outputs": [
    {
     "output_type": "stream",
     "name": "stdout",
     "output_type": "stream",
     "text": [
      "+------+--------------------+\n|region|total_delayed_orders|\n+------+--------------------+\n| North|                   2|\n|  East|                   0|\n|  West|                   0|\n| South|                   0|\n+------+--------------------+\n\n"
     ]
    }
   ],
   "source": [
    "delay_summary = (\n",
    "    joined_df.groupBy(\"region\")\n",
    "    .agg(_sum(\"delayed\").alias(\"total_delayed_orders\"))\n",
    "    .orderBy(\"total_delayed_orders\", ascending=False)\n",
    ")\n",
    "\n",
    "delay_summary.show()"
   ]
  },
  {
   "cell_type": "code",
   "execution_count": 0,
   "metadata": {
    "application/vnd.databricks.v1+cell": {
     "cellMetadata": {
      "byteLimit": 2048000,
      "rowLimit": 10000
     },
     "inputWidgets": {},
     "nuid": "e4fa1e7b-a1ce-4372-8969-757c8102cb3d",
     "showTitle": false,
     "tableResultSettingsMap": {},
     "title": ""
    }
   },
   "outputs": [],
   "source": [
    "delay_summary.coalesce(1).write.option(\"header\", True).csv(\n",
    "    \"/Volumes/workspace/csv_data/customersordersinsights/output/delays_by_region\"\n",
    ")"
   ]
  }
 ],
 "metadata": {
  "application/vnd.databricks.v1+notebook": {
   "computePreferences": null,
   "dashboards": [],
   "environmentMetadata": {
    "base_environment": "",
    "environment_version": "2"
   },
   "inputWidgetPreferences": null,
   "language": "python",
   "notebookMetadata": {
    "pythonIndentUnit": 4
   },
   "notebookName": "Customer Order Insights and Delivery Tracker2025-06-23 13:03:15",
   "widgets": {}
  },
  "language_info": {
   "name": "python"
  }
 },
 "nbformat": 4,
 "nbformat_minor": 0
}