{
 "cells": [
  {
   "cell_type": "code",
   "execution_count": 0,
   "metadata": {
    "application/vnd.databricks.v1+cell": {
     "cellMetadata": {
      "byteLimit": 2048000,
      "rowLimit": 10000
     },
     "inputWidgets": {},
     "nuid": "c94f27bc-69ea-429c-967c-6f94f8e29d19",
     "showTitle": false,
     "tableResultSettingsMap": {},
     "title": ""
    }
   },
   "outputs": [
    {
     "output_type": "execute_result",
     "data": {
      "text/plain": [
       "<pyspark.sql.connect.session.SparkSession at 0xffefe0808910>"
      ]
     },
     "execution_count": 2,
     "metadata": {},
     "output_type": "execute_result"
    }
   ],
   "source": [
    "spark"
   ]
  },
  {
   "cell_type": "code",
   "execution_count": 0,
   "metadata": {
    "application/vnd.databricks.v1+cell": {
     "cellMetadata": {
      "byteLimit": 2048000,
      "rowLimit": 10000
     },
     "inputWidgets": {},
     "nuid": "8b575555-a9da-4f37-a89c-157f41b34d41",
     "showTitle": false,
     "tableResultSettingsMap": {},
     "title": ""
    }
   },
   "outputs": [
    {
     "output_type": "stream",
     "name": "stdout",
     "output_type": "stream",
     "text": [
      "+--------+-----------+-------------+----------+-------------+---------+-----------------+----------+-------+\n|order_id|customer_id|customer_name|order_date|delivery_date|   status|            issue|delay_days|delayed|\n+--------+-----------+-------------+----------+-------------+---------+-----------------+----------+-------+\n|       1|        101|  Amit Sharma|05-01-2024|   05-05-2024|Delivered|         No issue|       414|      1|\n|       2|        102|  Priya Singh|05-03-2024|         NULL|  Delayed|    Late delivery|         0|      0|\n|       3|        101|  Amit Sharma|05-10-2024|   05-09-2024|Delivered|         No issue|       291|      1|\n|       4|        103|   Ravi Kumar|05-12-2024|         NULL|  Pending|Address not found|         0|      0|\n|       5|        104|  Anita Desai|      NULL|         NULL|Delivered|         No issue|         0|      0|\n|       6|        102|  Priya Singh|      NULL|         NULL|  Delayed|    Late delivery|         0|      0|\n|       7|        105|    Manoj Das|      NULL|         NULL|Delivered|         No issue|         0|      0|\n|       8|        106|Neha Kulkarni|      NULL|         NULL|Delivered|Minor item damage|         0|      0|\n|       9|        107|  Karan Mehta|      NULL|         NULL|Delivered|         No issue|         0|      0|\n|      10|        108|   Divya Iyer|      NULL|         NULL|  Delayed| No status update|         0|      0|\n|      11|        109|    Arjun Sen|      NULL|         NULL|Delivered|         No issue|         0|      0|\n|      12|        110|  Meera Joshi|      NULL|         NULL|  Delayed| Delayed by 1 day|         0|      0|\n+--------+-----------+-------------+----------+-------------+---------+-----------------+----------+-------+\n\n"
     ]
    }
   ],
   "source": [
    "#Load cleaned order data into Databricks\n",
    "cleaned_orders_df = spark.read.option(\"header\", True).option(\"inferSchema\", True) \\\n",
    "    .csv(\"/Volumes/workspace/csv_data/customersordersinsights/cleaned_orders.csv\")\n",
    "\n",
    "cleaned_orders_df.show()"
   ]
  },
  {
   "cell_type": "code",
   "execution_count": 0,
   "metadata": {
    "application/vnd.databricks.v1+cell": {
     "cellMetadata": {
      "byteLimit": 2048000,
      "rowLimit": 10000
     },
     "inputWidgets": {},
     "nuid": "cbc7be15-d97f-4087-b3b2-7ef37a588ff3",
     "showTitle": false,
     "tableResultSettingsMap": {},
     "title": ""
    }
   },
   "outputs": [
    {
     "output_type": "stream",
     "name": "stdout",
     "output_type": "stream",
     "text": [
      "+--------+-----------+-------------+----------+-------------+---------+-----------------+----------+-------+-----------------+\n|order_id|customer_id|customer_name|order_date|delivery_date|   status|            issue|delay_days|delayed|  delivery_status|\n+--------+-----------+-------------+----------+-------------+---------+-----------------+----------+-------+-----------------+\n|       1|        101|  Amit Sharma|05-01-2024|   05-05-2024|Delivered|         No issue|       414|      1|   Delivered Late|\n|       2|        102|  Priya Singh|05-03-2024|         NULL|  Delayed|    Late delivery|         0|      0|          Pending|\n|       3|        101|  Amit Sharma|05-10-2024|   05-09-2024|Delivered|         No issue|       291|      1|Delivered On Time|\n|       4|        103|   Ravi Kumar|05-12-2024|         NULL|  Pending|Address not found|         0|      0|          Pending|\n|       5|        104|  Anita Desai|      NULL|         NULL|Delivered|         No issue|         0|      0|          Pending|\n|       6|        102|  Priya Singh|      NULL|         NULL|  Delayed|    Late delivery|         0|      0|          Pending|\n|       7|        105|    Manoj Das|      NULL|         NULL|Delivered|         No issue|         0|      0|          Pending|\n|       8|        106|Neha Kulkarni|      NULL|         NULL|Delivered|Minor item damage|         0|      0|          Pending|\n|       9|        107|  Karan Mehta|      NULL|         NULL|Delivered|         No issue|         0|      0|          Pending|\n|      10|        108|   Divya Iyer|      NULL|         NULL|  Delayed| No status update|         0|      0|          Pending|\n|      11|        109|    Arjun Sen|      NULL|         NULL|Delivered|         No issue|         0|      0|          Pending|\n|      12|        110|  Meera Joshi|      NULL|         NULL|  Delayed| Delayed by 1 day|         0|      0|          Pending|\n+--------+-----------+-------------+----------+-------------+---------+-----------------+----------+-------+-----------------+\n\n"
     ]
    }
   ],
   "source": [
    "#Pipeline to update latest delivery status\n",
    "from pyspark.sql.functions import when, col, isnull\n",
    "\n",
    "updated_orders_df = cleaned_orders_df.withColumn(\n",
    "    \"delivery_status\",\n",
    "    when(col(\"delivery_date\").isNull(), \"Pending\")\n",
    "    .when(col(\"delivery_date\") > col(\"order_date\"), \"Delivered Late\")\n",
    "    .otherwise(\"Delivered On Time\")\n",
    ")\n",
    "\n",
    "updated_orders_df.show()"
   ]
  },
  {
   "cell_type": "code",
   "execution_count": 0,
   "metadata": {
    "application/vnd.databricks.v1+cell": {
     "cellMetadata": {
      "byteLimit": 2048000,
      "rowLimit": 10000
     },
     "inputWidgets": {},
     "nuid": "d3f36598-01b9-43a1-bdda-f5adbe5fda3b",
     "showTitle": false,
     "tableResultSettingsMap": {},
     "title": ""
    }
   },
   "outputs": [],
   "source": [
    "#Save the results as Delta or CSV\n",
    "#Save as CSV\n",
    "updated_orders_df.coalesce(1).write.option(\"header\", True).mode(\"overwrite\") \\\n",
    "    .csv(\"/Volumes/workspace/csv_data/customersordersinsights/output/updated_orders_csv\")\n",
    "\n",
    "#Save as Delta\n",
    "updated_orders_df.write.format(\"delta\").mode(\"overwrite\") \\\n",
    "    .save(\"/Volumes/workspace/csv_data/customersordersinsights/output/updated_orders_delta\")"
   ]
  },
  {
   "cell_type": "code",
   "execution_count": 0,
   "metadata": {
    "application/vnd.databricks.v1+cell": {
     "cellMetadata": {
      "byteLimit": 2048000,
      "rowLimit": 10000
     },
     "inputWidgets": {},
     "nuid": "decb9bb4-9896-4f03-b9f5-36ad58a6258d",
     "showTitle": false,
     "tableResultSettingsMap": {},
     "title": ""
    }
   },
   "outputs": [
    {
     "output_type": "stream",
     "name": "stdout",
     "output_type": "stream",
     "text": [
      "+-------------+--------------+\n|customer_name|delayed_orders|\n+-------------+--------------+\n|  Amit Sharma|             1|\n+-------------+--------------+\n\n"
     ]
    }
   ],
   "source": [
    "#SQL Query to Show Top 5 Delayed Customers\n",
    "updated_orders_df.createOrReplaceTempView(\"orders_view\")\n",
    "\n",
    "spark.sql(\"\"\"\n",
    "    SELECT customer_name, COUNT(*) AS delayed_orders\n",
    "    FROM orders_view\n",
    "    WHERE delivery_status = 'Delivered Late'\n",
    "    GROUP BY customer_name\n",
    "    ORDER BY delayed_orders DESC\n",
    "    LIMIT 5\n",
    "\"\"\").show()"
   ]
  }
 ],
 "metadata": {
  "application/vnd.databricks.v1+notebook": {
   "computePreferences": null,
   "dashboards": [],
   "environmentMetadata": {
    "base_environment": "",
    "environment_version": "2"
   },
   "inputWidgetPreferences": null,
   "language": "python",
   "notebookMetadata": {
    "pythonIndentUnit": 4
   },
   "notebookName": "Customer Order Insights & Delivery Tracking 2025-06-23 16:54:47",
   "widgets": {}
  },
  "language_info": {
   "name": "python"
  }
 },
 "nbformat": 4,
 "nbformat_minor": 0
}