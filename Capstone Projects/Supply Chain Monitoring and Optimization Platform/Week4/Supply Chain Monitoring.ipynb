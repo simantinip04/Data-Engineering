{
 "cells": [
  {
   "cell_type": "code",
   "execution_count": 0,
   "metadata": {
    "application/vnd.databricks.v1+cell": {
     "cellMetadata": {
      "byteLimit": 2048000,
      "rowLimit": 10000
     },
     "inputWidgets": {},
     "nuid": "4cafc109-c449-4b45-ab09-d1a192512182",
     "showTitle": false,
     "tableResultSettingsMap": {},
     "title": ""
    }
   },
   "outputs": [
    {
     "output_type": "execute_result",
     "data": {
      "text/plain": [
       "<pyspark.sql.connect.session.SparkSession at 0xffff2c335e90>"
      ]
     },
     "execution_count": 2,
     "metadata": {},
     "output_type": "execute_result"
    }
   ],
   "source": [
    "spark"
   ]
  },
  {
   "cell_type": "code",
   "execution_count": 0,
   "metadata": {
    "application/vnd.databricks.v1+cell": {
     "cellMetadata": {
      "byteLimit": 2048000,
      "rowLimit": 10000
     },
     "inputWidgets": {},
     "nuid": "06f1bee9-f148-4e0b-a7c7-23cae14d0707",
     "showTitle": false,
     "tableResultSettingsMap": {},
     "title": ""
    }
   },
   "outputs": [
    {
     "output_type": "stream",
     "name": "stdout",
     "output_type": "stream",
     "text": [
      "+--------+-----------+-------------+\n|order_id|supplier_id|delivery_date|\n+--------+-----------+-------------+\n|       1|        101|   2025-05-01|\n|       2|        102|   2025-04-30|\n|       3|        103|   2025-05-20|\n+--------+-----------+-------------+\n\n"
     ]
    }
   ],
   "source": [
    "from pyspark.sql.functions import col, to_date, datediff, current_date, when\n",
    "\n",
    "#Data\n",
    "df = spark.read.option(\"header\", \"true\").csv(\"/Volumes/workspace/supplychain/csv_data/orders_week4.csv\", inferSchema=True)\n",
    "df.show()"
   ]
  },
  {
   "cell_type": "code",
   "execution_count": 0,
   "metadata": {
    "application/vnd.databricks.v1+cell": {
     "cellMetadata": {
      "byteLimit": 2048000,
      "rowLimit": 10000
     },
     "inputWidgets": {},
     "nuid": "fbcbb030-c0e9-44a4-9d23-e26ee83a58e7",
     "showTitle": false,
     "tableResultSettingsMap": {},
     "title": ""
    }
   },
   "outputs": [
    {
     "output_type": "stream",
     "name": "stdout",
     "output_type": "stream",
     "text": [
      "+--------+-----------+-------------+\n|order_id|supplier_id|delivery_date|\n+--------+-----------+-------------+\n|       1|        101|   2025-05-01|\n|       2|        102|   2025-04-30|\n|       3|        103|   2025-05-20|\n+--------+-----------+-------------+\n\n+--------+-----------+-------------+----------+\n|order_id|supplier_id|delivery_date|delay_days|\n+--------+-----------+-------------+----------+\n|       1|        101|   2025-05-01|        53|\n|       2|        102|   2025-04-30|        54|\n|       3|        103|   2025-05-20|        34|\n+--------+-----------+-------------+----------+\n\n+--------+-----------+-------------+----------+----------+\n|order_id|supplier_id|delivery_date|delay_days|is_delayed|\n+--------+-----------+-------------+----------+----------+\n|       1|        101|   2025-05-01|        53|         1|\n|       2|        102|   2025-04-30|        54|         1|\n|       3|        103|   2025-05-20|        34|         1|\n+--------+-----------+-------------+----------+----------+\n\n+--------+-----------+-------------+----------+----------+\n|order_id|supplier_id|delivery_date|delay_days|is_delayed|\n+--------+-----------+-------------+----------+----------+\n|       1|        101|   2025-05-01|        53|         1|\n|       2|        102|   2025-04-30|        54|         1|\n|       3|        103|   2025-05-20|        34|         1|\n+--------+-----------+-------------+----------+----------+\n\n"
     ]
    }
   ],
   "source": [
    "#clean and filter the data\n",
    "# Convert delivery_date to date type\n",
    "df = df.withColumn(\"delivery_date\", to_date(col(\"delivery_date\")))\n",
    "df.show()\n",
    "\n",
    "# Calculate delay_days\n",
    "df = df.withColumn(\"delay_days\", datediff(current_date(), col(\"delivery_date\")))\n",
    "df.show()\n",
    "\n",
    "# Mark delayed orders\n",
    "df = df.withColumn(\"is_delayed\", when(col(\"delay_days\") > 0, 1).otherwise(0))\n",
    "df.show()\n",
    "\n",
    "# Preview cleaned data\n",
    "df.select(\"order_id\", \"supplier_id\", \"delivery_date\", \"delay_days\", \"is_delayed\")\n",
    "df.show()"
   ]
  },
  {
   "cell_type": "code",
   "execution_count": 0,
   "metadata": {
    "application/vnd.databricks.v1+cell": {
     "cellMetadata": {
      "byteLimit": 2048000,
      "rowLimit": 10000
     },
     "inputWidgets": {},
     "nuid": "9947b75e-f19c-4e51-8c61-a831f7648b26",
     "showTitle": false,
     "tableResultSettingsMap": {},
     "title": ""
    }
   },
   "outputs": [],
   "source": [
    "#Save cleaned output as Delta or CSV\n",
    "#Delta\n",
    "df.write.mode(\"overwrite\").format(\"delta\") \\\n",
    "    .save(\"/Volumes/workspace/supplychain/supply_output/week4_cleaned_orders_delta\")\n",
    "\n",
    "#CSV\n",
    "df.write.mode(\"overwrite\").option(\"header\", \"true\") \\\n",
    "    .csv(\"/Volumes/workspace/supplychain/supply_output/week4_cleaned_orders_csv\")"
   ]
  },
  {
   "cell_type": "code",
   "execution_count": 0,
   "metadata": {
    "application/vnd.databricks.v1+cell": {
     "cellMetadata": {
      "byteLimit": 2048000,
      "rowLimit": 10000
     },
     "inputWidgets": {},
     "nuid": "bedcb84e-96d7-47f1-a424-ae3d1eedd609",
     "showTitle": false,
     "tableResultSettingsMap": {},
     "title": ""
    }
   },
   "outputs": [
    {
     "output_type": "stream",
     "name": "stdout",
     "output_type": "stream",
     "text": [
      "+-----------+-------------+\n|supplier_id|delayed_count|\n+-----------+-------------+\n|        102|            1|\n|        101|            1|\n|        103|            1|\n+-----------+-------------+\n\n"
     ]
    }
   ],
   "source": [
    "#Run basic analysis queries using SQL or PySpark\n",
    "df.createOrReplaceTempView(\"week4_cleaned_orders\")\n",
    "\n",
    "#SQL query for delayed orders count by supplier\n",
    "spark.sql(\"\"\"\n",
    "SELECT supplier_id, COUNT(*) AS delayed_count\n",
    "FROM week4_cleaned_orders\n",
    "WHERE is_delayed = 1\n",
    "GROUP BY supplier_id\n",
    "ORDER BY delayed_count DESC\n",
    "\"\"\").show()"
   ]
  }
 ],
 "metadata": {
  "application/vnd.databricks.v1+notebook": {
   "computePreferences": null,
   "dashboards": [],
   "environmentMetadata": {
    "base_environment": "",
    "environment_version": "2"
   },
   "inputWidgetPreferences": null,
   "language": "python",
   "notebookMetadata": {
    "pythonIndentUnit": 4
   },
   "notebookName": "Supply Chain Monitoring 2025-06-23 18:05:55",
   "widgets": {}
  },
  "language_info": {
   "name": "python"
  }
 },
 "nbformat": 4,
 "nbformat_minor": 0
}