{
  "nbformat": 4,
  "nbformat_minor": 0,
  "metadata": {
    "colab": {
      "provenance": [],
      "authorship_tag": "ABX9TyPLuE/3zBl1XD2UtS4Yotlc",
      "include_colab_link": true
    },
    "kernelspec": {
      "name": "python3",
      "display_name": "Python 3"
    },
    "language_info": {
      "name": "python"
    }
  },
  "cells": [
    {
      "cell_type": "markdown",
      "metadata": {
        "id": "view-in-github",
        "colab_type": "text"
      },
      "source": [
        "<a href=\"https://colab.research.google.com/github/simantinip04/Data-Engineering/blob/main/3June25.ipynb\" target=\"_parent\"><img src=\"https://colab.research.google.com/assets/colab-badge.svg\" alt=\"Open In Colab\"/></a>"
      ]
    },
    {
      "cell_type": "code",
      "source": [
        "!pip install pyspark"
      ],
      "metadata": {
        "colab": {
          "base_uri": "https://localhost:8080/"
        },
        "id": "9vISp6JISnJQ",
        "outputId": "c5c7158c-2de0-43a4-fa23-84f123c6b1f3"
      },
      "execution_count": 2,
      "outputs": [
        {
          "output_type": "stream",
          "name": "stdout",
          "text": [
            "Requirement already satisfied: pyspark in /usr/local/lib/python3.11/dist-packages (3.5.1)\n",
            "Requirement already satisfied: py4j==0.10.9.7 in /usr/local/lib/python3.11/dist-packages (from pyspark) (0.10.9.7)\n"
          ]
        }
      ]
    },
    {
      "cell_type": "code",
      "source": [
        "from google.colab import drive\n",
        "drive.mount('/content/drive')"
      ],
      "metadata": {
        "colab": {
          "base_uri": "https://localhost:8080/"
        },
        "id": "qBzaDCcgS0A-",
        "outputId": "269cd5d0-38cf-4aa3-e960-602cbc86524f"
      },
      "execution_count": 3,
      "outputs": [
        {
          "output_type": "stream",
          "name": "stdout",
          "text": [
            "Mounted at /content/drive\n"
          ]
        }
      ]
    },
    {
      "cell_type": "code",
      "source": [
        "from pyspark.sql import SparkSession\n",
        "\n",
        "# Create Spark session\n",
        "spark = SparkSession.builder.appName(\"EmployeeDataset\").getOrCreate()\n",
        "\n",
        "# Load CSV\n",
        "file_path = \"/content/drive/MyDrive/large_employee_dataset.csv\"\n",
        "df = spark.read.csv(file_path, header=True, inferSchema=True)\n",
        "\n",
        "# View schema\n",
        "df.printSchema()\n",
        "\n",
        "# Show sample data\n",
        "df.show(5)\n"
      ],
      "metadata": {
        "colab": {
          "base_uri": "https://localhost:8080/"
        },
        "id": "LXocEWc8S--3",
        "outputId": "0c4c8982-3d5d-4c18-d24f-4894908bbb5a"
      },
      "execution_count": 6,
      "outputs": [
        {
          "output_type": "stream",
          "name": "stdout",
          "text": [
            "root\n",
            " |-- EmployeeID: integer (nullable = true)\n",
            " |-- Name: string (nullable = true)\n",
            " |-- Age: integer (nullable = true)\n",
            " |-- Department: string (nullable = true)\n",
            " |-- Salary: integer (nullable = true)\n",
            " |-- JoiningDate: date (nullable = true)\n",
            " |-- Status: string (nullable = true)\n",
            " |-- City: string (nullable = true)\n",
            "\n",
            "+----------+-------------------+---+----------+------+-----------+--------+------------+\n",
            "|EmployeeID|               Name|Age|Department|Salary|JoiningDate|  Status|        City|\n",
            "+----------+-------------------+---+----------+------+-----------+--------+------------+\n",
            "|      4128|    Charles Johnson| 52|        HR| 64039| 2018-07-07|Resigned|   Allentown|\n",
            "|      6094|      Dylan Camacho| 57| Marketing| 34686| 2015-08-25|  Active| Anthonyfort|\n",
            "|      5883|Mr. Ryan Bowman Jr.| 29|   Finance| 64541| 2025-03-11|On Leave|   Gilesstad|\n",
            "|      9146|         Brian Ball| 24|     Sales| 87831| 2015-10-01|Resigned|Jenniferfurt|\n",
            "|      1918|      Angela Hooper| 26|   Finance|108773| 2019-08-14|On Leave|Lake Amystad|\n",
            "+----------+-------------------+---+----------+------+-----------+--------+------------+\n",
            "only showing top 5 rows\n",
            "\n"
          ]
        }
      ]
    },
    {
      "cell_type": "code",
      "source": [
        "#1.Top 10 rows\n",
        "df.show(10)"
      ],
      "metadata": {
        "colab": {
          "base_uri": "https://localhost:8080/"
        },
        "id": "6LZx5XjqTRL2",
        "outputId": "f194fd73-383b-4698-85c7-4983f3f54d3b"
      },
      "execution_count": 7,
      "outputs": [
        {
          "output_type": "stream",
          "name": "stdout",
          "text": [
            "+----------+--------------------+---+----------+------+-----------+--------+------------+\n",
            "|EmployeeID|                Name|Age|Department|Salary|JoiningDate|  Status|        City|\n",
            "+----------+--------------------+---+----------+------+-----------+--------+------------+\n",
            "|      4128|     Charles Johnson| 52|        HR| 64039| 2018-07-07|Resigned|   Allentown|\n",
            "|      6094|       Dylan Camacho| 57| Marketing| 34686| 2015-08-25|  Active| Anthonyfort|\n",
            "|      5883| Mr. Ryan Bowman Jr.| 29|   Finance| 64541| 2025-03-11|On Leave|   Gilesstad|\n",
            "|      9146|          Brian Ball| 24|     Sales| 87831| 2015-10-01|Resigned|Jenniferfurt|\n",
            "|      1918|       Angela Hooper| 26|   Finance|108773| 2019-08-14|On Leave|Lake Amystad|\n",
            "|      4600|Alexander Johnson...| 45|     Sales| 75671| 2016-04-21|On Leave|  Russohaven|\n",
            "|      6253|         Steven Lane| 47|   Finance| 64982| 2021-07-25|  Active| East Robert|\n",
            "|      8278|       Riley Johnson| 49|        HR| 43449| 2015-08-03|Resigned|  New Thomas|\n",
            "|      8520|    Emily Washington| 43|   Finance| 33851| 2021-11-30|Resigned| West Ashley|\n",
            "|      1298|     Valerie Fleming| 42| Marketing| 70137| 2019-12-08|Resigned| Caseborough|\n",
            "+----------+--------------------+---+----------+------+-----------+--------+------------+\n",
            "only showing top 10 rows\n",
            "\n"
          ]
        }
      ]
    },
    {
      "cell_type": "code",
      "source": [
        "#2. Count the total number of employees.\n",
        "total_employees = df.select(\"EmployeeID\").distinct().count()\n",
        "print(f\"Total number of employees: {total_employees}\")"
      ],
      "metadata": {
        "colab": {
          "base_uri": "https://localhost:8080/"
        },
        "id": "M-5WhVK4TYdy",
        "outputId": "feeba9e3-cc50-4cee-f761-82419af7020c"
      },
      "execution_count": 10,
      "outputs": [
        {
          "output_type": "stream",
          "name": "stdout",
          "text": [
            "Total number of employees: 500\n"
          ]
        }
      ]
    },
    {
      "cell_type": "code",
      "source": [
        "#3. Display unique departments.\n",
        "unique_departments = df.select(\"Department\").distinct()\n",
        "unique_departments.show()"
      ],
      "metadata": {
        "colab": {
          "base_uri": "https://localhost:8080/"
        },
        "id": "PzxeKL00TvQ-",
        "outputId": "91c7c3a9-a415-4bbb-bcbf-1ba078b6bc82"
      },
      "execution_count": 11,
      "outputs": [
        {
          "output_type": "stream",
          "name": "stdout",
          "text": [
            "+----------+\n",
            "|Department|\n",
            "+----------+\n",
            "|     Sales|\n",
            "|        HR|\n",
            "|   Finance|\n",
            "| Marketing|\n",
            "|        IT|\n",
            "+----------+\n",
            "\n"
          ]
        }
      ]
    },
    {
      "cell_type": "code",
      "source": [
        "#4. Filter all employees in the \"IT\" department.\n",
        "it_employees = df.filter(df[\"Department\"] == \"IT\")\n",
        "it_employees.show()"
      ],
      "metadata": {
        "colab": {
          "base_uri": "https://localhost:8080/"
        },
        "id": "x2fae_kzT-DT",
        "outputId": "1d73869e-b067-4ce9-8426-01d32d302895"
      },
      "execution_count": 14,
      "outputs": [
        {
          "output_type": "stream",
          "name": "stdout",
          "text": [
            "+----------+-------------------+---+----------+------+-----------+--------+------------------+\n",
            "|EmployeeID|               Name|Age|Department|Salary|JoiningDate|  Status|              City|\n",
            "+----------+-------------------+---+----------+------+-----------+--------+------------------+\n",
            "|      6598|        Mary Henson| 58|        IT| 63951| 2021-08-25|  Active|       Port Tricia|\n",
            "|      8518|   Elizabeth Abbott| 22|        IT| 91732| 2022-11-05|  Active|       Douglasside|\n",
            "|      9506|        Thomas Dunn| 45|        IT| 90340| 2020-07-12|On Leave|    Lindseychester|\n",
            "|      9663|        Glenn Mason| 43|        IT|109189| 2020-03-27|On Leave|      Katelynburgh|\n",
            "|      2106|     Richard Bailey| 45|        IT| 30950| 2021-06-29|Resigned|        North John|\n",
            "|      8212|      Jacob Jackson| 35|        IT| 54812| 2020-09-18|On Leave|South Veronicastad|\n",
            "|      6354|     Nicole Gilmore| 35|        IT|104202| 2018-05-04|  Active|       East Joseph|\n",
            "|      5716|         David Wang| 49|        IT| 94317| 2016-03-12|Resigned|          Linmouth|\n",
            "|      1181|       Joseph Clark| 33|        IT|117142| 2016-05-31|On Leave|        Carlosfurt|\n",
            "|      8302|      Debra Swanson| 47|        IT| 35236| 2023-10-25|Resigned|     Maciasborough|\n",
            "|      9542|      Jeffrey Frank| 34|        IT| 57182| 2024-01-28|On Leave|          Paulside|\n",
            "|      4100|Christopher Jimenez| 25|        IT| 65524| 2017-03-13|  Active|      North Tamara|\n",
            "|      5780|     Kevin Harrison| 26|        IT| 77259| 2024-03-28|  Active|    New Laurietown|\n",
            "|      5572|    Andrew Harrison| 42|        IT|118992| 2021-12-08|  Active|      West Matthew|\n",
            "|      6388|        Melissa Lee| 49|        IT| 74933| 2016-05-10|  Active|       Barbermouth|\n",
            "|      7984|         Paige Hall| 28|        IT| 67290| 2017-01-29|On Leave|         Jamesfort|\n",
            "|      6043|        Casey Olson| 37|        IT| 80199| 2022-01-27|  Active|         Brianland|\n",
            "|      2817|      Tony Mcdonald| 28|        IT| 92665| 2018-06-21|On Leave|       East Ashley|\n",
            "|      1982|     Jackie Herring| 37|        IT| 65014| 2023-11-13|On Leave|       Michaeltown|\n",
            "|      9259|       Shelly James| 35|        IT|106417| 2018-04-13|On Leave|  Port Laurieburgh|\n",
            "+----------+-------------------+---+----------+------+-----------+--------+------------------+\n",
            "only showing top 20 rows\n",
            "\n"
          ]
        }
      ]
    },
    {
      "cell_type": "code",
      "source": [
        "#5. Show employees aged between 30 and 40.\n",
        "employees = df.filter((df.Age >= 30) & (df.Age <= 40))\n",
        "employees.show()"
      ],
      "metadata": {
        "colab": {
          "base_uri": "https://localhost:8080/"
        },
        "id": "AgZTIyPST-Gq",
        "outputId": "f5557e55-47b4-4a2d-ac28-be542753d9f6"
      },
      "execution_count": 15,
      "outputs": [
        {
          "output_type": "stream",
          "name": "stdout",
          "text": [
            "+----------+------------------+---+----------+------+-----------+--------+-------------------+\n",
            "|EmployeeID|              Name|Age|Department|Salary|JoiningDate|  Status|               City|\n",
            "+----------+------------------+---+----------+------+-----------+--------+-------------------+\n",
            "|      4676|Christopher Fuller| 30|        HR| 63042| 2021-04-30|Resigned|   South Donnaville|\n",
            "|      4136|     Jerome Torres| 30|   Finance| 68213| 2024-11-30|  Active|North Justinborough|\n",
            "|      1588|       Edwin Burns| 34|     Sales|108208| 2015-09-14|Resigned|        South David|\n",
            "|      8074|       Fred Brewer| 30|        HR|100736| 2021-06-06|On Leave|    Port Wendyville|\n",
            "|      3841|       April Allen| 36|        HR| 98845| 2020-05-20|  Active|      Rachelchester|\n",
            "|      8212|     Jacob Jackson| 35|        IT| 54812| 2020-09-18|On Leave| South Veronicastad|\n",
            "|      3325|       Brian Huynh| 40|   Finance| 59924| 2017-01-02|On Leave|           Johnside|\n",
            "|      6180|     Robert Cortez| 35| Marketing| 76109| 2023-12-31|Resigned|    Port Katiemouth|\n",
            "|      6354|    Nicole Gilmore| 35|        IT|104202| 2018-05-04|  Active|        East Joseph|\n",
            "|      6364|       James Hogan| 33|        HR| 79932| 2023-12-05|  Active|     Rodriguezshire|\n",
            "|      6913|   Dustin Williams| 34|   Finance| 91947| 2023-10-16|On Leave|      North Stephen|\n",
            "|      3115|   Benjamin Turner| 38|        HR| 99949| 2018-03-20|Resigned|     West Hollybury|\n",
            "|      7527|      Bobby Henson| 34|   Finance| 47038| 2022-11-24|On Leave|           Dianaton|\n",
            "|      5620|  Christina Reeves| 34|   Finance| 37858| 2024-01-16|On Leave|        Hannahhaven|\n",
            "|      9939|      Karen Hansen| 37|        HR|112082| 2021-07-30|Resigned|           New Tara|\n",
            "|      6509|     Joann Frazier| 38|   Finance| 87736| 2024-01-11|Resigned|  South Sabrinaview|\n",
            "|      6340|     Kenneth Smith| 38|     Sales|115731| 2018-12-29|Resigned|        Lake Sheila|\n",
            "|      1181|      Joseph Clark| 33|        IT|117142| 2016-05-31|On Leave|         Carlosfurt|\n",
            "|      7098|     Hayley Reeves| 38|        HR|115326| 2022-03-26|  Active|          Whiteview|\n",
            "|      9542|     Jeffrey Frank| 34|        IT| 57182| 2024-01-28|On Leave|           Paulside|\n",
            "+----------+------------------+---+----------+------+-----------+--------+-------------------+\n",
            "only showing top 20 rows\n",
            "\n"
          ]
        }
      ]
    },
    {
      "cell_type": "code",
      "source": [
        "#6. Sort employees by Salary in descending order.\n",
        "sorted_employees = df.orderBy(df.Salary.desc())\n",
        "sorted_employees.show()"
      ],
      "metadata": {
        "colab": {
          "base_uri": "https://localhost:8080/"
        },
        "id": "SAotT3DZT-JU",
        "outputId": "a7b9d6a9-1127-422b-8c44-65be8b9341e4"
      },
      "execution_count": 16,
      "outputs": [
        {
          "output_type": "stream",
          "name": "stdout",
          "text": [
            "+----------+--------------------+---+----------+------+-----------+--------+-------------------+\n",
            "|EmployeeID|                Name|Age|Department|Salary|JoiningDate|  Status|               City|\n",
            "+----------+--------------------+---+----------+------+-----------+--------+-------------------+\n",
            "|      8860|       Cody Williams| 30|        IT|119978| 2019-03-16|Resigned|         Susanville|\n",
            "|      4585|      Sandra Webster| 30|        HR|119940| 2022-10-21|On Leave|       Thompsonport|\n",
            "|      4667|         Ronald Hunt| 58|     Sales|119677| 2019-08-29|Resigned|    Griffithchester|\n",
            "|      1602|    Deborah Williams| 25|        HR|119397| 2023-09-26|On Leave|    Port Terrimouth|\n",
            "|      3374|        Amanda Green| 41|        HR|119316| 2021-04-08|Resigned|    West Shelleyton|\n",
            "|      6329|       Heidi Shaffer| 36|        HR|119165| 2020-01-14|Resigned|          New Alexa|\n",
            "|      2428|        Mary Stevens| 55|     Sales|119137| 2022-03-06|On Leave|         Travisport|\n",
            "|      1545|Brittany Christensen| 57|   Finance|119038| 2020-10-25|Resigned|        Matthewside|\n",
            "|      2581|    Alexandria Jones| 34|        IT|119009| 2017-01-22|On Leave|           Toniside|\n",
            "|      5572|     Andrew Harrison| 42|        IT|118992| 2021-12-08|  Active|       West Matthew|\n",
            "|      7459|    Abigail Robinson| 23|     Sales|118959| 2021-09-23|  Active|        Leslieville|\n",
            "|      7431|    Richard Mccarthy| 41|        IT|118682| 2025-02-12|On Leave|          Welchview|\n",
            "|      5998|       Bruce Serrano| 36|        HR|118641| 2019-02-02|  Active|    South Elizabeth|\n",
            "|      9714|          Kevin Reid| 37| Marketing|118584| 2015-10-03|  Active|     New Howardfort|\n",
            "|      1143|     Stacey Schwartz| 55|   Finance|118504| 2022-01-24|  Active|Lake Michaelchester|\n",
            "|      3580|         Jamie Baker| 34| Marketing|118225| 2017-07-20|  Active|        Michaelstad|\n",
            "|      9485|        Dennis Rivas| 43| Marketing|118187| 2019-05-26|On Leave|         South Mark|\n",
            "|      1943|          Roy Willis| 41|        HR|118172| 2016-03-05|  Active|     East Daisystad|\n",
            "|      5755|        Erika Ortega| 42|        IT|117517| 2023-04-16|On Leave|          Kellyfort|\n",
            "|      7350|         Jenna Patel| 50| Marketing|117237| 2016-04-11|On Leave|         Port Brian|\n",
            "+----------+--------------------+---+----------+------+-----------+--------+-------------------+\n",
            "only showing top 20 rows\n",
            "\n"
          ]
        }
      ]
    },
    {
      "cell_type": "code",
      "source": [
        "#7. Get the average salary by department.\n",
        "average_salary_by_department = df.groupBy(\"Department\").avg(\"Salary\")\n",
        "average_salary_by_department.show()"
      ],
      "metadata": {
        "colab": {
          "base_uri": "https://localhost:8080/"
        },
        "id": "_u-ZDvvdU2Fq",
        "outputId": "b45a19bf-17e7-451a-9315-7915a26a49a5"
      },
      "execution_count": 17,
      "outputs": [
        {
          "output_type": "stream",
          "name": "stdout",
          "text": [
            "+----------+-----------------+\n",
            "|Department|      avg(Salary)|\n",
            "+----------+-----------------+\n",
            "|     Sales|77488.54545454546|\n",
            "|        HR|76091.27450980392|\n",
            "|   Finance|72834.75630252101|\n",
            "| Marketing| 71958.1888888889|\n",
            "|        IT|73116.25555555556|\n",
            "+----------+-----------------+\n",
            "\n"
          ]
        }
      ]
    },
    {
      "cell_type": "code",
      "source": [
        "#8. Count of employees by Status .\n",
        "employee_count_by_status = df.groupBy(\"Status\").count()\n",
        "employee_count_by_status.show()"
      ],
      "metadata": {
        "colab": {
          "base_uri": "https://localhost:8080/"
        },
        "id": "D-tDlO13VBU7",
        "outputId": "363a605d-36bf-48be-8ef8-4fec04ce91f5"
      },
      "execution_count": 18,
      "outputs": [
        {
          "output_type": "stream",
          "name": "stdout",
          "text": [
            "+--------+-----+\n",
            "|  Status|count|\n",
            "+--------+-----+\n",
            "|Resigned|  159|\n",
            "|  Active|  172|\n",
            "|On Leave|  169|\n",
            "+--------+-----+\n",
            "\n"
          ]
        }
      ]
    },
    {
      "cell_type": "code",
      "source": [
        "#9. Highest salary in each city.\n",
        "from pyspark.sql.functions import max\n",
        "\n",
        "highest_salary_by_city = df.groupBy(\"City\").agg(max(\"Salary\").alias(\"HighestSalary\"))\n",
        "highest_salary_by_city.show()"
      ],
      "metadata": {
        "colab": {
          "base_uri": "https://localhost:8080/"
        },
        "id": "Wp4A923lVGwG",
        "outputId": "601242c8-d4d6-4493-af06-6042021ff559"
      },
      "execution_count": 19,
      "outputs": [
        {
          "output_type": "stream",
          "name": "stdout",
          "text": [
            "+----------------+-------------+\n",
            "|            City|HighestSalary|\n",
            "+----------------+-------------+\n",
            "|   Wilsonchester|        67025|\n",
            "|     Bradshawton|       111116|\n",
            "|       Steventon|        32009|\n",
            "|     Lake Alyssa|        84903|\n",
            "|      North Lisa|        57898|\n",
            "|    North Marvin|        66252|\n",
            "|     Jenniferton|        39907|\n",
            "|     Buckleyview|        50109|\n",
            "|     Burtonville|        98492|\n",
            "|    Johnsonmouth|        48799|\n",
            "|    South Joseph|        52456|\n",
            "|  Lindseychester|        90340|\n",
            "|   North Stephen|        91947|\n",
            "|Port Nicoleshire|        57537|\n",
            "|    Jerrychester|        53374|\n",
            "|  North Jennifer|        82486|\n",
            "|      Laurenstad|        44608|\n",
            "|West Brendanbury|        90698|\n",
            "|       Juliaberg|        50170|\n",
            "|       New James|        54378|\n",
            "+----------------+-------------+\n",
            "only showing top 20 rows\n",
            "\n"
          ]
        }
      ]
    },
    {
      "cell_type": "code",
      "source": [
        "#10. Total number of employees who joined each year.\n",
        "from pyspark.sql.functions import year, to_date\n",
        "\n",
        "df = df.withColumn(\"JoinYear\", year(to_date(\"JoiningDate\", \"yyyy-MM-dd\")))\n",
        "df.groupBy(\"JoinYear\").count().show()"
      ],
      "metadata": {
        "colab": {
          "base_uri": "https://localhost:8080/"
        },
        "id": "6Vp6siCFVb48",
        "outputId": "d4bb7b43-dfa6-4b9b-ef96-14db9d3c3162"
      },
      "execution_count": 20,
      "outputs": [
        {
          "output_type": "stream",
          "name": "stdout",
          "text": [
            "+--------+-----+\n",
            "|JoinYear|count|\n",
            "+--------+-----+\n",
            "|    2025|   27|\n",
            "|    2018|   52|\n",
            "|    2015|   37|\n",
            "|    2023|   47|\n",
            "|    2022|   49|\n",
            "|    2019|   52|\n",
            "|    2020|   56|\n",
            "|    2016|   49|\n",
            "|    2024|   38|\n",
            "|    2017|   44|\n",
            "|    2021|   49|\n",
            "+--------+-----+\n",
            "\n"
          ]
        }
      ]
    },
    {
      "cell_type": "code",
      "source": [
        "#11. Department-wise count of employees who are currently \"Active\".\n",
        "active_employees_by_department = df.filter(df[\"Status\"] == \"Active\").groupBy(\"Department\").count()\n",
        "active_employees_by_department.show()"
      ],
      "metadata": {
        "colab": {
          "base_uri": "https://localhost:8080/"
        },
        "id": "A_OwivG8VocG",
        "outputId": "f8f4dea9-99c6-4143-d82d-2e54ec627285"
      },
      "execution_count": 21,
      "outputs": [
        {
          "output_type": "stream",
          "name": "stdout",
          "text": [
            "+----------+-----+\n",
            "|Department|count|\n",
            "+----------+-----+\n",
            "|     Sales|   32|\n",
            "|        HR|   37|\n",
            "|   Finance|   45|\n",
            "| Marketing|   32|\n",
            "|        IT|   26|\n",
            "+----------+-----+\n",
            "\n"
          ]
        }
      ]
    },
    {
      "cell_type": "code",
      "source": [
        "#12. Average age of employees per department.\n",
        "from pyspark.sql.functions import avg\n",
        "\n",
        "average_age_by_department = df.groupBy(\"Department\").agg(avg(\"Age\").alias(\"AverageAge\"))\n",
        "average_age_by_department.show()"
      ],
      "metadata": {
        "colab": {
          "base_uri": "https://localhost:8080/"
        },
        "id": "QeoEvdwOV1Bc",
        "outputId": "206117b8-1ef9-49d9-fa23-7b1e9199d895"
      },
      "execution_count": 23,
      "outputs": [
        {
          "output_type": "stream",
          "name": "stdout",
          "text": [
            "+----------+------------------+\n",
            "|Department|        AverageAge|\n",
            "+----------+------------------+\n",
            "|     Sales|40.535353535353536|\n",
            "|        HR| 41.46078431372549|\n",
            "|   Finance| 39.21008403361345|\n",
            "| Marketing| 41.82222222222222|\n",
            "|        IT| 38.68888888888889|\n",
            "+----------+------------------+\n",
            "\n"
          ]
        }
      ]
    },
    {
      "cell_type": "code",
      "source": [
        "#13. Create another dataset with City and Region , and join it.\n",
        "from pyspark.sql import Row\n",
        "\n",
        "# Create region DataFrame\n",
        "region_data = [\n",
        "    Row(City=\"New York\", Region=\"East\"),\n",
        "    Row(City=\"San Francisco\", Region=\"West\"),\n",
        "    Row(City=\"Chicago\", Region=\"Midwest\"),\n",
        "    Row(City=\"Austin\", Region=\"South\")\n",
        "]\n",
        "\n",
        "region_df = spark.createDataFrame(region_data)\n",
        "\n",
        "# Join on City\n",
        "joined_df = df.join(region_df, on=\"City\", how=\"left\")\n",
        "joined_df.show(5)\n"
      ],
      "metadata": {
        "colab": {
          "base_uri": "https://localhost:8080/"
        },
        "id": "0jizJulyV9rF",
        "outputId": "18cc2038-5789-48c9-b7f7-1034f860d0fb"
      },
      "execution_count": 25,
      "outputs": [
        {
          "output_type": "stream",
          "name": "stdout",
          "text": [
            "+------------+----------+-------------------+---+----------+------+-----------+--------+--------+------+\n",
            "|        City|EmployeeID|               Name|Age|Department|Salary|JoiningDate|  Status|JoinYear|Region|\n",
            "+------------+----------+-------------------+---+----------+------+-----------+--------+--------+------+\n",
            "|   Allentown|      4128|    Charles Johnson| 52|        HR| 64039| 2018-07-07|Resigned|    2018|  NULL|\n",
            "|Jenniferfurt|      9146|         Brian Ball| 24|     Sales| 87831| 2015-10-01|Resigned|    2015|  NULL|\n",
            "|   Gilesstad|      5883|Mr. Ryan Bowman Jr.| 29|   Finance| 64541| 2025-03-11|On Leave|    2025|  NULL|\n",
            "|Lake Amystad|      1918|      Angela Hooper| 26|   Finance|108773| 2019-08-14|On Leave|    2019|  NULL|\n",
            "| Anthonyfort|      6094|      Dylan Camacho| 57| Marketing| 34686| 2015-08-25|  Active|    2015|  NULL|\n",
            "+------------+----------+-------------------+---+----------+------+-----------+--------+--------+------+\n",
            "only showing top 5 rows\n",
            "\n"
          ]
        }
      ]
    },
    {
      "cell_type": "code",
      "source": [
        "#14. Group salaries by Region after the join.\n",
        "from pyspark.sql.functions import sum\n",
        "\n",
        "# Group salaries by Region\n",
        "grouped_salaries = joined_df.groupBy(\"Region\").agg(sum(\"Salary\").alias(\"TotalSalary\"))\n",
        "grouped_salaries.show()"
      ],
      "metadata": {
        "colab": {
          "base_uri": "https://localhost:8080/"
        },
        "id": "ZEdp9WeZWKgi",
        "outputId": "bd008320-a5f6-4e7e-b01c-7a49fe1dacc8"
      },
      "execution_count": 26,
      "outputs": [
        {
          "output_type": "stream",
          "name": "stdout",
          "text": [
            "+------+-----------+\n",
            "|Region|TotalSalary|\n",
            "+------+-----------+\n",
            "|  NULL|   37156712|\n",
            "+------+-----------+\n",
            "\n"
          ]
        }
      ]
    },
    {
      "cell_type": "code",
      "source": [
        "#15. Calculate years of experience for each employee (current date - JoiningDate).\n",
        "from pyspark.sql.functions import datediff, current_date, floor\n",
        "\n",
        "df = df.withColumn(\"JoiningDate\", to_date(\"JoiningDate\", \"yyyy-MM-dd\"))\n",
        "df = df.withColumn(\"YearsExperience\", floor(datediff(current_date(), \"JoiningDate\") / 365))\n",
        "df.select(\"Name\", \"YearsExperience\").show()"
      ],
      "metadata": {
        "colab": {
          "base_uri": "https://localhost:8080/"
        },
        "id": "S1KztsPkWy4E",
        "outputId": "aa277520-c131-4515-ee9b-ffb92c04488a"
      },
      "execution_count": 27,
      "outputs": [
        {
          "output_type": "stream",
          "name": "stdout",
          "text": [
            "+--------------------+---------------+\n",
            "|                Name|YearsExperience|\n",
            "+--------------------+---------------+\n",
            "|     Charles Johnson|              6|\n",
            "|       Dylan Camacho|              9|\n",
            "| Mr. Ryan Bowman Jr.|              0|\n",
            "|          Brian Ball|              9|\n",
            "|       Angela Hooper|              5|\n",
            "|Alexander Johnson...|              9|\n",
            "|         Steven Lane|              3|\n",
            "|       Riley Johnson|              9|\n",
            "|    Emily Washington|              3|\n",
            "|     Valerie Fleming|              5|\n",
            "|     Tracy Hughes MD|              5|\n",
            "|    Johnathan Harmon|              4|\n",
            "|       Michael Brown|              1|\n",
            "|       Scott Burnett|              9|\n",
            "|  Christopher Fuller|              4|\n",
            "|         Mary Henson|              3|\n",
            "|       Jerome Torres|              0|\n",
            "|     Isaiah Martinez|              3|\n",
            "|       Patrick Chung|              0|\n",
            "|        Micheal Wade|              1|\n",
            "+--------------------+---------------+\n",
            "only showing top 20 rows\n",
            "\n"
          ]
        }
      ]
    },
    {
      "cell_type": "code",
      "source": [
        "#16. List all employees with more than 5 years of experience.\n",
        "filtered_df = df.filter(df.YearsExperience > 5).select(\"Name\", \"YearsExperience\")\n",
        "filtered_df.show()"
      ],
      "metadata": {
        "colab": {
          "base_uri": "https://localhost:8080/"
        },
        "id": "U1bcqRn8W-hh",
        "outputId": "faf4c266-0988-4ab6-cff1-75cfcdbe90f9"
      },
      "execution_count": 28,
      "outputs": [
        {
          "output_type": "stream",
          "name": "stdout",
          "text": [
            "+--------------------+---------------+\n",
            "|                Name|YearsExperience|\n",
            "+--------------------+---------------+\n",
            "|     Charles Johnson|              6|\n",
            "|       Dylan Camacho|              9|\n",
            "|          Brian Ball|              9|\n",
            "|Alexander Johnson...|              9|\n",
            "|       Riley Johnson|              9|\n",
            "|       Scott Burnett|              9|\n",
            "|       Brittany Kerr|              6|\n",
            "|         Edwin Burns|              9|\n",
            "|       Mary Reynolds|              6|\n",
            "|           Erin Berg|              7|\n",
            "|         Jason Hines|              9|\n",
            "|Christopher Mcdaniel|             10|\n",
            "|      Victoria Kelly|              7|\n",
            "|      Heather Nelson|             10|\n",
            "|         Paul Porter|              7|\n",
            "|         Brian Huynh|              8|\n",
            "|          James West|              8|\n",
            "|     Cameron Shelton|              9|\n",
            "|      Nicole Gilmore|              7|\n",
            "|          David Wang|              9|\n",
            "+--------------------+---------------+\n",
            "only showing top 20 rows\n",
            "\n"
          ]
        }
      ]
    }
  ]
}