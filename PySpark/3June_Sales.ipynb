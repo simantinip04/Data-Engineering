{
  "nbformat": 4,
  "nbformat_minor": 0,
  "metadata": {
    "colab": {
      "provenance": [],
      "authorship_tag": "ABX9TyPJD+ao2N3zz9a/mmpEZi5s",
      "include_colab_link": true
    },
    "kernelspec": {
      "name": "python3",
      "display_name": "Python 3"
    },
    "language_info": {
      "name": "python"
    }
  },
  "cells": [
    {
      "cell_type": "markdown",
      "metadata": {
        "id": "view-in-github",
        "colab_type": "text"
      },
      "source": [
        "<a href=\"https://colab.research.google.com/github/simantinip04/Data-Engineering/blob/main/PySpark/3June_Sales.ipynb\" target=\"_parent\"><img src=\"https://colab.research.google.com/assets/colab-badge.svg\" alt=\"Open In Colab\"/></a>"
      ]
    },
    {
      "cell_type": "code",
      "execution_count": null,
      "metadata": {
        "colab": {
          "base_uri": "https://localhost:8080/"
        },
        "id": "bFLFR1B_TTaj",
        "outputId": "29ca6a08-a4d6-4a53-e465-cf26f99fcd20"
      },
      "outputs": [
        {
          "output_type": "stream",
          "name": "stdout",
          "text": [
            "Requirement already satisfied: pyspark in /usr/local/lib/python3.11/dist-packages (3.5.1)\n",
            "Requirement already satisfied: py4j==0.10.9.7 in /usr/local/lib/python3.11/dist-packages (from pyspark) (0.10.9.7)\n"
          ]
        }
      ],
      "source": [
        "!pip install pyspark"
      ]
    },
    {
      "cell_type": "code",
      "source": [
        "from google.colab import drive\n",
        "drive.mount('/content/drive')"
      ],
      "metadata": {
        "colab": {
          "base_uri": "https://localhost:8080/"
        },
        "id": "ZLBbCHYMTiQc",
        "outputId": "0fb8f5cb-8535-4d7c-b902-176c27fd1c2a"
      },
      "execution_count": null,
      "outputs": [
        {
          "output_type": "stream",
          "name": "stdout",
          "text": [
            "Mounted at /content/drive\n"
          ]
        }
      ]
    },
    {
      "cell_type": "code",
      "source": [
        "from pyspark.sql import SparkSession\n",
        "\n",
        "# Create Spark session\n",
        "spark = SparkSession.builder.appName(\"SalesDataset\").getOrCreate()\n",
        "\n",
        "# Load CSV\n",
        "file_path = \"/content/drive/MyDrive/Sales_Dataset__500_Records_.csv\"\n",
        "df = spark.read.csv(file_path, header=True, inferSchema=True)"
      ],
      "metadata": {
        "id": "Ot4GagL0TiXe"
      },
      "execution_count": null,
      "outputs": []
    },
    {
      "cell_type": "code",
      "source": [
        "# View schema\n",
        "df.printSchema()"
      ],
      "metadata": {
        "colab": {
          "base_uri": "https://localhost:8080/"
        },
        "id": "WryLgnc3Uyuf",
        "outputId": "c1d17396-0275-47ca-ce9c-ad7830a9e6bb"
      },
      "execution_count": null,
      "outputs": [
        {
          "output_type": "stream",
          "name": "stdout",
          "text": [
            "root\n",
            " |-- OrderID: integer (nullable = true)\n",
            " |-- CustomerName: string (nullable = true)\n",
            " |-- ProductCategory: string (nullable = true)\n",
            " |-- Amount: double (nullable = true)\n",
            " |-- OrderDate: date (nullable = true)\n",
            " |-- DeliveryStatus: string (nullable = true)\n",
            " |-- Discount: double (nullable = true)\n",
            " |-- City: string (nullable = true)\n",
            " |-- PaymentMode: string (nullable = true)\n",
            " |-- CustomerSince: date (nullable = true)\n",
            "\n"
          ]
        }
      ]
    },
    {
      "cell_type": "code",
      "source": [
        "# Show sample data(First 5)\n",
        "df.show(5)"
      ],
      "metadata": {
        "colab": {
          "base_uri": "https://localhost:8080/"
        },
        "id": "n7-2sODETiZ6",
        "outputId": "931cdd6b-eaa2-4310-9230-5472c31ea310"
      },
      "execution_count": null,
      "outputs": [
        {
          "output_type": "stream",
          "name": "stdout",
          "text": [
            "+-------+--------------+---------------+------+----------+--------------+--------+----------------+-----------+-------------+\n",
            "|OrderID|  CustomerName|ProductCategory|Amount| OrderDate|DeliveryStatus|Discount|            City|PaymentMode|CustomerSince|\n",
            "+-------+--------------+---------------+------+----------+--------------+--------+----------------+-----------+-------------+\n",
            "|   2824| Donald Walker|          Books|783.04|2024-12-26|      Returned|    0.15|    Lake Joyside|Credit Card|   2020-10-15|\n",
            "|   7912|  Brandon Hall|      Groceries| 905.0|2024-09-12|     Cancelled|    0.03|   New Jamesside|     Wallet|   2022-03-15|\n",
            "|   4611|  Donald Booth|        Fashion|657.96|2025-01-12|      Returned|    0.01|    Lake Roberto|     Wallet|   2021-08-07|\n",
            "|   3547|Phillip Garcia|        Fashion|606.89|2024-03-24|      Returned|    0.15|West Melanieview|     Wallet|   2020-08-08|\n",
            "|   8527|  Valerie Gray|           Toys| 77.87|2024-08-04|     Delivered|    0.17|       Mariastad|       Cash|   2022-11-15|\n",
            "+-------+--------------+---------------+------+----------+--------------+--------+----------------+-----------+-------------+\n",
            "only showing top 5 rows\n",
            "\n"
          ]
        }
      ]
    },
    {
      "cell_type": "code",
      "source": [
        "# Show sample data(Last 5)\n",
        "df.tail(5)"
      ],
      "metadata": {
        "colab": {
          "base_uri": "https://localhost:8080/"
        },
        "id": "60Y11S8yTico",
        "outputId": "bac10205-b645-4496-f00c-a28c718e292d"
      },
      "execution_count": null,
      "outputs": [
        {
          "output_type": "execute_result",
          "data": {
            "text/plain": [
              "[Row(OrderID=2930, CustomerName='Jaime Harris', ProductCategory='Fashion', Amount=680.0, OrderDate=datetime.date(2025, 2, 16), DeliveryStatus='Returned', Discount=0.2, City='Robertville', PaymentMode='Cash', CustomerSince=datetime.date(2021, 1, 28)),\n",
              " Row(OrderID=7980, CustomerName='Dawn Wyatt', ProductCategory='Fashion', Amount=285.32, OrderDate=datetime.date(2024, 4, 26), DeliveryStatus='Cancelled', Discount=0.06, City='Cherylfurt', PaymentMode='UPI', CustomerSince=datetime.date(2021, 4, 14)),\n",
              " Row(OrderID=7770, CustomerName='Kristin White', ProductCategory='Groceries', Amount=792.11, OrderDate=datetime.date(2024, 8, 10), DeliveryStatus='Returned', Discount=0.07, City='Kingport', PaymentMode='UPI', CustomerSince=datetime.date(2022, 11, 16)),\n",
              " Row(OrderID=6641, CustomerName='Jennifer Taylor', ProductCategory='Toys', Amount=578.49, OrderDate=datetime.date(2025, 4, 3), DeliveryStatus='Delivered', Discount=0.1, City='Lake Jerryburgh', PaymentMode='Cash', CustomerSince=datetime.date(2020, 11, 4)),\n",
              " Row(OrderID=4513, CustomerName='Rachel Owen', ProductCategory='Electronics', Amount=904.97, OrderDate=datetime.date(2024, 9, 21), DeliveryStatus='Delivered', Discount=0.12, City='East Paultown', PaymentMode='Cash', CustomerSince=datetime.date(2020, 10, 21))]"
            ]
          },
          "metadata": {},
          "execution_count": 9
        }
      ]
    },
    {
      "cell_type": "code",
      "source": [
        "#Show data types\n",
        "df.dtypes"
      ],
      "metadata": {
        "colab": {
          "base_uri": "https://localhost:8080/"
        },
        "id": "Jq0dnDx2TifB",
        "outputId": "b3cdc55d-46e0-45c9-cf06-193bfa15020b"
      },
      "execution_count": null,
      "outputs": [
        {
          "output_type": "execute_result",
          "data": {
            "text/plain": [
              "[('OrderID', 'int'),\n",
              " ('CustomerName', 'string'),\n",
              " ('ProductCategory', 'string'),\n",
              " ('Amount', 'double'),\n",
              " ('OrderDate', 'date'),\n",
              " ('DeliveryStatus', 'string'),\n",
              " ('Discount', 'double'),\n",
              " ('City', 'string'),\n",
              " ('PaymentMode', 'string'),\n",
              " ('CustomerSince', 'date')]"
            ]
          },
          "metadata": {},
          "execution_count": 10
        }
      ]
    },
    {
      "cell_type": "code",
      "source": [
        "#2 Selection, Renaming, and Filtering\n",
        "from pyspark.sql.functions import col\n",
        "\n",
        "# Select specific columns\n",
        "df_sel = df.select(\"OrderID\", \"CustomerName\", \"Amount\")\n",
        "df_sel.show(5)"
      ],
      "metadata": {
        "colab": {
          "base_uri": "https://localhost:8080/"
        },
        "id": "Xe4fnNkgTihp",
        "outputId": "4633e3c0-075a-48d7-8b48-de6c2d630e2c"
      },
      "execution_count": null,
      "outputs": [
        {
          "output_type": "stream",
          "name": "stdout",
          "text": [
            "+-------+--------------+------+\n",
            "|OrderID|  CustomerName|Amount|\n",
            "+-------+--------------+------+\n",
            "|   2824| Donald Walker|783.04|\n",
            "|   7912|  Brandon Hall| 905.0|\n",
            "|   4611|  Donald Booth|657.96|\n",
            "|   3547|Phillip Garcia|606.89|\n",
            "|   8527|  Valerie Gray| 77.87|\n",
            "+-------+--------------+------+\n",
            "only showing top 5 rows\n",
            "\n"
          ]
        }
      ]
    },
    {
      "cell_type": "code",
      "source": [
        "# Rename column\n",
        "df_renamed = df_sel.withColumnRenamed(\"Amount\", \"OrderAmount\")\n",
        "df_renamed.show(5)"
      ],
      "metadata": {
        "colab": {
          "base_uri": "https://localhost:8080/"
        },
        "id": "UDtK3aKaTij8",
        "outputId": "6bb512cb-7490-4aaa-cee6-cb6bc5499c44"
      },
      "execution_count": null,
      "outputs": [
        {
          "output_type": "stream",
          "name": "stdout",
          "text": [
            "+-------+--------------+-----------+\n",
            "|OrderID|  CustomerName|OrderAmount|\n",
            "+-------+--------------+-----------+\n",
            "|   2824| Donald Walker|     783.04|\n",
            "|   7912|  Brandon Hall|      905.0|\n",
            "|   4611|  Donald Booth|     657.96|\n",
            "|   3547|Phillip Garcia|     606.89|\n",
            "|   8527|  Valerie Gray|      77.87|\n",
            "+-------+--------------+-----------+\n",
            "only showing top 5 rows\n",
            "\n"
          ]
        }
      ]
    },
    {
      "cell_type": "code",
      "source": [
        "# Filter Amount > 500\n",
        "df_filtered = df.filter(col(\"Amount\") > 500)\n",
        "df_filtered.show(5)"
      ],
      "metadata": {
        "colab": {
          "base_uri": "https://localhost:8080/"
        },
        "id": "EuH8ax10TimR",
        "outputId": "1570aeca-655f-4ae5-bbbc-3bcfc4e19e5d"
      },
      "execution_count": null,
      "outputs": [
        {
          "output_type": "stream",
          "name": "stdout",
          "text": [
            "+-------+------------------+---------------+------+----------+--------------+--------+----------------+-----------+-------------+\n",
            "|OrderID|      CustomerName|ProductCategory|Amount| OrderDate|DeliveryStatus|Discount|            City|PaymentMode|CustomerSince|\n",
            "+-------+------------------+---------------+------+----------+--------------+--------+----------------+-----------+-------------+\n",
            "|   2824|     Donald Walker|          Books|783.04|2024-12-26|      Returned|    0.15|    Lake Joyside|Credit Card|   2020-10-15|\n",
            "|   7912|      Brandon Hall|      Groceries| 905.0|2024-09-12|     Cancelled|    0.03|   New Jamesside|     Wallet|   2022-03-15|\n",
            "|   4611|      Donald Booth|        Fashion|657.96|2025-01-12|      Returned|    0.01|    Lake Roberto|     Wallet|   2021-08-07|\n",
            "|   3547|    Phillip Garcia|        Fashion|606.89|2024-03-24|      Returned|    0.15|West Melanieview|     Wallet|   2020-08-08|\n",
            "|   6155|Jonathan Wilkerson|        Fashion|882.68|2024-10-14|     Cancelled|    0.27|      Thomasberg|       Cash|   2021-06-20|\n",
            "+-------+------------------+---------------+------+----------+--------------+--------+----------------+-----------+-------------+\n",
            "only showing top 5 rows\n",
            "\n"
          ]
        }
      ]
    },
    {
      "cell_type": "code",
      "source": [
        "# Filter by city using .filter()\n",
        "df_city = df.filter(col(\"City\") == \"New York\")\n",
        "df_city.show(5)"
      ],
      "metadata": {
        "colab": {
          "base_uri": "https://localhost:8080/"
        },
        "id": "K0Oqzvc8Tioh",
        "outputId": "c546c2bc-98ba-43aa-e31a-7c921909057d"
      },
      "execution_count": null,
      "outputs": [
        {
          "output_type": "stream",
          "name": "stdout",
          "text": [
            "+-------+------------+---------------+------+---------+--------------+--------+----+-----------+-------------+\n",
            "|OrderID|CustomerName|ProductCategory|Amount|OrderDate|DeliveryStatus|Discount|City|PaymentMode|CustomerSince|\n",
            "+-------+------------+---------------+------+---------+--------------+--------+----+-----------+-------------+\n",
            "+-------+------------+---------------+------+---------+--------------+--------+----+-----------+-------------+\n",
            "\n"
          ]
        }
      ]
    },
    {
      "cell_type": "code",
      "source": [
        "#3: Data Manipulation\n",
        "from pyspark.sql.functions import expr\n",
        "\n",
        "# Drop column\n",
        "df_drop = df.drop(\"CustomerSince\")\n",
        "df_drop.show(5)"
      ],
      "metadata": {
        "colab": {
          "base_uri": "https://localhost:8080/"
        },
        "id": "voGWW6gjTiq_",
        "outputId": "4d7c63d7-c30f-446e-a10b-dc4a5e524b14"
      },
      "execution_count": null,
      "outputs": [
        {
          "output_type": "stream",
          "name": "stdout",
          "text": [
            "+-------+--------------+---------------+------+----------+--------------+--------+----------------+-----------+\n",
            "|OrderID|  CustomerName|ProductCategory|Amount| OrderDate|DeliveryStatus|Discount|            City|PaymentMode|\n",
            "+-------+--------------+---------------+------+----------+--------------+--------+----------------+-----------+\n",
            "|   2824| Donald Walker|          Books|783.04|2024-12-26|      Returned|    0.15|    Lake Joyside|Credit Card|\n",
            "|   7912|  Brandon Hall|      Groceries| 905.0|2024-09-12|     Cancelled|    0.03|   New Jamesside|     Wallet|\n",
            "|   4611|  Donald Booth|        Fashion|657.96|2025-01-12|      Returned|    0.01|    Lake Roberto|     Wallet|\n",
            "|   3547|Phillip Garcia|        Fashion|606.89|2024-03-24|      Returned|    0.15|West Melanieview|     Wallet|\n",
            "|   8527|  Valerie Gray|           Toys| 77.87|2024-08-04|     Delivered|    0.17|       Mariastad|       Cash|\n",
            "+-------+--------------+---------------+------+----------+--------------+--------+----------------+-----------+\n",
            "only showing top 5 rows\n",
            "\n"
          ]
        }
      ]
    },
    {
      "cell_type": "code",
      "source": [
        "# Add FinalAmount column\n",
        "df_final = df.withColumn(\"FinalAmount\", col(\"Amount\") - (col(\"Amount\") * col(\"Discount\")))\n",
        "df_final.show(5)"
      ],
      "metadata": {
        "colab": {
          "base_uri": "https://localhost:8080/"
        },
        "id": "dwhZdo71TiuZ",
        "outputId": "9c7bf291-bf6e-447b-9126-7d67a292b3a4"
      },
      "execution_count": null,
      "outputs": [
        {
          "output_type": "stream",
          "name": "stdout",
          "text": [
            "+-------+--------------+---------------+------+----------+--------------+--------+----------------+-----------+-------------+-----------------+\n",
            "|OrderID|  CustomerName|ProductCategory|Amount| OrderDate|DeliveryStatus|Discount|            City|PaymentMode|CustomerSince|      FinalAmount|\n",
            "+-------+--------------+---------------+------+----------+--------------+--------+----------------+-----------+-------------+-----------------+\n",
            "|   2824| Donald Walker|          Books|783.04|2024-12-26|      Returned|    0.15|    Lake Joyside|Credit Card|   2020-10-15|          665.584|\n",
            "|   7912|  Brandon Hall|      Groceries| 905.0|2024-09-12|     Cancelled|    0.03|   New Jamesside|     Wallet|   2022-03-15|           877.85|\n",
            "|   4611|  Donald Booth|        Fashion|657.96|2025-01-12|      Returned|    0.01|    Lake Roberto|     Wallet|   2021-08-07|         651.3804|\n",
            "|   3547|Phillip Garcia|        Fashion|606.89|2024-03-24|      Returned|    0.15|West Melanieview|     Wallet|   2020-08-08|         515.8565|\n",
            "|   8527|  Valerie Gray|           Toys| 77.87|2024-08-04|     Delivered|    0.17|       Mariastad|       Cash|   2022-11-15|64.63210000000001|\n",
            "+-------+--------------+---------------+------+----------+--------------+--------+----------------+-----------+-------------+-----------------+\n",
            "only showing top 5 rows\n",
            "\n"
          ]
        }
      ]
    },
    {
      "cell_type": "code",
      "source": [
        "# Sort by FinalAmount descending\n",
        "df_sorted = df_final.orderBy(col(\"FinalAmount\").desc())\n",
        "df_sorted.show(5)"
      ],
      "metadata": {
        "colab": {
          "base_uri": "https://localhost:8080/"
        },
        "id": "NytX0jYyVuS5",
        "outputId": "fe37f160-765e-41d1-dc3a-aa2fe608451a"
      },
      "execution_count": null,
      "outputs": [
        {
          "output_type": "stream",
          "name": "stdout",
          "text": [
            "+-------+--------------+---------------+------+----------+--------------+--------+------------+-----------+-------------+-----------------+\n",
            "|OrderID|  CustomerName|ProductCategory|Amount| OrderDate|DeliveryStatus|Discount|        City|PaymentMode|CustomerSince|      FinalAmount|\n",
            "+-------+--------------+---------------+------+----------+--------------+--------+------------+-----------+-------------+-----------------+\n",
            "|   5573|Jordan Frazier|          Books|981.05|2025-03-19|     Cancelled|    0.02| Sheilaville|       Cash|   2021-07-12|          961.429|\n",
            "|   8474|   Heidi Brown|    Electronics|968.91|2023-11-23|     Cancelled|    0.02|  Riverafort|       Cash|   2023-03-19|         949.5318|\n",
            "|   8889|   Karen Garza|          Books| 998.3|2024-10-17|     Cancelled|    0.06|  Johnsonton|Credit Card|   2020-12-17|938.4019999999999|\n",
            "|   2127|  Jaclyn Moore|      Groceries|933.32|2025-03-11|      Returned|    0.01| Cherylhaven|       Cash|   2020-06-14|         923.9868|\n",
            "|   9806| Samantha Gill|      Groceries|993.17|2024-11-12|     Cancelled|    0.07|New Seanstad|     Wallet|   2020-10-01|         923.6481|\n",
            "+-------+--------------+---------------+------+----------+--------------+--------+------------+-----------+-------------+-----------------+\n",
            "only showing top 5 rows\n",
            "\n"
          ]
        }
      ]
    },
    {
      "cell_type": "code",
      "source": [
        "# Replace 'Cancelled' with 'Order Cancelled'\n",
        "df_replaced = df.withColumn(\"DeliveryStatus\", expr(\"CASE WHEN DeliveryStatus = 'Cancelled' THEN 'Order Cancelled' ELSE DeliveryStatus END\"))\n",
        "df_replaced.show(5)"
      ],
      "metadata": {
        "colab": {
          "base_uri": "https://localhost:8080/"
        },
        "id": "Kt0CyoohVuVN",
        "outputId": "6ce0555e-57d6-4505-957b-af7fa42e395f"
      },
      "execution_count": null,
      "outputs": [
        {
          "output_type": "stream",
          "name": "stdout",
          "text": [
            "+-------+--------------+---------------+------+----------+---------------+--------+----------------+-----------+-------------+\n",
            "|OrderID|  CustomerName|ProductCategory|Amount| OrderDate| DeliveryStatus|Discount|            City|PaymentMode|CustomerSince|\n",
            "+-------+--------------+---------------+------+----------+---------------+--------+----------------+-----------+-------------+\n",
            "|   2824| Donald Walker|          Books|783.04|2024-12-26|       Returned|    0.15|    Lake Joyside|Credit Card|   2020-10-15|\n",
            "|   7912|  Brandon Hall|      Groceries| 905.0|2024-09-12|Order Cancelled|    0.03|   New Jamesside|     Wallet|   2022-03-15|\n",
            "|   4611|  Donald Booth|        Fashion|657.96|2025-01-12|       Returned|    0.01|    Lake Roberto|     Wallet|   2021-08-07|\n",
            "|   3547|Phillip Garcia|        Fashion|606.89|2024-03-24|       Returned|    0.15|West Melanieview|     Wallet|   2020-08-08|\n",
            "|   8527|  Valerie Gray|           Toys| 77.87|2024-08-04|      Delivered|    0.17|       Mariastad|       Cash|   2022-11-15|\n",
            "+-------+--------------+---------------+------+----------+---------------+--------+----------------+-----------+-------------+\n",
            "only showing top 5 rows\n",
            "\n"
          ]
        }
      ]
    },
    {
      "cell_type": "code",
      "source": [
        "#4: Aggregations and GroupBy\n",
        "from pyspark.sql.functions import avg, count, sum\n",
        "\n",
        "# Count by DeliveryStatus\n",
        "df.groupBy(\"DeliveryStatus\").agg(count(\"*\").alias(\"OrderCount\")).show()"
      ],
      "metadata": {
        "colab": {
          "base_uri": "https://localhost:8080/"
        },
        "id": "KJrvoZp9VuXj",
        "outputId": "53992dcf-9a58-44f5-8028-ab73821ee602"
      },
      "execution_count": null,
      "outputs": [
        {
          "output_type": "stream",
          "name": "stdout",
          "text": [
            "+--------------+----------+\n",
            "|DeliveryStatus|OrderCount|\n",
            "+--------------+----------+\n",
            "|      Returned|       117|\n",
            "|     Cancelled|       149|\n",
            "|     Delivered|       119|\n",
            "|       Pending|       115|\n",
            "+--------------+----------+\n",
            "\n"
          ]
        }
      ]
    },
    {
      "cell_type": "code",
      "source": [
        "# Average Amount by ProductCategory\n",
        "df.groupBy(\"ProductCategory\").agg(avg(\"Amount\").alias(\"AvgAmount\")).show()"
      ],
      "metadata": {
        "colab": {
          "base_uri": "https://localhost:8080/"
        },
        "id": "hMnhG3P0VuZ3",
        "outputId": "40e64320-edd1-405b-ae6b-264cc9ba433b"
      },
      "execution_count": null,
      "outputs": [
        {
          "output_type": "stream",
          "name": "stdout",
          "text": [
            "+---------------+------------------+\n",
            "|ProductCategory|         AvgAmount|\n",
            "+---------------+------------------+\n",
            "|        Fashion| 500.6308235294116|\n",
            "|      Groceries|459.51786407766957|\n",
            "|    Electronics|           551.745|\n",
            "|          Books| 568.6003773584907|\n",
            "|           Toys| 534.2837499999999|\n",
            "+---------------+------------------+\n",
            "\n"
          ]
        }
      ]
    },
    {
      "cell_type": "code",
      "source": [
        "# Total sales by City\n",
        "df.groupBy(\"City\").agg(sum(\"Amount\").alias(\"TotalSales\")).show()"
      ],
      "metadata": {
        "colab": {
          "base_uri": "https://localhost:8080/"
        },
        "id": "B2Lcwb7TVucC",
        "outputId": "d7338f02-d66d-4488-858f-f21603bd9b5b"
      },
      "execution_count": null,
      "outputs": [
        {
          "output_type": "stream",
          "name": "stdout",
          "text": [
            "+----------------+----------+\n",
            "|            City|TotalSales|\n",
            "+----------------+----------+\n",
            "|     Ramseymouth|    761.06|\n",
            "|East Edwardshire|    291.26|\n",
            "|      Thomasberg|    882.68|\n",
            "|     Laurenville|    383.26|\n",
            "| South Colinstad|    786.27|\n",
            "|    Lake Douglas|    975.09|\n",
            "|   Williamsmouth|     10.78|\n",
            "|      Gordonport|    514.99|\n",
            "|  West Dawnmouth|      12.8|\n",
            "|        Seanbury|    814.39|\n",
            "|     Sheilaville|    981.05|\n",
            "|       Mollybury|    222.02|\n",
            "|       Lisaville|     45.69|\n",
            "| Lake Jerrymouth|    404.01|\n",
            "|       Perezfort|    917.55|\n",
            "|Port Nicoleshire|    133.78|\n",
            "|  South Samantha|    229.46|\n",
            "|     Port Willie|    788.13|\n",
            "|     Waltersfort|    552.81|\n",
            "|       Youngbury|    372.95|\n",
            "+----------------+----------+\n",
            "only showing top 20 rows\n",
            "\n"
          ]
        }
      ]
    },
    {
      "cell_type": "code",
      "source": [
        "#5: Null Handling & Update\n",
        "from pyspark.sql.functions import when\n",
        "\n",
        "# Inject nulls manually\n",
        "from pyspark.sql.functions import lit\n",
        "df_with_nulls = df.withColumn(\"City\", when(col(\"City\") == \"New York\", lit(None)).otherwise(col(\"City\")))\n",
        "df_with_nulls.show(5)"
      ],
      "metadata": {
        "colab": {
          "base_uri": "https://localhost:8080/"
        },
        "id": "N3d2H16qVueI",
        "outputId": "07dfa113-09bf-47d5-d83e-93efbf74f0aa"
      },
      "execution_count": null,
      "outputs": [
        {
          "output_type": "stream",
          "name": "stdout",
          "text": [
            "+-------+--------------+---------------+------+----------+--------------+--------+----------------+-----------+-------------+\n",
            "|OrderID|  CustomerName|ProductCategory|Amount| OrderDate|DeliveryStatus|Discount|            City|PaymentMode|CustomerSince|\n",
            "+-------+--------------+---------------+------+----------+--------------+--------+----------------+-----------+-------------+\n",
            "|   2824| Donald Walker|          Books|783.04|2024-12-26|      Returned|    0.15|    Lake Joyside|Credit Card|   2020-10-15|\n",
            "|   7912|  Brandon Hall|      Groceries| 905.0|2024-09-12|     Cancelled|    0.03|   New Jamesside|     Wallet|   2022-03-15|\n",
            "|   4611|  Donald Booth|        Fashion|657.96|2025-01-12|      Returned|    0.01|    Lake Roberto|     Wallet|   2021-08-07|\n",
            "|   3547|Phillip Garcia|        Fashion|606.89|2024-03-24|      Returned|    0.15|West Melanieview|     Wallet|   2020-08-08|\n",
            "|   8527|  Valerie Gray|           Toys| 77.87|2024-08-04|     Delivered|    0.17|       Mariastad|       Cash|   2022-11-15|\n",
            "+-------+--------------+---------------+------+----------+--------------+--------+----------------+-----------+-------------+\n",
            "only showing top 5 rows\n",
            "\n"
          ]
        }
      ]
    },
    {
      "cell_type": "code",
      "source": [
        "# Handle nulls\n",
        "df_filled = df_with_nulls.fillna({\"City\": \"Unknown\"})\n",
        "df_dropped = df_with_nulls.dropna(subset=[\"City\"])\n",
        "df_filled.show(5)\n",
        "df_dropped.show(5)"
      ],
      "metadata": {
        "colab": {
          "base_uri": "https://localhost:8080/"
        },
        "id": "Q_HWFqlRWY6A",
        "outputId": "f1c3ab26-e914-496c-839e-229b751d9f02"
      },
      "execution_count": null,
      "outputs": [
        {
          "output_type": "stream",
          "name": "stdout",
          "text": [
            "+-------+--------------+---------------+------+----------+--------------+--------+----------------+-----------+-------------+\n",
            "|OrderID|  CustomerName|ProductCategory|Amount| OrderDate|DeliveryStatus|Discount|            City|PaymentMode|CustomerSince|\n",
            "+-------+--------------+---------------+------+----------+--------------+--------+----------------+-----------+-------------+\n",
            "|   2824| Donald Walker|          Books|783.04|2024-12-26|      Returned|    0.15|    Lake Joyside|Credit Card|   2020-10-15|\n",
            "|   7912|  Brandon Hall|      Groceries| 905.0|2024-09-12|     Cancelled|    0.03|   New Jamesside|     Wallet|   2022-03-15|\n",
            "|   4611|  Donald Booth|        Fashion|657.96|2025-01-12|      Returned|    0.01|    Lake Roberto|     Wallet|   2021-08-07|\n",
            "|   3547|Phillip Garcia|        Fashion|606.89|2024-03-24|      Returned|    0.15|West Melanieview|     Wallet|   2020-08-08|\n",
            "|   8527|  Valerie Gray|           Toys| 77.87|2024-08-04|     Delivered|    0.17|       Mariastad|       Cash|   2022-11-15|\n",
            "+-------+--------------+---------------+------+----------+--------------+--------+----------------+-----------+-------------+\n",
            "only showing top 5 rows\n",
            "\n",
            "+-------+--------------+---------------+------+----------+--------------+--------+----------------+-----------+-------------+\n",
            "|OrderID|  CustomerName|ProductCategory|Amount| OrderDate|DeliveryStatus|Discount|            City|PaymentMode|CustomerSince|\n",
            "+-------+--------------+---------------+------+----------+--------------+--------+----------------+-----------+-------------+\n",
            "|   2824| Donald Walker|          Books|783.04|2024-12-26|      Returned|    0.15|    Lake Joyside|Credit Card|   2020-10-15|\n",
            "|   7912|  Brandon Hall|      Groceries| 905.0|2024-09-12|     Cancelled|    0.03|   New Jamesside|     Wallet|   2022-03-15|\n",
            "|   4611|  Donald Booth|        Fashion|657.96|2025-01-12|      Returned|    0.01|    Lake Roberto|     Wallet|   2021-08-07|\n",
            "|   3547|Phillip Garcia|        Fashion|606.89|2024-03-24|      Returned|    0.15|West Melanieview|     Wallet|   2020-08-08|\n",
            "|   8527|  Valerie Gray|           Toys| 77.87|2024-08-04|     Delivered|    0.17|       Mariastad|       Cash|   2022-11-15|\n",
            "+-------+--------------+---------------+------+----------+--------------+--------+----------------+-----------+-------------+\n",
            "only showing top 5 rows\n",
            "\n"
          ]
        }
      ]
    },
    {
      "cell_type": "code",
      "source": [
        "# Tag high-value customers\n",
        "df_tagged = df.withColumn(\"CustomerType\",\n",
        "    when(col(\"Amount\") > 800, \"High Value\").otherwise(\"Regular\"))\n",
        "df_tagged.show(5)"
      ],
      "metadata": {
        "colab": {
          "base_uri": "https://localhost:8080/"
        },
        "id": "YYVn33rEWZJd",
        "outputId": "be3f49c0-f230-4072-9900-3b9c70496d43"
      },
      "execution_count": null,
      "outputs": [
        {
          "output_type": "stream",
          "name": "stdout",
          "text": [
            "+-------+--------------+---------------+------+----------+--------------+--------+----------------+-----------+-------------+------------+\n",
            "|OrderID|  CustomerName|ProductCategory|Amount| OrderDate|DeliveryStatus|Discount|            City|PaymentMode|CustomerSince|CustomerType|\n",
            "+-------+--------------+---------------+------+----------+--------------+--------+----------------+-----------+-------------+------------+\n",
            "|   2824| Donald Walker|          Books|783.04|2024-12-26|      Returned|    0.15|    Lake Joyside|Credit Card|   2020-10-15|     Regular|\n",
            "|   7912|  Brandon Hall|      Groceries| 905.0|2024-09-12|     Cancelled|    0.03|   New Jamesside|     Wallet|   2022-03-15|  High Value|\n",
            "|   4611|  Donald Booth|        Fashion|657.96|2025-01-12|      Returned|    0.01|    Lake Roberto|     Wallet|   2021-08-07|     Regular|\n",
            "|   3547|Phillip Garcia|        Fashion|606.89|2024-03-24|      Returned|    0.15|West Melanieview|     Wallet|   2020-08-08|     Regular|\n",
            "|   8527|  Valerie Gray|           Toys| 77.87|2024-08-04|     Delivered|    0.17|       Mariastad|       Cash|   2022-11-15|     Regular|\n",
            "+-------+--------------+---------------+------+----------+--------------+--------+----------------+-----------+-------------+------------+\n",
            "only showing top 5 rows\n",
            "\n"
          ]
        }
      ]
    },
    {
      "cell_type": "code",
      "source": [
        "#6: Date & Time Functions\n",
        "from pyspark.sql.functions import year, month, datediff, current_date\n",
        "\n",
        "# Extract year and month\n",
        "df_dates = df.withColumn(\"Year\", year(col(\"OrderDate\"))).withColumn(\"Month\", month(col(\"OrderDate\")))\n",
        "df_dates.show(5)"
      ],
      "metadata": {
        "colab": {
          "base_uri": "https://localhost:8080/"
        },
        "id": "4D-z9J3JWkWF",
        "outputId": "c9625c5a-5dcd-4000-f73d-abacaea83ad4"
      },
      "execution_count": null,
      "outputs": [
        {
          "output_type": "stream",
          "name": "stdout",
          "text": [
            "+-------+--------------+---------------+------+----------+--------------+--------+----------------+-----------+-------------+----+-----+\n",
            "|OrderID|  CustomerName|ProductCategory|Amount| OrderDate|DeliveryStatus|Discount|            City|PaymentMode|CustomerSince|Year|Month|\n",
            "+-------+--------------+---------------+------+----------+--------------+--------+----------------+-----------+-------------+----+-----+\n",
            "|   2824| Donald Walker|          Books|783.04|2024-12-26|      Returned|    0.15|    Lake Joyside|Credit Card|   2020-10-15|2024|   12|\n",
            "|   7912|  Brandon Hall|      Groceries| 905.0|2024-09-12|     Cancelled|    0.03|   New Jamesside|     Wallet|   2022-03-15|2024|    9|\n",
            "|   4611|  Donald Booth|        Fashion|657.96|2025-01-12|      Returned|    0.01|    Lake Roberto|     Wallet|   2021-08-07|2025|    1|\n",
            "|   3547|Phillip Garcia|        Fashion|606.89|2024-03-24|      Returned|    0.15|West Melanieview|     Wallet|   2020-08-08|2024|    3|\n",
            "|   8527|  Valerie Gray|           Toys| 77.87|2024-08-04|     Delivered|    0.17|       Mariastad|       Cash|   2022-11-15|2024|    8|\n",
            "+-------+--------------+---------------+------+----------+--------------+--------+----------------+-----------+-------------+----+-----+\n",
            "only showing top 5 rows\n",
            "\n"
          ]
        }
      ]
    },
    {
      "cell_type": "code",
      "source": [
        "# Calculate loyalty\n",
        "df_loyalty = df.withColumn(\"LoyaltyYears\", datediff(current_date(), col(\"CustomerSince\")) / 365)\n",
        "df_loyalty.show(5)"
      ],
      "metadata": {
        "colab": {
          "base_uri": "https://localhost:8080/"
        },
        "id": "Qn-Ub1oQWkaR",
        "outputId": "721d9915-1c8a-4297-9fee-e4f62ffdadbc"
      },
      "execution_count": null,
      "outputs": [
        {
          "output_type": "stream",
          "name": "stdout",
          "text": [
            "+-------+--------------+---------------+------+----------+--------------+--------+----------------+-----------+-------------+------------------+\n",
            "|OrderID|  CustomerName|ProductCategory|Amount| OrderDate|DeliveryStatus|Discount|            City|PaymentMode|CustomerSince|      LoyaltyYears|\n",
            "+-------+--------------+---------------+------+----------+--------------+--------+----------------+-----------+-------------+------------------+\n",
            "|   2824| Donald Walker|          Books|783.04|2024-12-26|      Returned|    0.15|    Lake Joyside|Credit Card|   2020-10-15| 4.635616438356164|\n",
            "|   7912|  Brandon Hall|      Groceries| 905.0|2024-09-12|     Cancelled|    0.03|   New Jamesside|     Wallet|   2022-03-15| 3.221917808219178|\n",
            "|   4611|  Donald Booth|        Fashion|657.96|2025-01-12|      Returned|    0.01|    Lake Roberto|     Wallet|   2021-08-07| 3.824657534246575|\n",
            "|   3547|Phillip Garcia|        Fashion|606.89|2024-03-24|      Returned|    0.15|West Melanieview|     Wallet|   2020-08-08| 4.821917808219178|\n",
            "|   8527|  Valerie Gray|           Toys| 77.87|2024-08-04|     Delivered|    0.17|       Mariastad|       Cash|   2022-11-15|2.5506849315068494|\n",
            "+-------+--------------+---------------+------+----------+--------------+--------+----------------+-----------+-------------+------------------+\n",
            "only showing top 5 rows\n",
            "\n"
          ]
        }
      ]
    },
    {
      "cell_type": "code",
      "source": [
        "# 7: Joins and Unions\n",
        "# Create city-region mapping DataFrame\n",
        "city_region_data = [(\"New York\", \"East\"), (\"Los Angeles\", \"West\"), (\"Chicago\", \"Midwest\")]\n",
        "schema = [\"City\", \"Region\"]\n",
        "region_df = spark.createDataFrame(city_region_data, schema)\n",
        "region_df.show()"
      ],
      "metadata": {
        "colab": {
          "base_uri": "https://localhost:8080/"
        },
        "id": "2YlK-3aZWkdx",
        "outputId": "18f5477a-62ac-4b9a-828f-e0a48719ac07"
      },
      "execution_count": null,
      "outputs": [
        {
          "output_type": "stream",
          "name": "stdout",
          "text": [
            "+-----------+-------+\n",
            "|       City| Region|\n",
            "+-----------+-------+\n",
            "|   New York|   East|\n",
            "|Los Angeles|   West|\n",
            "|    Chicago|Midwest|\n",
            "+-----------+-------+\n",
            "\n"
          ]
        }
      ]
    },
    {
      "cell_type": "code",
      "source": [
        "# Join (inner and left)\n",
        "df_inner = df.join(region_df, on=\"City\", how=\"inner\")\n",
        "df_left = df.join(region_df, on=\"City\", how=\"left\")\n",
        "df_inner.show(5)\n",
        "df_left.show(5)"
      ],
      "metadata": {
        "colab": {
          "base_uri": "https://localhost:8080/"
        },
        "id": "943XWIL_W7TX",
        "outputId": "b5ce2ddb-3ecf-484c-a4b5-10b5fd21815b"
      },
      "execution_count": null,
      "outputs": [
        {
          "output_type": "stream",
          "name": "stdout",
          "text": [
            "+----+-------+------------+---------------+------+---------+--------------+--------+-----------+-------------+------+\n",
            "|City|OrderID|CustomerName|ProductCategory|Amount|OrderDate|DeliveryStatus|Discount|PaymentMode|CustomerSince|Region|\n",
            "+----+-------+------------+---------------+------+---------+--------------+--------+-----------+-------------+------+\n",
            "+----+-------+------------+---------------+------+---------+--------------+--------+-----------+-------------+------+\n",
            "\n",
            "+----------------+-------+--------------+---------------+------+----------+--------------+--------+-----------+-------------+------+\n",
            "|            City|OrderID|  CustomerName|ProductCategory|Amount| OrderDate|DeliveryStatus|Discount|PaymentMode|CustomerSince|Region|\n",
            "+----------------+-------+--------------+---------------+------+----------+--------------+--------+-----------+-------------+------+\n",
            "| Port Jesseville|   4150|   Amber Perez|          Books|352.37|2024-01-13|     Cancelled|    0.24|       Cash|   2022-01-13|  NULL|\n",
            "|    Lake Joyside|   2824| Donald Walker|          Books|783.04|2024-12-26|      Returned|    0.15|Credit Card|   2020-10-15|  NULL|\n",
            "|    Lake Roberto|   4611|  Donald Booth|        Fashion|657.96|2025-01-12|      Returned|    0.01|     Wallet|   2021-08-07|  NULL|\n",
            "|West Melanieview|   3547|Phillip Garcia|        Fashion|606.89|2024-03-24|      Returned|    0.15|     Wallet|   2020-08-08|  NULL|\n",
            "|   New Jamesside|   7912|  Brandon Hall|      Groceries| 905.0|2024-09-12|     Cancelled|    0.03|     Wallet|   2022-03-15|  NULL|\n",
            "+----------------+-------+--------------+---------------+------+----------+--------------+--------+-----------+-------------+------+\n",
            "only showing top 5 rows\n",
            "\n"
          ]
        }
      ]
    },
    {
      "cell_type": "code",
      "source": [
        "# Union two datasets (e.g., 2023 vs 2024)\n",
        "df_2023 = df.filter(year(col(\"OrderDate\")) == 2023)\n",
        "df_2024 = df.filter(year(col(\"OrderDate\")) == 2024)\n",
        "df_union = df_2023.union(df_2024)\n",
        "df_union.show(5)"
      ],
      "metadata": {
        "colab": {
          "base_uri": "https://localhost:8080/"
        },
        "id": "lMkQ5zWHW7V7",
        "outputId": "7d4ea61a-8a8a-4c21-b5b3-b6da27df368c"
      },
      "execution_count": null,
      "outputs": [
        {
          "output_type": "stream",
          "name": "stdout",
          "text": [
            "+-------+--------------+---------------+------+----------+--------------+--------+-----------------+-----------+-------------+\n",
            "|OrderID|  CustomerName|ProductCategory|Amount| OrderDate|DeliveryStatus|Discount|             City|PaymentMode|CustomerSince|\n",
            "+-------+--------------+---------------+------+----------+--------------+--------+-----------------+-----------+-------------+\n",
            "|   2169|Carolyn Daniel|    Electronics| 14.09|2023-10-07|     Delivered|    0.25|         Grayside|Credit Card|   2021-05-09|\n",
            "|   6313|   Patty Perez|      Groceries| 79.83|2023-06-27|     Cancelled|    0.12|      Richardland|Credit Card|   2021-04-25|\n",
            "|   2040| Kyle Mcdonald|           Toys|327.52|2023-12-15|      Returned|    0.06|Lake Jenniferside|     Wallet|   2021-07-21|\n",
            "|   6038| David Bradley|        Fashion|348.51|2023-08-03|      Returned|    0.23|    Lake Toddland|        UPI|   2022-09-07|\n",
            "|   3060|   John Pierce|           Toys|362.09|2023-12-25|      Returned|    0.03|       Brandtside|       Cash|   2023-05-09|\n",
            "+-------+--------------+---------------+------+----------+--------------+--------+-----------------+-----------+-------------+\n",
            "only showing top 5 rows\n",
            "\n"
          ]
        }
      ]
    },
    {
      "cell_type": "code",
      "source": [
        "#8: Complex JSON Simulation\n",
        "from pyspark.sql.functions import to_json, struct, from_json, explode, get_json_object\n",
        "from pyspark.sql.types import StructType, StructField, StringType, DoubleType\n",
        "\n",
        "# Convert each row to JSON\n",
        "df_json = df.withColumn(\"json_data\", to_json(struct([df[x] for x in df.columns])))\n",
        "df_json.show(5)"
      ],
      "metadata": {
        "colab": {
          "base_uri": "https://localhost:8080/"
        },
        "id": "j3TV0-IYW7YL",
        "outputId": "67722a02-2425-49f7-e62f-429ae06659c0"
      },
      "execution_count": null,
      "outputs": [
        {
          "output_type": "stream",
          "name": "stdout",
          "text": [
            "+-------+--------------+---------------+------+----------+--------------+--------+----------------+-----------+-------------+--------------------+\n",
            "|OrderID|  CustomerName|ProductCategory|Amount| OrderDate|DeliveryStatus|Discount|            City|PaymentMode|CustomerSince|           json_data|\n",
            "+-------+--------------+---------------+------+----------+--------------+--------+----------------+-----------+-------------+--------------------+\n",
            "|   2824| Donald Walker|          Books|783.04|2024-12-26|      Returned|    0.15|    Lake Joyside|Credit Card|   2020-10-15|{\"OrderID\":2824,\"...|\n",
            "|   7912|  Brandon Hall|      Groceries| 905.0|2024-09-12|     Cancelled|    0.03|   New Jamesside|     Wallet|   2022-03-15|{\"OrderID\":7912,\"...|\n",
            "|   4611|  Donald Booth|        Fashion|657.96|2025-01-12|      Returned|    0.01|    Lake Roberto|     Wallet|   2021-08-07|{\"OrderID\":4611,\"...|\n",
            "|   3547|Phillip Garcia|        Fashion|606.89|2024-03-24|      Returned|    0.15|West Melanieview|     Wallet|   2020-08-08|{\"OrderID\":3547,\"...|\n",
            "|   8527|  Valerie Gray|           Toys| 77.87|2024-08-04|     Delivered|    0.17|       Mariastad|       Cash|   2022-11-15|{\"OrderID\":8527,\"...|\n",
            "+-------+--------------+---------------+------+----------+--------------+--------+----------------+-----------+-------------+--------------------+\n",
            "only showing top 5 rows\n",
            "\n"
          ]
        }
      ]
    },
    {
      "cell_type": "code",
      "source": [
        "# Load back\n",
        "schema = df.schema  # use same schema\n",
        "df_loaded = df_json.select(from_json(col(\"json_data\"), schema).alias(\"data\")).select(\"data.*\")\n",
        "df_loaded.show(5)"
      ],
      "metadata": {
        "colab": {
          "base_uri": "https://localhost:8080/"
        },
        "id": "QHmlXAUPW7aU",
        "outputId": "807aa227-ebb9-4c32-c3b0-0370ea3e15bd"
      },
      "execution_count": null,
      "outputs": [
        {
          "output_type": "stream",
          "name": "stdout",
          "text": [
            "+-------+--------------+---------------+------+----------+--------------+--------+----------------+-----------+-------------+\n",
            "|OrderID|  CustomerName|ProductCategory|Amount| OrderDate|DeliveryStatus|Discount|            City|PaymentMode|CustomerSince|\n",
            "+-------+--------------+---------------+------+----------+--------------+--------+----------------+-----------+-------------+\n",
            "|   2824| Donald Walker|          Books|783.04|2024-12-26|      Returned|    0.15|    Lake Joyside|Credit Card|   2020-10-15|\n",
            "|   7912|  Brandon Hall|      Groceries| 905.0|2024-09-12|     Cancelled|    0.03|   New Jamesside|     Wallet|   2022-03-15|\n",
            "|   4611|  Donald Booth|        Fashion|657.96|2025-01-12|      Returned|    0.01|    Lake Roberto|     Wallet|   2021-08-07|\n",
            "|   3547|Phillip Garcia|        Fashion|606.89|2024-03-24|      Returned|    0.15|West Melanieview|     Wallet|   2020-08-08|\n",
            "|   8527|  Valerie Gray|           Toys| 77.87|2024-08-04|     Delivered|    0.17|       Mariastad|       Cash|   2022-11-15|\n",
            "+-------+--------------+---------------+------+----------+--------------+--------+----------------+-----------+-------------+\n",
            "only showing top 5 rows\n",
            "\n"
          ]
        }
      ]
    },
    {
      "cell_type": "code",
      "source": [
        "from pyspark.sql.functions import array, lit, explode\n",
        "\n",
        "#Add a dummy array column\n",
        "df_array = df.withColumn(\"PurchasedItems\", array(lit(\"ItemA\"), lit(\"ItemB\"), lit(\"ItemC\")))\n",
        "\n",
        "#Explode the array into separate rows\n",
        "df_exploded = df_array.withColumn(\"Item\", explode(\"PurchasedItems\"))\n",
        "\n",
        "#Show results\n",
        "df_exploded.select(\"OrderID\", \"CustomerName\", \"Item\").show(10, truncate=False)"
      ],
      "metadata": {
        "colab": {
          "base_uri": "https://localhost:8080/"
        },
        "id": "mEpCR-dRW7fr",
        "outputId": "1befc9af-0556-4b8e-ef6c-2724f42cf987"
      },
      "execution_count": null,
      "outputs": [
        {
          "output_type": "stream",
          "name": "stdout",
          "text": [
            "+-------+--------------+-----+\n",
            "|OrderID|CustomerName  |Item |\n",
            "+-------+--------------+-----+\n",
            "|2824   |Donald Walker |ItemA|\n",
            "|2824   |Donald Walker |ItemB|\n",
            "|2824   |Donald Walker |ItemC|\n",
            "|7912   |Brandon Hall  |ItemA|\n",
            "|7912   |Brandon Hall  |ItemB|\n",
            "|7912   |Brandon Hall  |ItemC|\n",
            "|4611   |Donald Booth  |ItemA|\n",
            "|4611   |Donald Booth  |ItemB|\n",
            "|4611   |Donald Booth  |ItemC|\n",
            "|3547   |Phillip Garcia|ItemA|\n",
            "+-------+--------------+-----+\n",
            "only showing top 10 rows\n",
            "\n"
          ]
        }
      ]
    },
    {
      "cell_type": "code",
      "source": [
        "from pyspark.sql.functions import to_json, struct, get_json_object\n",
        "\n",
        "# Create a JSON string column from existing fields\n",
        "df_json = df.withColumn(\"json_data\", to_json(struct(\"CustomerName\", \"OrderID\", \"Amount\")))\n",
        "\n",
        "df_json.select(\"json_data\").show(5, truncate=False)\n",
        "\n",
        "df_extracted = df_json.withColumn(\"ExtractedName\", get_json_object(col(\"json_data\"), \"$.CustomerName\"))\n",
        "\n",
        "df_extracted.select(\"json_data\", \"ExtractedName\").show(5, truncate=False)\n"
      ],
      "metadata": {
        "colab": {
          "base_uri": "https://localhost:8080/"
        },
        "id": "oR6uw7yKYkGb",
        "outputId": "31cb348b-ac36-40a7-e233-7d8c3fc94972"
      },
      "execution_count": null,
      "outputs": [
        {
          "output_type": "stream",
          "name": "stdout",
          "text": [
            "+----------------------------------------------------------------+\n",
            "|json_data                                                       |\n",
            "+----------------------------------------------------------------+\n",
            "|{\"CustomerName\":\"Donald Walker\",\"OrderID\":2824,\"Amount\":783.04} |\n",
            "|{\"CustomerName\":\"Brandon Hall\",\"OrderID\":7912,\"Amount\":905.0}   |\n",
            "|{\"CustomerName\":\"Donald Booth\",\"OrderID\":4611,\"Amount\":657.96}  |\n",
            "|{\"CustomerName\":\"Phillip Garcia\",\"OrderID\":3547,\"Amount\":606.89}|\n",
            "|{\"CustomerName\":\"Valerie Gray\",\"OrderID\":8527,\"Amount\":77.87}   |\n",
            "+----------------------------------------------------------------+\n",
            "only showing top 5 rows\n",
            "\n",
            "+----------------------------------------------------------------+--------------+\n",
            "|json_data                                                       |ExtractedName |\n",
            "+----------------------------------------------------------------+--------------+\n",
            "|{\"CustomerName\":\"Donald Walker\",\"OrderID\":2824,\"Amount\":783.04} |Donald Walker |\n",
            "|{\"CustomerName\":\"Brandon Hall\",\"OrderID\":7912,\"Amount\":905.0}   |Brandon Hall  |\n",
            "|{\"CustomerName\":\"Donald Booth\",\"OrderID\":4611,\"Amount\":657.96}  |Donald Booth  |\n",
            "|{\"CustomerName\":\"Phillip Garcia\",\"OrderID\":3547,\"Amount\":606.89}|Phillip Garcia|\n",
            "|{\"CustomerName\":\"Valerie Gray\",\"OrderID\":8527,\"Amount\":77.87}   |Valerie Gray  |\n",
            "+----------------------------------------------------------------+--------------+\n",
            "only showing top 5 rows\n",
            "\n"
          ]
        }
      ]
    },
    {
      "cell_type": "code",
      "source": [
        "#9: Applying Functions\n",
        "from pyspark.sql.functions import udf\n",
        "from pyspark.sql.types import StringType\n",
        "\n",
        "# UDF to tag orders\n",
        "def order_size(amount):\n",
        "    if amount >= 800:\n",
        "        return \"Big\"\n",
        "    elif amount >= 300:\n",
        "        return \"Medium\"\n",
        "    else:\n",
        "        return \"Small\"\n",
        "\n",
        "order_udf = udf(order_size, StringType())\n",
        "# Apply UDF\n",
        "df_tagged = df.withColumn(\"OrderSize\", order_udf(col(\"Amount\")))\n",
        "df_tagged.select(\"OrderID\", \"Amount\", \"OrderSize\").show()"
      ],
      "metadata": {
        "colab": {
          "base_uri": "https://localhost:8080/"
        },
        "id": "hspo1sVoYozv",
        "outputId": "1173c629-fab3-4eed-a124-801f4c1587cc"
      },
      "execution_count": null,
      "outputs": [
        {
          "output_type": "stream",
          "name": "stdout",
          "text": [
            "+-------+------+---------+\n",
            "|OrderID|Amount|OrderSize|\n",
            "+-------+------+---------+\n",
            "|   2824|783.04|   Medium|\n",
            "|   7912| 905.0|      Big|\n",
            "|   4611|657.96|   Medium|\n",
            "|   3547|606.89|   Medium|\n",
            "|   8527| 77.87|    Small|\n",
            "|   4150|352.37|   Medium|\n",
            "|   5554|148.33|    Small|\n",
            "|   2169| 14.09|    Small|\n",
            "|   6313| 79.83|    Small|\n",
            "|   6155|882.68|      Big|\n",
            "|   9830|870.55|      Big|\n",
            "|   9085|921.73|      Big|\n",
            "|   2040|327.52|   Medium|\n",
            "|   6573|676.02|   Medium|\n",
            "|   2743| 47.06|    Small|\n",
            "|   9837| 46.15|    Small|\n",
            "|   6038|348.51|   Medium|\n",
            "|   3060|362.09|   Medium|\n",
            "|   4295|684.26|   Medium|\n",
            "|   5061|251.89|    Small|\n",
            "+-------+------+---------+\n",
            "only showing top 20 rows\n",
            "\n"
          ]
        }
      ]
    }
  ]
}