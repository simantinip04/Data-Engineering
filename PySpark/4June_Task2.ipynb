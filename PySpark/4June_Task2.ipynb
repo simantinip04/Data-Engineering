{
  "nbformat": 4,
  "nbformat_minor": 0,
  "metadata": {
    "colab": {
      "provenance": [],
      "authorship_tag": "ABX9TyM3XQESHgLyjOyU8EfLS171",
      "include_colab_link": true
    },
    "kernelspec": {
      "name": "python3",
      "display_name": "Python 3"
    },
    "language_info": {
      "name": "python"
    }
  },
  "cells": [
    {
      "cell_type": "markdown",
      "metadata": {
        "id": "view-in-github",
        "colab_type": "text"
      },
      "source": [
        "<a href=\"https://colab.research.google.com/github/simantinip04/Data-Engineering/blob/main/PySpark/4June_Task2.ipynb\" target=\"_parent\"><img src=\"https://colab.research.google.com/assets/colab-badge.svg\" alt=\"Open In Colab\"/></a>"
      ]
    },
    {
      "cell_type": "code",
      "execution_count": null,
      "metadata": {
        "colab": {
          "base_uri": "https://localhost:8080/",
          "height": 219
        },
        "id": "vjiK2TaRPY_-",
        "outputId": "5d0bd2a4-b78e-4dcf-fe1b-765d142c65a2"
      },
      "outputs": [
        {
          "output_type": "execute_result",
          "data": {
            "text/plain": [
              "<pyspark.sql.session.SparkSession at 0x7f867a7dc690>"
            ],
            "text/html": [
              "\n",
              "            <div>\n",
              "                <p><b>SparkSession - in-memory</b></p>\n",
              "                \n",
              "        <div>\n",
              "            <p><b>SparkContext</b></p>\n",
              "\n",
              "            <p><a href=\"http://86fe5d9da251:4040\">Spark UI</a></p>\n",
              "\n",
              "            <dl>\n",
              "              <dt>Version</dt>\n",
              "                <dd><code>v3.5.1</code></dd>\n",
              "              <dt>Master</dt>\n",
              "                <dd><code>local[*]</code></dd>\n",
              "              <dt>AppName</dt>\n",
              "                <dd><code>PySpark_SQL</code></dd>\n",
              "            </dl>\n",
              "        </div>\n",
              "        \n",
              "            </div>\n",
              "        "
            ]
          },
          "metadata": {},
          "execution_count": 1
        }
      ],
      "source": [
        "from pyspark.sql import SparkSession\n",
        "import pandas as pd\n",
        "from io import StringIO\n",
        "\n",
        "spark=SparkSession.builder.appName(\"PySpark_SQL\").getOrCreate()\n",
        "\n",
        "spark"
      ]
    },
    {
      "cell_type": "code",
      "source": [
        "#Step 1: Data Preparation\n",
        "from pyspark.sql.functions import expr\n",
        "from datetime import datetime\n",
        "\n",
        "# Customers Data\n",
        "customers_data = [\n",
        "    (101, 'Ali', 'ali@gmail.com', 'Mumbai', '2022-05-10'),\n",
        "    (102, 'Neha', 'neha@yahoo.com', 'Delhi', '2023-01-15'),\n",
        "    (103, 'Ravi', 'ravi@hotmail.com', 'Bangalore', '2021-11-01'),\n",
        "    (104, 'Sneha', 'sneha@outlook.com', 'Hyderabad', '2020-07-22'),\n",
        "    (105, 'Amit', 'amit@gmail.com', 'Chennai', '2023-03-10'),\n",
        "]\n",
        "\n",
        "orders_data = [\n",
        "    (1, 101, 'Laptop', 'Electronics', 2, 50000.0, '2024-01-10'),\n",
        "    (2, 101, 'Mouse', 'Electronics', 1, 1200.0, '2024-01-15'),\n",
        "    (3, 102, 'Tablet', 'Electronics', 1, 20000.0, '2024-02-01'),\n",
        "    (4, 103, 'Bookshelf', 'Furniture', 1, 3500.0, '2024-02-10'),\n",
        "    (5, 104, 'Mixer', 'Appliances', 1, 5000.0, '2024-02-15'),\n",
        "    (6, 105, 'Notebook', 'Stationery', 5, 500.0, '2024-03-01'),\n",
        "    (7, 102, 'Phone', 'Electronics', 1, 30000.0, '2024-03-02'),\n",
        "]\n",
        "\n",
        "customers_df = spark.createDataFrame(customers_data, [\"CustomerID\", \"Name\", \"Email\", \"City\", \"SignupDate\"])\n",
        "orders_df = spark.createDataFrame(orders_data, [\"OrderID\", \"CustomerID\", \"Product\", \"Category\", \"Quantity\", \"Price\", \"OrderDate\"])"
      ],
      "metadata": {
        "id": "13J0SSp7PqnI"
      },
      "execution_count": null,
      "outputs": []
    },
    {
      "cell_type": "code",
      "source": [
        "#SECTION A: PySpark DataFrame Tasks\n",
        "#1. Add column TotalAmount = Price * Quantity\n",
        "from pyspark.sql.functions import col\n",
        "\n",
        "orders_df = orders_df.withColumn(\"TotalAmount\", col(\"Price\") * col(\"Quantity\"))\n",
        "orders_df.show()"
      ],
      "metadata": {
        "colab": {
          "base_uri": "https://localhost:8080/"
        },
        "id": "5gTE_gjHPqp9",
        "outputId": "93839c67-69c8-455a-f6a3-1b46d072da98"
      },
      "execution_count": null,
      "outputs": [
        {
          "output_type": "stream",
          "name": "stdout",
          "text": [
            "+-------+----------+---------+-----------+--------+-------+----------+-----------+\n",
            "|OrderID|CustomerID|  Product|   Category|Quantity|  Price| OrderDate|TotalAmount|\n",
            "+-------+----------+---------+-----------+--------+-------+----------+-----------+\n",
            "|      1|       101|   Laptop|Electronics|       2|50000.0|2024-01-10|   100000.0|\n",
            "|      2|       101|    Mouse|Electronics|       1| 1200.0|2024-01-15|     1200.0|\n",
            "|      3|       102|   Tablet|Electronics|       1|20000.0|2024-02-01|    20000.0|\n",
            "|      4|       103|Bookshelf|  Furniture|       1| 3500.0|2024-02-10|     3500.0|\n",
            "|      5|       104|    Mixer| Appliances|       1| 5000.0|2024-02-15|     5000.0|\n",
            "|      6|       105| Notebook| Stationery|       5|  500.0|2024-03-01|     2500.0|\n",
            "|      7|       102|    Phone|Electronics|       1|30000.0|2024-03-02|    30000.0|\n",
            "+-------+----------+---------+-----------+--------+-------+----------+-----------+\n",
            "\n"
          ]
        }
      ]
    },
    {
      "cell_type": "code",
      "source": [
        "#2. Filter orders with TotalAmount > 10000\n",
        "orders_df.filter(col(\"TotalAmount\") > 10000).show()"
      ],
      "metadata": {
        "colab": {
          "base_uri": "https://localhost:8080/"
        },
        "id": "A7PfAJk-Pquq",
        "outputId": "6838da2d-bc0e-4906-b9da-baa6b6e3a036"
      },
      "execution_count": null,
      "outputs": [
        {
          "output_type": "stream",
          "name": "stdout",
          "text": [
            "+-------+----------+-------+-----------+--------+-------+----------+-----------+\n",
            "|OrderID|CustomerID|Product|   Category|Quantity|  Price| OrderDate|TotalAmount|\n",
            "+-------+----------+-------+-----------+--------+-------+----------+-----------+\n",
            "|      1|       101| Laptop|Electronics|       2|50000.0|2024-01-10|   100000.0|\n",
            "|      3|       102| Tablet|Electronics|       1|20000.0|2024-02-01|    20000.0|\n",
            "|      7|       102|  Phone|Electronics|       1|30000.0|2024-03-02|    30000.0|\n",
            "+-------+----------+-------+-----------+--------+-------+----------+-----------+\n",
            "\n"
          ]
        }
      ]
    },
    {
      "cell_type": "code",
      "source": [
        "#3. Standardize City field (lowercase)\n",
        "from pyspark.sql.functions import lower\n",
        "\n",
        "customers_df = customers_df.withColumn(\"City\", lower(col(\"City\")))\n",
        "customers_df.show()"
      ],
      "metadata": {
        "colab": {
          "base_uri": "https://localhost:8080/"
        },
        "id": "7kAQlJsqQFNn",
        "outputId": "4118c4d8-d63b-4a5d-dbd5-72822d880c7e"
      },
      "execution_count": null,
      "outputs": [
        {
          "output_type": "stream",
          "name": "stdout",
          "text": [
            "+----------+-----+-----------------+---------+----------+\n",
            "|CustomerID| Name|            Email|     City|SignupDate|\n",
            "+----------+-----+-----------------+---------+----------+\n",
            "|       101|  Ali|    ali@gmail.com|   mumbai|2022-05-10|\n",
            "|       102| Neha|   neha@yahoo.com|    delhi|2023-01-15|\n",
            "|       103| Ravi| ravi@hotmail.com|bangalore|2021-11-01|\n",
            "|       104|Sneha|sneha@outlook.com|hyderabad|2020-07-22|\n",
            "|       105| Amit|   amit@gmail.com|  chennai|2023-03-10|\n",
            "+----------+-----+-----------------+---------+----------+\n",
            "\n"
          ]
        }
      ]
    },
    {
      "cell_type": "code",
      "source": [
        "#4. Extract year from OrderDate\n",
        "from pyspark.sql.functions import year, to_date\n",
        "\n",
        "orders_df = orders_df.withColumn(\"OrderYear\", year(to_date(\"OrderDate\")))\n",
        "orders_df.show()"
      ],
      "metadata": {
        "colab": {
          "base_uri": "https://localhost:8080/"
        },
        "id": "KXiGfy0IQFQL",
        "outputId": "224c61fc-e7bf-4e24-bf69-b3b1850ba9d6"
      },
      "execution_count": null,
      "outputs": [
        {
          "output_type": "stream",
          "name": "stdout",
          "text": [
            "+-------+----------+---------+-----------+--------+-------+----------+-----------+---------+\n",
            "|OrderID|CustomerID|  Product|   Category|Quantity|  Price| OrderDate|TotalAmount|OrderYear|\n",
            "+-------+----------+---------+-----------+--------+-------+----------+-----------+---------+\n",
            "|      1|       101|   Laptop|Electronics|       2|50000.0|2024-01-10|   100000.0|     2024|\n",
            "|      2|       101|    Mouse|Electronics|       1| 1200.0|2024-01-15|     1200.0|     2024|\n",
            "|      3|       102|   Tablet|Electronics|       1|20000.0|2024-02-01|    20000.0|     2024|\n",
            "|      4|       103|Bookshelf|  Furniture|       1| 3500.0|2024-02-10|     3500.0|     2024|\n",
            "|      5|       104|    Mixer| Appliances|       1| 5000.0|2024-02-15|     5000.0|     2024|\n",
            "|      6|       105| Notebook| Stationery|       5|  500.0|2024-03-01|     2500.0|     2024|\n",
            "|      7|       102|    Phone|Electronics|       1|30000.0|2024-03-02|    30000.0|     2024|\n",
            "+-------+----------+---------+-----------+--------+-------+----------+-----------+---------+\n",
            "\n"
          ]
        }
      ]
    },
    {
      "cell_type": "code",
      "source": [
        "#5. Fill null values in any column\n",
        "# Assume nulls in Category, fill with 'Unknown'\n",
        "orders_df.fillna({'Category': 'Unknown'}).show()"
      ],
      "metadata": {
        "colab": {
          "base_uri": "https://localhost:8080/"
        },
        "id": "XTESdix1QFVI",
        "outputId": "1454eef7-d7cb-4c25-b04b-0443611afefe"
      },
      "execution_count": null,
      "outputs": [
        {
          "output_type": "stream",
          "name": "stdout",
          "text": [
            "+-------+----------+---------+-----------+--------+-------+----------+-----------+---------+\n",
            "|OrderID|CustomerID|  Product|   Category|Quantity|  Price| OrderDate|TotalAmount|OrderYear|\n",
            "+-------+----------+---------+-----------+--------+-------+----------+-----------+---------+\n",
            "|      1|       101|   Laptop|Electronics|       2|50000.0|2024-01-10|   100000.0|     2024|\n",
            "|      2|       101|    Mouse|Electronics|       1| 1200.0|2024-01-15|     1200.0|     2024|\n",
            "|      3|       102|   Tablet|Electronics|       1|20000.0|2024-02-01|    20000.0|     2024|\n",
            "|      4|       103|Bookshelf|  Furniture|       1| 3500.0|2024-02-10|     3500.0|     2024|\n",
            "|      5|       104|    Mixer| Appliances|       1| 5000.0|2024-02-15|     5000.0|     2024|\n",
            "|      6|       105| Notebook| Stationery|       5|  500.0|2024-03-01|     2500.0|     2024|\n",
            "|      7|       102|    Phone|Electronics|       1|30000.0|2024-03-02|    30000.0|     2024|\n",
            "+-------+----------+---------+-----------+--------+-------+----------+-----------+---------+\n",
            "\n"
          ]
        }
      ]
    },
    {
      "cell_type": "code",
      "source": [
        "#6. Categorize orders by TotalAmount\n",
        "from pyspark.sql.functions import when\n",
        "\n",
        "orders_df = orders_df.withColumn(\"AmountCategory\",\n",
        "    when(col(\"TotalAmount\") < 5000, \"Low\")\n",
        "    .when((col(\"TotalAmount\") >= 5000) & (col(\"TotalAmount\") <= 20000), \"Medium\")\n",
        "    .otherwise(\"High\")\n",
        ")\n",
        "orders_df.show()"
      ],
      "metadata": {
        "colab": {
          "base_uri": "https://localhost:8080/"
        },
        "id": "-h__XvCIQFXW",
        "outputId": "df01b0fb-d7ab-4773-aff1-987a777bb1cd"
      },
      "execution_count": null,
      "outputs": [
        {
          "output_type": "stream",
          "name": "stdout",
          "text": [
            "+-------+----------+---------+-----------+--------+-------+----------+-----------+---------+--------------+\n",
            "|OrderID|CustomerID|  Product|   Category|Quantity|  Price| OrderDate|TotalAmount|OrderYear|AmountCategory|\n",
            "+-------+----------+---------+-----------+--------+-------+----------+-----------+---------+--------------+\n",
            "|      1|       101|   Laptop|Electronics|       2|50000.0|2024-01-10|   100000.0|     2024|          High|\n",
            "|      2|       101|    Mouse|Electronics|       1| 1200.0|2024-01-15|     1200.0|     2024|           Low|\n",
            "|      3|       102|   Tablet|Electronics|       1|20000.0|2024-02-01|    20000.0|     2024|        Medium|\n",
            "|      4|       103|Bookshelf|  Furniture|       1| 3500.0|2024-02-10|     3500.0|     2024|           Low|\n",
            "|      5|       104|    Mixer| Appliances|       1| 5000.0|2024-02-15|     5000.0|     2024|        Medium|\n",
            "|      6|       105| Notebook| Stationery|       5|  500.0|2024-03-01|     2500.0|     2024|           Low|\n",
            "|      7|       102|    Phone|Electronics|       1|30000.0|2024-03-02|    30000.0|     2024|          High|\n",
            "+-------+----------+---------+-----------+--------+-------+----------+-----------+---------+--------------+\n",
            "\n"
          ]
        }
      ]
    },
    {
      "cell_type": "code",
      "source": [
        "# SECTION B: Spark SQL Tasks\n",
        "customers_df.createOrReplaceTempView(\"customers\")\n",
        "orders_df.createOrReplaceTempView(\"orders\")"
      ],
      "metadata": {
        "id": "ekU6s5FUQFZl"
      },
      "execution_count": null,
      "outputs": []
    },
    {
      "cell_type": "code",
      "source": [
        "#7. All orders by “Ali”\n",
        "spark.sql(\"\"\"\n",
        "SELECT * FROM orders\n",
        "WHERE CustomerID IN (SELECT CustomerID FROM customers WHERE Name = 'Ali')\n",
        "\"\"\").show()"
      ],
      "metadata": {
        "colab": {
          "base_uri": "https://localhost:8080/"
        },
        "id": "_6mWAdAqQFcC",
        "outputId": "908ebed5-523d-40ef-a024-788b97e116ea"
      },
      "execution_count": null,
      "outputs": [
        {
          "output_type": "stream",
          "name": "stdout",
          "text": [
            "+-------+----------+-------+-----------+--------+-------+----------+-----------+---------+--------------+\n",
            "|OrderID|CustomerID|Product|   Category|Quantity|  Price| OrderDate|TotalAmount|OrderYear|AmountCategory|\n",
            "+-------+----------+-------+-----------+--------+-------+----------+-----------+---------+--------------+\n",
            "|      1|       101| Laptop|Electronics|       2|50000.0|2024-01-10|   100000.0|     2024|          High|\n",
            "|      2|       101|  Mouse|Electronics|       1| 1200.0|2024-01-15|     1200.0|     2024|           Low|\n",
            "+-------+----------+-------+-----------+--------+-------+----------+-----------+---------+--------------+\n",
            "\n"
          ]
        }
      ]
    },
    {
      "cell_type": "code",
      "source": [
        "#8. Total spending by each customer\n",
        "spark.sql(\"\"\"\n",
        "SELECT CustomerID, SUM(TotalAmount) AS TotalSpent\n",
        "FROM orders\n",
        "GROUP BY CustomerID\n",
        "\"\"\").show()"
      ],
      "metadata": {
        "colab": {
          "base_uri": "https://localhost:8080/"
        },
        "id": "yIvJFxLXQFeC",
        "outputId": "668abcca-573b-4537-ee99-3c7b0966fc6e"
      },
      "execution_count": null,
      "outputs": [
        {
          "output_type": "stream",
          "name": "stdout",
          "text": [
            "+----------+----------+\n",
            "|CustomerID|TotalSpent|\n",
            "+----------+----------+\n",
            "|       101|  101200.0|\n",
            "|       102|   50000.0|\n",
            "|       103|    3500.0|\n",
            "|       104|    5000.0|\n",
            "|       105|    2500.0|\n",
            "+----------+----------+\n",
            "\n"
          ]
        }
      ]
    },
    {
      "cell_type": "code",
      "source": [
        "#9. Category with highest revenue\n",
        "spark.sql(\"\"\"\n",
        "SELECT Category, SUM(TotalAmount) AS Revenue\n",
        "FROM orders\n",
        "GROUP BY Category\n",
        "ORDER BY Revenue DESC\n",
        "LIMIT 1\n",
        "\"\"\").show()"
      ],
      "metadata": {
        "colab": {
          "base_uri": "https://localhost:8080/"
        },
        "id": "6S-s2uNdQFhu",
        "outputId": "d8dea07f-0fc9-4f8a-e574-4cdd0d390e86"
      },
      "execution_count": null,
      "outputs": [
        {
          "output_type": "stream",
          "name": "stdout",
          "text": [
            "+-----------+--------+\n",
            "|   Category| Revenue|\n",
            "+-----------+--------+\n",
            "|Electronics|151200.0|\n",
            "+-----------+--------+\n",
            "\n"
          ]
        }
      ]
    },
    {
      "cell_type": "code",
      "source": [
        "#10. Create view: customer_orders\n",
        "spark.sql(\"\"\"\n",
        "CREATE OR REPLACE TEMP VIEW customer_orders AS\n",
        "SELECT c.Name AS CustomerName, o.Product, o.TotalAmount\n",
        "FROM customers c\n",
        "JOIN orders o ON c.CustomerID = o.CustomerID\n",
        "\"\"\")"
      ],
      "metadata": {
        "colab": {
          "base_uri": "https://localhost:8080/"
        },
        "id": "u8spMo4fQ5U-",
        "outputId": "8ccb2d93-0377-4647-d829-e311dca88e44"
      },
      "execution_count": null,
      "outputs": [
        {
          "output_type": "execute_result",
          "data": {
            "text/plain": [
              "DataFrame[]"
            ]
          },
          "metadata": {},
          "execution_count": 13
        }
      ]
    },
    {
      "cell_type": "code",
      "source": [
        "#11. Query view: Products ordered after Feb 2024\n",
        "spark.sql(\"\"\"\n",
        "    SELECT c.CustomerName, o.Product, o.TotalAmount\n",
        "    FROM customer_orders c\n",
        "    JOIN orders o ON c.Product = o.Product AND c.CustomerName = c.CustomerName\n",
        "    WHERE o.OrderDate > '2024-02-01'\n",
        "\"\"\").show()"
      ],
      "metadata": {
        "colab": {
          "base_uri": "https://localhost:8080/"
        },
        "id": "kAtW5pDHQ5XY",
        "outputId": "21fa22ef-2119-43ff-8ac3-1047f8841a56"
      },
      "execution_count": null,
      "outputs": [
        {
          "output_type": "stream",
          "name": "stdout",
          "text": [
            "+------------+---------+-----------+\n",
            "|CustomerName|  Product|TotalAmount|\n",
            "+------------+---------+-----------+\n",
            "|        Neha|    Phone|    30000.0|\n",
            "|        Ravi|Bookshelf|     3500.0|\n",
            "|        Amit| Notebook|     2500.0|\n",
            "|       Sneha|    Mixer|     5000.0|\n",
            "+------------+---------+-----------+\n",
            "\n"
          ]
        }
      ]
    },
    {
      "cell_type": "code",
      "source": [
        "#12. Global Temp View and Query'\n",
        "customers_df.createOrReplaceGlobalTempView(\"customers\")\n",
        "spark.sql(\"SELECT * FROM global_temp.customers WHERE City = 'mumbai'\").show()"
      ],
      "metadata": {
        "colab": {
          "base_uri": "https://localhost:8080/"
        },
        "id": "z3OsJtY2Q5hr",
        "outputId": "04600f6e-69a4-489e-c5b7-f7e5e43061bf"
      },
      "execution_count": null,
      "outputs": [
        {
          "output_type": "stream",
          "name": "stdout",
          "text": [
            "+----------+----+-------------+------+----------+\n",
            "|CustomerID|Name|        Email|  City|SignupDate|\n",
            "+----------+----+-------------+------+----------+\n",
            "|       101| Ali|ali@gmail.com|mumbai|2022-05-10|\n",
            "+----------+----+-------------+------+----------+\n",
            "\n"
          ]
        }
      ]
    },
    {
      "cell_type": "code",
      "source": [
        "#13. Save transformed orders_df to Parquet\n",
        "orders_df.write.mode(\"overwrite\").parquet(\"/content/orders_parquet\")"
      ],
      "metadata": {
        "id": "d-7h-A_zQ5kX"
      },
      "execution_count": null,
      "outputs": []
    },
    {
      "cell_type": "code",
      "source": [
        "#14. Read back and count rows\n",
        "read_df = spark.read.parquet(\"/content/orders_parquet\")\n",
        "read_df.count()"
      ],
      "metadata": {
        "colab": {
          "base_uri": "https://localhost:8080/"
        },
        "id": "aBPPw555Q5mo",
        "outputId": "95f16eb9-3a20-4ca8-e924-eff7328986fc"
      },
      "execution_count": null,
      "outputs": [
        {
          "output_type": "execute_result",
          "data": {
            "text/plain": [
              "7"
            ]
          },
          "metadata": {},
          "execution_count": 22
        }
      ]
    },
    {
      "cell_type": "code",
      "source": [
        "# SECTION D: UDF + Built-in Functions\n",
        "#15. UDF: Mask emails\n",
        "from pyspark.sql.functions import udf\n",
        "from pyspark.sql.types import StringType\n",
        "\n",
        "def mask_email(email):\n",
        "    name, domain = email.split('@')\n",
        "    return name[0] + \"***@\" + domain\n",
        "\n",
        "mask_email_udf = udf(mask_email, StringType())\n",
        "customers_df.withColumn(\"MaskedEmail\", mask_email_udf(\"Email\")).show()"
      ],
      "metadata": {
        "colab": {
          "base_uri": "https://localhost:8080/"
        },
        "id": "uzjlMMm1Q5oq",
        "outputId": "f5e8fdfe-68ca-4ff6-b5e5-528dcf1f02ee"
      },
      "execution_count": null,
      "outputs": [
        {
          "output_type": "stream",
          "name": "stdout",
          "text": [
            "+----------+-----+-----------------+---------+----------+----------------+\n",
            "|CustomerID| Name|            Email|     City|SignupDate|     MaskedEmail|\n",
            "+----------+-----+-----------------+---------+----------+----------------+\n",
            "|       101|  Ali|    ali@gmail.com|   mumbai|2022-05-10|  a***@gmail.com|\n",
            "|       102| Neha|   neha@yahoo.com|    delhi|2023-01-15|  n***@yahoo.com|\n",
            "|       103| Ravi| ravi@hotmail.com|bangalore|2021-11-01|r***@hotmail.com|\n",
            "|       104|Sneha|sneha@outlook.com|hyderabad|2020-07-22|s***@outlook.com|\n",
            "|       105| Amit|   amit@gmail.com|  chennai|2023-03-10|  a***@gmail.com|\n",
            "+----------+-----+-----------------+---------+----------+----------------+\n",
            "\n"
          ]
        }
      ]
    },
    {
      "cell_type": "code",
      "source": [
        "#16. concat_ws() to create label\n",
        "from pyspark.sql.functions import concat_ws\n",
        "\n",
        "customers_df.withColumn(\"Label\", concat_ws(\" from \", \"Name\", \"City\")).show()"
      ],
      "metadata": {
        "colab": {
          "base_uri": "https://localhost:8080/"
        },
        "id": "k6hQ6yQbQ5rJ",
        "outputId": "12327c68-cebb-4c7c-a569-03986d681b88"
      },
      "execution_count": null,
      "outputs": [
        {
          "output_type": "stream",
          "name": "stdout",
          "text": [
            "+----------+-----+-----------------+---------+----------+--------------------+\n",
            "|CustomerID| Name|            Email|     City|SignupDate|               Label|\n",
            "+----------+-----+-----------------+---------+----------+--------------------+\n",
            "|       101|  Ali|    ali@gmail.com|   mumbai|2022-05-10|     Ali from mumbai|\n",
            "|       102| Neha|   neha@yahoo.com|    delhi|2023-01-15|     Neha from delhi|\n",
            "|       103| Ravi| ravi@hotmail.com|bangalore|2021-11-01| Ravi from bangalore|\n",
            "|       104|Sneha|sneha@outlook.com|hyderabad|2020-07-22|Sneha from hyderabad|\n",
            "|       105| Amit|   amit@gmail.com|  chennai|2023-03-10|   Amit from chennai|\n",
            "+----------+-----+-----------------+---------+----------+--------------------+\n",
            "\n"
          ]
        }
      ]
    },
    {
      "cell_type": "code",
      "source": [
        "#17. regexp_replace() to clean product names\n",
        "from pyspark.sql.functions import regexp_replace\n",
        "\n",
        "orders_df.withColumn(\"CleanProduct\", regexp_replace(\"Product\", \"[^a-zA-Z0-9]\", \"\")).show()"
      ],
      "metadata": {
        "colab": {
          "base_uri": "https://localhost:8080/"
        },
        "id": "nTRfUu9DRyHr",
        "outputId": "31f12d0c-0767-43cf-eea3-95bb7eacd55b"
      },
      "execution_count": null,
      "outputs": [
        {
          "output_type": "stream",
          "name": "stdout",
          "text": [
            "+-------+----------+---------+-----------+--------+-------+----------+-----------+---------+--------------+------------+\n",
            "|OrderID|CustomerID|  Product|   Category|Quantity|  Price| OrderDate|TotalAmount|OrderYear|AmountCategory|CleanProduct|\n",
            "+-------+----------+---------+-----------+--------+-------+----------+-----------+---------+--------------+------------+\n",
            "|      1|       101|   Laptop|Electronics|       2|50000.0|2024-01-10|   100000.0|     2024|          High|      Laptop|\n",
            "|      2|       101|    Mouse|Electronics|       1| 1200.0|2024-01-15|     1200.0|     2024|           Low|       Mouse|\n",
            "|      3|       102|   Tablet|Electronics|       1|20000.0|2024-02-01|    20000.0|     2024|        Medium|      Tablet|\n",
            "|      4|       103|Bookshelf|  Furniture|       1| 3500.0|2024-02-10|     3500.0|     2024|           Low|   Bookshelf|\n",
            "|      5|       104|    Mixer| Appliances|       1| 5000.0|2024-02-15|     5000.0|     2024|        Medium|       Mixer|\n",
            "|      6|       105| Notebook| Stationery|       5|  500.0|2024-03-01|     2500.0|     2024|           Low|    Notebook|\n",
            "|      7|       102|    Phone|Electronics|       1|30000.0|2024-03-02|    30000.0|     2024|          High|       Phone|\n",
            "+-------+----------+---------+-----------+--------+-------+----------+-----------+---------+--------------+------------+\n",
            "\n"
          ]
        }
      ]
    },
    {
      "cell_type": "code",
      "source": [
        "#18. datediff() to get age in days from SignupDate\n",
        "from pyspark.sql.functions import to_date, current_date, datediff\n",
        "\n",
        "customers_df.withColumn(\"SignupDaysAgo\",\n",
        "    datediff(current_date(), to_date(\"SignupDate\"))\n",
        ").show()"
      ],
      "metadata": {
        "colab": {
          "base_uri": "https://localhost:8080/"
        },
        "id": "ZH_C6uqCQ5tX",
        "outputId": "30cbc352-081f-41ce-840a-7d0c3fec89cb"
      },
      "execution_count": null,
      "outputs": [
        {
          "output_type": "stream",
          "name": "stdout",
          "text": [
            "+----------+-----+-----------------+---------+----------+-------------+\n",
            "|CustomerID| Name|            Email|     City|SignupDate|SignupDaysAgo|\n",
            "+----------+-----+-----------------+---------+----------+-------------+\n",
            "|       101|  Ali|    ali@gmail.com|   mumbai|2022-05-10|         1121|\n",
            "|       102| Neha|   neha@yahoo.com|    delhi|2023-01-15|          871|\n",
            "|       103| Ravi| ravi@hotmail.com|bangalore|2021-11-01|         1311|\n",
            "|       104|Sneha|sneha@outlook.com|hyderabad|2020-07-22|         1778|\n",
            "|       105| Amit|   amit@gmail.com|  chennai|2023-03-10|          817|\n",
            "+----------+-----+-----------------+---------+----------+-------------+\n",
            "\n"
          ]
        }
      ]
    }
  ]
}