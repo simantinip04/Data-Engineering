{
 "cells": [
  {
   "cell_type": "code",
   "execution_count": 0,
   "metadata": {
    "application/vnd.databricks.v1+cell": {
     "cellMetadata": {
      "byteLimit": 2048000,
      "rowLimit": 10000
     },
     "inputWidgets": {},
     "nuid": "2bea8e5e-8258-4de4-bd19-baf340d85de9",
     "showTitle": false,
     "tableResultSettingsMap": {},
     "title": ""
    }
   },
   "outputs": [
    {
     "output_type": "execute_result",
     "data": {
      "text/html": [
       "\n",
       "            <div>\n",
       "                <p><b>SparkSession - hive</b></p>\n",
       "                \n",
       "        <div>\n",
       "            <p><b>SparkContext</b></p>\n",
       "\n",
       "            <p><a href=\"/?o=4054280922637182#setting/sparkui/0611-041854-oedbfkos/driver-1142430808340423200\">Spark UI</a></p>\n",
       "\n",
       "            <dl>\n",
       "              <dt>Version</dt>\n",
       "                <dd><code>v3.5.0</code></dd>\n",
       "              <dt>Master</dt>\n",
       "                <dd><code>local[*, 4]</code></dd>\n",
       "              <dt>AppName</dt>\n",
       "                <dd><code>Databricks Shell</code></dd>\n",
       "            </dl>\n",
       "        </div>\n",
       "        \n",
       "            </div>\n",
       "        "
      ],
      "text/plain": [
       "<pyspark.sql.session.SparkSession at 0x7186ee3e4c90>"
      ]
     },
     "execution_count": 2,
     "metadata": {},
     "output_type": "execute_result"
    }
   ],
   "source": [
    "from pyspark.sql import SparkSession\n",
    "\n",
    "spark = SparkSession.builder\\\n",
    "        .appName(\"WebTraffic PySpark\")\\\n",
    "        .getOrCreate()\n",
    "\n",
    "spark"
   ]
  },
  {
   "cell_type": "code",
   "execution_count": 0,
   "metadata": {
    "application/vnd.databricks.v1+cell": {
     "cellMetadata": {
      "byteLimit": 2048000,
      "rowLimit": 10000
     },
     "inputWidgets": {},
     "nuid": "0286acf6-e103-4492-9fc9-736a8db353b3",
     "showTitle": false,
     "tableResultSettingsMap": {},
     "title": ""
    }
   },
   "outputs": [
    {
     "output_type": "stream",
     "name": "stdout",
     "output_type": "stream",
     "text": [
      "+------+--------+-------------------+--------+-------+-------+\n|UserID|Page    |Timestamp          |Duration|Device |Country|\n+------+--------+-------------------+--------+-------+-------+\n|1     |Home    |2024-04-10 10:00:00|35      |Mobile |India  |\n|2     |Products|2024-04-10 10:02:00|120     |Desktop|USA    |\n|3     |Cart    |2024-04-10 10:05:00|45      |Tablet |UK     |\n|1     |Checkout|2024-04-10 10:08:00|60      |Mobile |India  |\n|4     |Home    |2024-04-10 10:10:00|15      |Mobile |Canada |\n|2     |Contact |2024-04-10 10:15:00|25      |Desktop|USA    |\n|5     |Products|2024-04-10 10:20:00|90      |Desktop|India  |\n+------+--------+-------------------+--------+-------+-------+\n\n"
     ]
    }
   ],
   "source": [
    "from datetime import datetime\n",
    "from pyspark.sql import Row\n",
    "\n",
    "web_data = [\n",
    "Row(UserID=1, Page=\"Home\", Timestamp=\"2024-04-10 10:00:00\", Duration=35,\n",
    "Device=\"Mobile\", Country=\"India\"),\n",
    "Row(UserID=2, Page=\"Products\", Timestamp=\"2024-04-10 10:02:00\", Duration=120,\n",
    "Device=\"Desktop\", Country=\"USA\"),\n",
    "Row(UserID=3, Page=\"Cart\", Timestamp=\"2024-04-10 10:05:00\", Duration=45,\n",
    "Device=\"Tablet\", Country=\"UK\"),\n",
    "Row(UserID=1, Page=\"Checkout\", Timestamp=\"2024-04-10 10:08:00\", Duration=60,\n",
    "Device=\"Mobile\", Country=\"India\"),\n",
    "Row(UserID=4, Page=\"Home\", Timestamp=\"2024-04-10 10:10:00\", Duration=15,\n",
    "Device=\"Mobile\", Country=\"Canada\"),\n",
    "Row(UserID=2, Page=\"Contact\", Timestamp=\"2024-04-10 10:15:00\", Duration=25,\n",
    "Device=\"Desktop\", Country=\"USA\"),\n",
    "Row(UserID=5, Page=\"Products\", Timestamp=\"2024-04-10 10:20:00\", Duration=90,\n",
    "Device=\"Desktop\", Country=\"India\"),\n",
    "]\n",
    "\n",
    "df_web = spark.createDataFrame(web_data)\n",
    "df_web.show(truncate=False)"
   ]
  },
  {
   "cell_type": "code",
   "execution_count": 0,
   "metadata": {
    "application/vnd.databricks.v1+cell": {
     "cellMetadata": {
      "byteLimit": 2048000,
      "rowLimit": 10000
     },
     "inputWidgets": {},
     "nuid": "fefcdc4e-e661-4703-b73f-0daed00d6653",
     "showTitle": false,
     "tableResultSettingsMap": {},
     "title": ""
    }
   },
   "outputs": [
    {
     "output_type": "stream",
     "name": "stdout",
     "output_type": "stream",
     "text": [
      "root\n |-- UserID: long (nullable = true)\n |-- Page: string (nullable = true)\n |-- Timestamp: timestamp (nullable = true)\n |-- Duration: long (nullable = true)\n |-- Device: string (nullable = true)\n |-- Country: string (nullable = true)\n |-- SessionMinute: integer (nullable = true)\n\n+------+--------+-------------------+--------+-------+-------+-------------+\n|UserID|Page    |Timestamp          |Duration|Device |Country|SessionMinute|\n+------+--------+-------------------+--------+-------+-------+-------------+\n|1     |Home    |2024-04-10 10:00:00|35      |Mobile |India  |0            |\n|2     |Products|2024-04-10 10:02:00|120     |Desktop|USA    |2            |\n|3     |Cart    |2024-04-10 10:05:00|45      |Tablet |UK     |5            |\n|1     |Checkout|2024-04-10 10:08:00|60      |Mobile |India  |8            |\n|4     |Home    |2024-04-10 10:10:00|15      |Mobile |Canada |10           |\n|2     |Contact |2024-04-10 10:15:00|25      |Desktop|USA    |15           |\n|5     |Products|2024-04-10 10:20:00|90      |Desktop|India  |20           |\n+------+--------+-------------------+--------+-------+-------+-------------+\n\n+------+--------+-------------------+--------+-------+-------+-------------+\n|UserID|    Page|          Timestamp|Duration| Device|Country|SessionMinute|\n+------+--------+-------------------+--------+-------+-------+-------------+\n|     1|    Home|2024-04-10 10:00:00|      35| Mobile|  India|            0|\n|     2|Products|2024-04-10 10:02:00|     120|Desktop|    USA|            2|\n|     3|    Cart|2024-04-10 10:05:00|      45| Tablet|     UK|            5|\n|     1|Checkout|2024-04-10 10:08:00|      60| Mobile|  India|            8|\n|     4|    Home|2024-04-10 10:10:00|      15| Mobile| Canada|           10|\n|     2| Contact|2024-04-10 10:15:00|      25|Desktop|    USA|           15|\n|     5|Products|2024-04-10 10:20:00|      90|Desktop|  India|           20|\n+------+--------+-------------------+--------+-------+-------+-------------+\n\n"
     ]
    }
   ],
   "source": [
    "#PySpark Exercises – Set 5 (Web Traffic Data)\n",
    "#Data Exploration & Preparation\n",
    "from datetime import datetime\n",
    "from pyspark.sql.functions import to_timestamp, minute\n",
    "\n",
    "# 1. Display the schema of web_traffic_data .\n",
    "df_web.printSchema()\n",
    "\n",
    "# 2. Convert the Timestamp column to a proper timestamp type.\n",
    "df_web = df_web.withColumn(\"Timestamp\", to_timestamp(\"Timestamp\", \"yyyy-MM-dd HH:mm:ss\"))\n",
    "df_web.show(truncate=False)\n",
    "\n",
    "# 3. Add a new column SessionMinute by extracting the minute from the Timestamp .\n",
    "df_web = df_web.withColumn(\"SessionMinute\", minute(\"Timestamp\"))\n",
    "df_web.show()"
   ]
  },
  {
   "cell_type": "code",
   "execution_count": 0,
   "metadata": {
    "application/vnd.databricks.v1+cell": {
     "cellMetadata": {
      "byteLimit": 2048000,
      "rowLimit": 10000
     },
     "inputWidgets": {},
     "nuid": "b60247a8-07f8-42fd-bff1-aca9428db7c0",
     "showTitle": false,
     "tableResultSettingsMap": {},
     "title": ""
    }
   },
   "outputs": [
    {
     "output_type": "stream",
     "name": "stdout",
     "output_type": "stream",
     "text": [
      "+------+--------+-------------------+--------+------+-------+-------------+\n|UserID|    Page|          Timestamp|Duration|Device|Country|SessionMinute|\n+------+--------+-------------------+--------+------+-------+-------------+\n|     1|Checkout|2024-04-10 10:08:00|      60|Mobile|  India|            8|\n+------+--------+-------------------+--------+------+-------+-------------+\n\n+------+--------+-------------------+--------+-------+-------+-------------+\n|UserID|    Page|          Timestamp|Duration| Device|Country|SessionMinute|\n+------+--------+-------------------+--------+-------+-------+-------------+\n|     2|Products|2024-04-10 10:02:00|     120|Desktop|    USA|            2|\n|     5|Products|2024-04-10 10:20:00|      90|Desktop|  India|           20|\n+------+--------+-------------------+--------+-------+-------+-------------+\n\n+------+--------+-------------------+--------+-------+-------+-------------+\n|UserID|    Page|          Timestamp|Duration| Device|Country|SessionMinute|\n+------+--------+-------------------+--------+-------+-------+-------------+\n|     5|Products|2024-04-10 10:20:00|      90|Desktop|  India|           20|\n+------+--------+-------------------+--------+-------+-------+-------------+\n\n"
     ]
    }
   ],
   "source": [
    "#Filtering and Conditions\n",
    "from pyspark.sql.functions import col\n",
    "# 4. Filter users who used a \"Mobile\" device and visited the \"Checkout\" page.\n",
    "df_web.filter((col(\"Device\") == \"Mobile\") & (col(\"Page\") == \"Checkout\")).show()\n",
    "\n",
    "# 5. Show all entries with a Duration greater than 60 seconds.\n",
    "df_web.filter(col(\"Duration\") > 60).show()\n",
    "\n",
    "# 6. Find all users from India who visited the \"Products\" page.\n",
    "df_web.filter((col(\"Country\") == \"India\") & (col(\"Page\") == \"Products\")).show()"
   ]
  },
  {
   "cell_type": "code",
   "execution_count": 0,
   "metadata": {
    "application/vnd.databricks.v1+cell": {
     "cellMetadata": {
      "byteLimit": 2048000,
      "rowLimit": 10000
     },
     "inputWidgets": {},
     "nuid": "97b79d92-e1c7-4f17-9c11-674ab49de03f",
     "showTitle": false,
     "tableResultSettingsMap": {},
     "title": ""
    }
   },
   "outputs": [
    {
     "output_type": "stream",
     "name": "stdout",
     "output_type": "stream",
     "text": [
      "+-------+------------------+\n| Device|       AvgDuration|\n+-------+------------------+\n| Mobile|36.666666666666664|\n| Tablet|              45.0|\n|Desktop| 78.33333333333333|\n+-------+------------------+\n\n+-------+------------+\n|Country|SessionCount|\n+-------+------------+\n|  India|           3|\n|    USA|           2|\n|     UK|           1|\n| Canada|           1|\n+-------+------------+\n\n+----+-----+\n|Page|count|\n+----+-----+\n|Home|    2|\n+----+-----+\n\n"
     ]
    }
   ],
   "source": [
    "#Aggregation and Grouping\n",
    "from pyspark.sql.functions import avg, desc\n",
    "# 7. Get the average duration per device type.\n",
    "df_web.groupBy(\"Device\").agg(avg(\"Duration\").alias(\"AvgDuration\")).show()\n",
    "\n",
    "# 8. Count the number of sessions per country.\n",
    "df_web.groupBy(\"Country\").count().withColumnRenamed(\"count\", \"SessionCount\").show()\n",
    "\n",
    "# 9. Find the most visited page overall.\n",
    "df_web.groupBy(\"Page\").count().orderBy(desc(\"count\")).limit(1).show()"
   ]
  },
  {
   "cell_type": "code",
   "execution_count": 0,
   "metadata": {
    "application/vnd.databricks.v1+cell": {
     "cellMetadata": {
      "byteLimit": 2048000,
      "rowLimit": 10000
     },
     "inputWidgets": {},
     "nuid": "1baaed35-68df-42eb-891a-319a98256d6f",
     "showTitle": false,
     "tableResultSettingsMap": {},
     "title": ""
    }
   },
   "outputs": [
    {
     "output_type": "stream",
     "name": "stdout",
     "output_type": "stream",
     "text": [
      "+------+--------+-------------------+--------+-------+-------+-------------+----+\n|UserID|    Page|          Timestamp|Duration| Device|Country|SessionMinute|Rank|\n+------+--------+-------------------+--------+-------+-------+-------------+----+\n|     1|    Home|2024-04-10 10:00:00|      35| Mobile|  India|            0|   1|\n|     1|Checkout|2024-04-10 10:08:00|      60| Mobile|  India|            8|   2|\n|     2|Products|2024-04-10 10:02:00|     120|Desktop|    USA|            2|   1|\n|     2| Contact|2024-04-10 10:15:00|      25|Desktop|    USA|           15|   2|\n|     3|    Cart|2024-04-10 10:05:00|      45| Tablet|     UK|            5|   1|\n|     4|    Home|2024-04-10 10:10:00|      15| Mobile| Canada|           10|   1|\n|     5|Products|2024-04-10 10:20:00|      90|Desktop|  India|           20|   1|\n+------+--------+-------------------+--------+-------+-------+-------------+----+\n\n+------+-------------+\n|UserID|TotalDuration|\n+------+-------------+\n|     1|           95|\n|     3|           45|\n|     2|          145|\n|     4|           15|\n|     5|           90|\n+------+-------------+\n\n"
     ]
    }
   ],
   "source": [
    "# Window Functions\n",
    "from pyspark.sql.window import Window\n",
    "from pyspark.sql.functions import row_number, sum\n",
    "# 10. Rank each user’s pages by timestamp (oldest to newest).\n",
    "windowSpec = Window.partitionBy(\"UserID\").orderBy(\"Timestamp\")\n",
    "df_web.withColumn(\"Rank\", row_number().over(windowSpec)).show()\n",
    "\n",
    "# 11. Find the total duration of all sessions per user using groupBy .\n",
    "df_web.groupBy(\"UserID\").agg(sum(\"Duration\").alias(\"TotalDuration\")).show()"
   ]
  },
  {
   "cell_type": "code",
   "execution_count": 0,
   "metadata": {
    "application/vnd.databricks.v1+cell": {
     "cellMetadata": {
      "byteLimit": 2048000,
      "rowLimit": 10000
     },
     "inputWidgets": {},
     "nuid": "53623608-48b0-4881-86c5-90fc9d03b026",
     "showTitle": false,
     "tableResultSettingsMap": {},
     "title": ""
    }
   },
   "outputs": [
    {
     "output_type": "stream",
     "name": "stdout",
     "output_type": "stream",
     "text": [
      "+------+--------+-------------------+--------+-------+-------+-------------+\n|UserID|    Page|          Timestamp|Duration| Device|Country|SessionMinute|\n+------+--------+-------------------+--------+-------+-------+-------------+\n|     2|Products|2024-04-10 10:02:00|     120|Desktop|    USA|            2|\n|     5|Products|2024-04-10 10:20:00|      90|Desktop|  India|           20|\n+------+--------+-------------------+--------+-------+-------+-------------+\n\n+--------+-----------+\n|    Page|UniqueUsers|\n+--------+-----------+\n|    Cart|          1|\n|    Home|          2|\n|Checkout|          1|\n|Products|          2|\n| Contact|          1|\n+--------+-----------+\n\n"
     ]
    }
   ],
   "source": [
    "#Spark SQL Tasks\n",
    "# 12. Create a temporary view called traffic_view .\n",
    "df_web.createOrReplaceTempView(\"traffic_view\")\n",
    "\n",
    "# 13. Write a SQL query to get the top 2 longest sessions by duration.\n",
    "spark.sql(\"\"\"\n",
    "    SELECT * FROM traffic_view\n",
    "    ORDER BY Duration DESC\n",
    "    LIMIT 2\n",
    "\"\"\").show()\n",
    "\n",
    "# 14. Get the number of unique users per page using SQL.\n",
    "spark.sql(\"\"\"\n",
    "    SELECT Page, COUNT(DISTINCT UserID) AS UniqueUsers\n",
    "    FROM traffic_view\n",
    "    GROUP BY Page\n",
    "\"\"\").show()"
   ]
  },
  {
   "cell_type": "code",
   "execution_count": 0,
   "metadata": {
    "application/vnd.databricks.v1+cell": {
     "cellMetadata": {
      "byteLimit": 2048000,
      "rowLimit": 10000
     },
     "inputWidgets": {},
     "nuid": "af869a05-5886-4ec1-8c62-df30a3beb668",
     "showTitle": false,
     "tableResultSettingsMap": {},
     "title": ""
    }
   },
   "outputs": [],
   "source": [
    "#Export & Save\n",
    "# 15. Save the final DataFrame to CSV.\n",
    "df_web.write.option(\"header\", True).mode(\"overwrite\").csv(\"dbfs:/tmp/web_data_csv_output\")\n",
    "\n",
    "# 16. Save partitioned by Country in Parquet format.\n",
    "df_web.write.mode(\"overwrite\").partitionBy(\"Country\").parquet(\"dbfs:/tmp/web_data_parquet_output\")"
   ]
  }
 ],
 "metadata": {
  "application/vnd.databricks.v1+notebook": {
   "computePreferences": null,
   "dashboards": [],
   "environmentMetadata": {
    "base_environment": "",
    "environment_version": "2"
   },
   "inputWidgetPreferences": null,
   "language": "python",
   "notebookMetadata": {
    "pythonIndentUnit": 4
   },
   "notebookName": "WebTraffic_PySpark_Databricks 2025-06-12 11:48:21",
   "widgets": {}
  },
  "language_info": {
   "name": "python"
  }
 },
 "nbformat": 4,
 "nbformat_minor": 0
}