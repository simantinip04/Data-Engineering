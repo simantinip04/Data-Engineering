{
 "cells": [
  {
   "cell_type": "code",
   "execution_count": 0,
   "metadata": {
    "application/vnd.databricks.v1+cell": {
     "cellMetadata": {
      "byteLimit": 2048000,
      "rowLimit": 10000
     },
     "inputWidgets": {},
     "nuid": "07bda7ab-fdc6-4f74-ab77-3b0c8dea1fb0",
     "showTitle": false,
     "tableResultSettingsMap": {},
     "title": ""
    }
   },
   "outputs": [
    {
     "output_type": "execute_result",
     "data": {
      "text/html": [
       "\n",
       "            <div>\n",
       "                <p><b>SparkSession - hive</b></p>\n",
       "                \n",
       "        <div>\n",
       "            <p><b>SparkContext</b></p>\n",
       "\n",
       "            <p><a href=\"/?o=4054280922637182#setting/sparkui/0611-041854-oedbfkos/driver-1142430808340423200\">Spark UI</a></p>\n",
       "\n",
       "            <dl>\n",
       "              <dt>Version</dt>\n",
       "                <dd><code>v3.5.0</code></dd>\n",
       "              <dt>Master</dt>\n",
       "                <dd><code>local[*, 4]</code></dd>\n",
       "              <dt>AppName</dt>\n",
       "                <dd><code>Databricks Shell</code></dd>\n",
       "            </dl>\n",
       "        </div>\n",
       "        \n",
       "            </div>\n",
       "        "
      ],
      "text/plain": [
       "<pyspark.sql.session.SparkSession at 0x760b085b9d10>"
      ]
     },
     "execution_count": 2,
     "metadata": {},
     "output_type": "execute_result"
    }
   ],
   "source": [
    "from pyspark.sql import SparkSession\n",
    "\n",
    "spark = SparkSession.builder\\\n",
    "        .appName(\"Sales PySpark\")\\\n",
    "        .getOrCreate()\n",
    "\n",
    "spark"
   ]
  },
  {
   "cell_type": "code",
   "execution_count": 0,
   "metadata": {
    "application/vnd.databricks.v1+cell": {
     "cellMetadata": {
      "byteLimit": 2048000,
      "rowLimit": 10000
     },
     "inputWidgets": {},
     "nuid": "4e9c54f4-24fd-4956-b731-e4b0b1e273ee",
     "showTitle": false,
     "tableResultSettingsMap": {},
     "title": ""
    }
   },
   "outputs": [
    {
     "output_type": "stream",
     "name": "stdout",
     "output_type": "stream",
     "text": [
      "+-------+--------+--------------------------------------------------------------+------+------+\n|OrderID|Customer|Items                                                         |Region|Amount|\n+-------+--------+--------------------------------------------------------------+------+------+\n|101    |Ali     |[{Product -> Laptop, Qty -> 1}, {Product -> Mouse, Qty -> 2}] |Asia  |1200.0|\n|102    |Zara    |[{Product -> Tablet, Qty -> 1}]                               |Europe|650.0 |\n|103    |Mohan   |[{Product -> Phone, Qty -> 2}, {Product -> Charger, Qty -> 1}]|Asia  |890.0 |\n|104    |Sara    |[{Product -> Desk, Qty -> 1}]                                 |US    |450.0 |\n+-------+--------+--------------------------------------------------------------+------+------+\n\n"
     ]
    }
   ],
   "source": [
    "from pyspark.sql import Row\n",
    "\n",
    "# Sample data\n",
    "data = [\n",
    "    Row(OrderID=101, Customer=\"Ali\", Items=[{\"Product\":\"Laptop\", \"Qty\":1}, {\"Product\":\"Mouse\", \"Qty\":2}], Region=\"Asia\", Amount=1200.0),\n",
    "    Row(OrderID=102, Customer=\"Zara\", Items=[{\"Product\":\"Tablet\", \"Qty\":1}], Region=\"Europe\", Amount=650.0),\n",
    "    Row(OrderID=103, Customer=\"Mohan\", Items=[{\"Product\":\"Phone\", \"Qty\":2}, {\"Product\":\"Charger\", \"Qty\":1}], Region=\"Asia\", Amount=890.0),\n",
    "    Row(OrderID=104, Customer=\"Sara\", Items=[{\"Product\":\"Desk\", \"Qty\":1}], Region=\"US\", Amount=450.0)\n",
    "]\n",
    "\n",
    "# Create DataFrame\n",
    "df_sales = spark.createDataFrame(data)\n",
    "df_sales.show(truncate=False)"
   ]
  },
  {
   "cell_type": "code",
   "execution_count": 0,
   "metadata": {
    "application/vnd.databricks.v1+cell": {
     "cellMetadata": {
      "byteLimit": 2048000,
      "rowLimit": 10000
     },
     "inputWidgets": {},
     "nuid": "dc9cdd36-b3b4-4453-91f9-ad98f6702ca0",
     "showTitle": false,
     "tableResultSettingsMap": {},
     "title": ""
    }
   },
   "outputs": [
    {
     "output_type": "stream",
     "name": "stdout",
     "output_type": "stream",
     "text": [
      "+-------+--------+------+------+-------+--------+\n|OrderID|Customer|Region|Amount|Product|Quantity|\n+-------+--------+------+------+-------+--------+\n|    101|     Ali|  Asia|1200.0| Laptop|       1|\n|    101|     Ali|  Asia|1200.0|  Mouse|       2|\n|    102|    Zara|Europe| 650.0| Tablet|       1|\n|    103|   Mohan|  Asia| 890.0|  Phone|       2|\n|    103|   Mohan|  Asia| 890.0|Charger|       1|\n|    104|    Sara|    US| 450.0|   Desk|       1|\n+-------+--------+------+------+-------+--------+\n\n+-------+--------+\n|Product|TotalQty|\n+-------+--------+\n| Laptop|       1|\n|  Mouse|       2|\n| Tablet|       1|\n|  Phone|       2|\n|Charger|       1|\n|   Desk|       1|\n+-------+--------+\n\n+------+-----+\n|Region|count|\n+------+-----+\n|  Asia|    2|\n|Europe|    1|\n|    US|    1|\n+------+-----+\n\n"
     ]
    }
   ],
   "source": [
    "#PySpark Exercises – Set 4 (SQL, JSON, Advanced Functions)\n",
    "#Working with JSON & Nested Fields\n",
    "# 1. Flatten the Items array using explode() to create one row per product.\n",
    "from pyspark.sql.functions import explode, col\n",
    "\n",
    "df_flat = df_sales.withColumn(\"Item\", explode(\"Items\")) \\\n",
    "                  .select(\"OrderID\", \"Customer\", \"Region\", \"Amount\",\n",
    "                          col(\"Item.Product\").alias(\"Product\"),\n",
    "                          col(\"Item.Qty\").alias(\"Quantity\"))\n",
    "df_flat.show()\n",
    "\n",
    "# 2. Count total quantity sold per product.\n",
    "from pyspark.sql.types import IntegerType\n",
    "df_flat = df_flat.withColumn(\"Quantity\", col(\"Quantity\").cast(IntegerType()))\n",
    "df_flat.groupBy(\"Product\").sum(\"Quantity\") \\\n",
    "    .withColumnRenamed(\"sum(Quantity)\", \"TotalQty\").show()\n",
    "\n",
    "# 3. Count number of orders per region.\n",
    "df_sales.groupBy(\"Region\").count().show()"
   ]
  },
  {
   "cell_type": "code",
   "execution_count": 0,
   "metadata": {
    "application/vnd.databricks.v1+cell": {
     "cellMetadata": {
      "byteLimit": 2048000,
      "rowLimit": 10000
     },
     "inputWidgets": {},
     "nuid": "8aa9741c-0f39-42b2-9b46-13624d97c0f3",
     "showTitle": false,
     "tableResultSettingsMap": {},
     "title": ""
    }
   },
   "outputs": [
    {
     "output_type": "stream",
     "name": "stdout",
     "output_type": "stream",
     "text": [
      "+-------+------+--------------+\n|OrderID|Amount|HighValueOrder|\n+-------+------+--------------+\n|    101|1200.0|           Yes|\n|    102| 650.0|            No|\n|    103| 890.0|            No|\n|    104| 450.0|            No|\n+-------+------+--------------+\n\n+-------+------+------------+\n|OrderID|Region|ShippingZone|\n+-------+------+------------+\n|    101|  Asia|      Zone A|\n|    102|Europe|      Zone B|\n|    103|  Asia|      Zone A|\n|    104|    US|      Zone C|\n+-------+------+------------+\n\n"
     ]
    }
   ],
   "source": [
    "#Using when and otherwise\n",
    "# 4. Create a new column HighValueOrder :\n",
    "#         \"Yes\" if Amount > 1000\n",
    "#         \"No\" otherwise\n",
    "from pyspark.sql.functions import when\n",
    "\n",
    "df_sales = df_sales.withColumn(\"HighValueOrder\", when(col(\"Amount\") > 1000, \"Yes\").otherwise(\"No\"))\n",
    "df_sales.select(\"OrderID\", \"Amount\", \"HighValueOrder\").show()\n",
    "\n",
    "# 5. Add a column ShippingZone :\n",
    "#     Asia → \"Zone A\", Europe → \"Zone B\", US → \"Zone C\"\n",
    "df_sales = df_sales.withColumn(\n",
    "    \"ShippingZone\",\n",
    "    when(col(\"Region\") == \"Asia\", \"Zone A\")\n",
    "    .when(col(\"Region\") == \"Europe\", \"Zone B\")\n",
    "    .when(col(\"Region\") == \"US\", \"Zone C\")\n",
    "    .otherwise(\"Other\")\n",
    ")\n",
    "df_sales.select(\"OrderID\", \"Region\", \"ShippingZone\").show()"
   ]
  },
  {
   "cell_type": "code",
   "execution_count": 0,
   "metadata": {
    "application/vnd.databricks.v1+cell": {
     "cellMetadata": {
      "byteLimit": 2048000,
      "rowLimit": 10000
     },
     "inputWidgets": {},
     "nuid": "c0a5e30a-b142-4b6e-ad68-31975e28430a",
     "showTitle": false,
     "tableResultSettingsMap": {},
     "title": ""
    }
   },
   "outputs": [
    {
     "output_type": "stream",
     "name": "stdout",
     "output_type": "stream",
     "text": [
      "+------+----------+---------+\n|Region|OrderCount|AvgAmount|\n+------+----------+---------+\n|  Asia|         2|   1045.0|\n|Europe|         1|    650.0|\n|    US|         1|    450.0|\n+------+----------+---------+\n\n"
     ]
    }
   ],
   "source": [
    "#Temporary & Permanent Views\n",
    "# 6. Register df_sales as a temporary view named sales_view .\n",
    "df_sales.createOrReplaceTempView(\"sales_view\")\n",
    "\n",
    "# 7. Write a SQL query to:\n",
    "# Count orders by Region\n",
    "# Find average amount per region\n",
    "spark.sql(\"\"\"\n",
    "    SELECT Region, COUNT(*) AS OrderCount, ROUND(AVG(Amount), 2) AS AvgAmount\n",
    "    FROM sales_view\n",
    "    GROUP BY Region\n",
    "\"\"\").show()\n",
    "\n",
    "# 8. Create a permanent view using saveAsTable() .\n",
    "df_sales.write.mode(\"overwrite\").saveAsTable(\"sales_permanent_view\")"
   ]
  },
  {
   "cell_type": "code",
   "execution_count": 0,
   "metadata": {
    "application/vnd.databricks.v1+cell": {
     "cellMetadata": {
      "byteLimit": 2048000,
      "rowLimit": 10000
     },
     "inputWidgets": {},
     "nuid": "3f3c5b56-46b0-44e6-b727-84113321c858",
     "showTitle": false,
     "tableResultSettingsMap": {},
     "title": ""
    }
   },
   "outputs": [
    {
     "output_type": "stream",
     "name": "stdout",
     "output_type": "stream",
     "text": [
      "+-------+--------+--------------------------------------------------------------+------+------+--------------+------------+\n|OrderID|Customer|Items                                                         |Region|Amount|HighValueOrder|ShippingZone|\n+-------+--------+--------------------------------------------------------------+------+------+--------------+------------+\n|101    |Ali     |[{Product -> Laptop, Qty -> 1}, {Product -> Mouse, Qty -> 2}] |Asia  |1200.0|Yes           |Zone A      |\n|103    |Mohan   |[{Product -> Phone, Qty -> 2}, {Product -> Charger, Qty -> 1}]|Asia  |890.0 |No            |Zone A      |\n+-------+--------+--------------------------------------------------------------+------+------+--------------+------------+\n\n+--------+\n|Customer|\n+--------+\n|     Ali|\n|   Mohan|\n+--------+\n\n"
     ]
    }
   ],
   "source": [
    "# SQL Queries via Spark\n",
    "# 9. Use SQL to filter all orders with more than 1 item.\n",
    "spark.sql(\"\"\"\n",
    "    SELECT * FROM sales_view WHERE size(Items) > 1\n",
    "\"\"\").show(truncate=False)\n",
    "\n",
    "# 10. Use SQL to extract customer names where Amount > 800.\n",
    "spark.sql(\"\"\"\n",
    "    SELECT Customer FROM sales_view WHERE Amount > 800\n",
    "\"\"\").show()"
   ]
  },
  {
   "cell_type": "code",
   "execution_count": 0,
   "metadata": {
    "application/vnd.databricks.v1+cell": {
     "cellMetadata": {
      "byteLimit": 2048000,
      "rowLimit": 10000
     },
     "inputWidgets": {},
     "nuid": "1efdfef3-a75a-4e9d-9f2b-8cf3c86a8ab8",
     "showTitle": false,
     "tableResultSettingsMap": {},
     "title": ""
    }
   },
   "outputs": [
    {
     "output_type": "stream",
     "name": "stdout",
     "output_type": "stream",
     "text": [
      "+-------+--------+\n|Product|TotalQty|\n+-------+--------+\n|  Phone|       2|\n|Charger|       1|\n| Laptop|       1|\n|  Mouse|       2|\n| Tablet|       1|\n|   Desk|       1|\n+-------+--------+\n\n"
     ]
    }
   ],
   "source": [
    "# Saving as Parquet and Reading Again\n",
    "# 11. Save the exploded product-level DataFrame as a partitioned Parquet file by Region .\n",
    "df_flat.write.mode(\"overwrite\").partitionBy(\"Region\").parquet(\"/tmp/sales_parquet\")\n",
    "\n",
    "# 12. Read the parquet back and perform a group-by on Product .\n",
    "df_parquet = spark.read.parquet(\"/tmp/sales_parquet\")\n",
    "df_parquet.groupBy(\"Product\").sum(\"Quantity\").withColumnRenamed(\"sum(Quantity)\", \"TotalQty\").show()"
   ]
  }
 ],
 "metadata": {
  "application/vnd.databricks.v1+notebook": {
   "computePreferences": null,
   "dashboards": [],
   "environmentMetadata": {
    "base_environment": "",
    "environment_version": "2"
   },
   "inputWidgetPreferences": null,
   "language": "python",
   "notebookMetadata": {
    "pythonIndentUnit": 4
   },
   "notebookName": "Sales_PySpark_Databricks 2025-06-12 11:16:45",
   "widgets": {}
  },
  "language_info": {
   "name": "python"
  }
 },
 "nbformat": 4,
 "nbformat_minor": 0
}