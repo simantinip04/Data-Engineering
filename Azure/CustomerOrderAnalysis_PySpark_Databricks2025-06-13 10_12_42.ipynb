{
 "cells": [
  {
   "cell_type": "code",
   "execution_count": 0,
   "metadata": {
    "application/vnd.databricks.v1+cell": {
     "cellMetadata": {
      "byteLimit": 2048000,
      "rowLimit": 10000
     },
     "inputWidgets": {},
     "nuid": "56288349-ef53-4d4c-a48c-48ab88ac8a22",
     "showTitle": false,
     "tableResultSettingsMap": {},
     "title": ""
    }
   },
   "outputs": [
    {
     "output_type": "execute_result",
     "data": {
      "text/html": [
       "\n",
       "            <div>\n",
       "                <p><b>SparkSession - hive</b></p>\n",
       "                \n",
       "        <div>\n",
       "            <p><b>SparkContext</b></p>\n",
       "\n",
       "            <p><a href=\"/?o=4054280922637182#setting/sparkui/0611-041854-oedbfkos/driver-2221556913670324232\">Spark UI</a></p>\n",
       "\n",
       "            <dl>\n",
       "              <dt>Version</dt>\n",
       "                <dd><code>v3.5.0</code></dd>\n",
       "              <dt>Master</dt>\n",
       "                <dd><code>local[*, 4]</code></dd>\n",
       "              <dt>AppName</dt>\n",
       "                <dd><code>Databricks Shell</code></dd>\n",
       "            </dl>\n",
       "        </div>\n",
       "        \n",
       "            </div>\n",
       "        "
      ],
      "text/plain": [
       "<pyspark.sql.session.SparkSession at 0x7ba81e881e90>"
      ]
     },
     "execution_count": 7,
     "metadata": {},
     "output_type": "execute_result"
    }
   ],
   "source": [
    "spark"
   ]
  },
  {
   "cell_type": "code",
   "execution_count": 0,
   "metadata": {
    "application/vnd.databricks.v1+cell": {
     "cellMetadata": {
      "byteLimit": 2048000,
      "rowLimit": 10000
     },
     "inputWidgets": {},
     "nuid": "14470aea-1318-414a-bc97-4e2bfd6b0199",
     "showTitle": false,
     "tableResultSettingsMap": {},
     "title": ""
    }
   },
   "outputs": [
    {
     "output_type": "stream",
     "name": "stdout",
     "output_type": "stream",
     "text": [
      "+----------+-----+---------+---+\n|CustomerID| Name|     City|Age|\n+----------+-----+---------+---+\n|       101|Aditi|   Mumbai| 28|\n|       102|Rohan|    Delhi| 35|\n|       103|Meena|Bangalore| 41|\n|       104|Kabir|Hyderabad| 30|\n|       105| Zoya|  Chennai| 25|\n+----------+-----+---------+---+\n\n+-------+----------+-------+--------+-----+----------+\n|OrderID|CustomerID|Product|Quantity|Price| OrderDate|\n+-------+----------+-------+--------+-----+----------+\n|   1001|       101| Laptop|       1|70000|2024-01-05|\n|   1002|       102| Mobile|       2|25000|2024-02-10|\n|   1003|       103|   Desk|       1|10000|2024-03-15|\n|   1004|       104|  Mouse|       3| 1000|2024-04-01|\n|   1005|       105|Monitor|       1|12000|2024-04-25|\n+-------+----------+-------+--------+-----+----------+\n\n"
     ]
    }
   ],
   "source": [
    "df_customers = spark.read.csv(r\"file:/Workspace/Shared/customers.csv\", header=True, inferSchema=True)\n",
    "df_orders = spark.read.csv(r\"file:/Workspace/Shared/orders.csv\", header=True, inferSchema=True)\n",
    "df_customers.show()\n",
    "df_orders.show()"
   ]
  },
  {
   "cell_type": "code",
   "execution_count": 0,
   "metadata": {
    "application/vnd.databricks.v1+cell": {
     "cellMetadata": {
      "byteLimit": 2048000,
      "rowLimit": 10000
     },
     "inputWidgets": {},
     "nuid": "282fe20f-03fa-41d4-b23f-41a53f2097f6",
     "showTitle": false,
     "tableResultSettingsMap": {},
     "title": ""
    }
   },
   "outputs": [
    {
     "output_type": "stream",
     "name": "stdout",
     "output_type": "stream",
     "text": [
      "+----------+-----+---------+---+\n|CustomerID| Name|     City|Age|\n+----------+-----+---------+---+\n|       101|Aditi|   Mumbai| 28|\n|       102|Rohan|    Delhi| 35|\n|       103|Meena|Bangalore| 41|\n|       104|Kabir|Hyderabad| 30|\n|       105| Zoya|  Chennai| 25|\n+----------+-----+---------+---+\n\n+-------+----------+-------+--------+-----+----------+\n|OrderID|CustomerID|Product|Quantity|Price| OrderDate|\n+-------+----------+-------+--------+-----+----------+\n|   1001|       101| Laptop|       1|70000|2024-01-05|\n|   1002|       102| Mobile|       2|25000|2024-02-10|\n|   1003|       103|   Desk|       1|10000|2024-03-15|\n|   1004|       104|  Mouse|       3| 1000|2024-04-01|\n|   1005|       105|Monitor|       1|12000|2024-04-25|\n+-------+----------+-------+--------+-----+----------+\n\n"
     ]
    }
   ],
   "source": [
    "#Spark Tasks\n",
    "from pyspark.sql.functions import col, avg\n",
    "# 1. Ingest the CSV files into two DataFrames\n",
    "df_customers = spark.read.csv(r\"file:/Workspace/Shared/customers.csv\", header=True, inferSchema=True)\n",
    "df_orders = spark.read.csv(r\"file:/Workspace/Shared/orders.csv\", header=True, inferSchema=True)\n",
    "df_customers.show()\n",
    "df_orders.show()"
   ]
  },
  {
   "cell_type": "code",
   "execution_count": 0,
   "metadata": {
    "application/vnd.databricks.v1+cell": {
     "cellMetadata": {
      "byteLimit": 2048000,
      "rowLimit": 10000
     },
     "inputWidgets": {},
     "nuid": "38ebffc2-2abf-4a9a-a415-ac220742c36e",
     "showTitle": false,
     "tableResultSettingsMap": {},
     "title": ""
    }
   },
   "outputs": [
    {
     "output_type": "stream",
     "name": "stdout",
     "output_type": "stream",
     "text": [
      "root\n |-- CustomerID: integer (nullable = true)\n |-- Name: string (nullable = true)\n |-- City: string (nullable = true)\n |-- Age: integer (nullable = true)\n\nroot\n |-- OrderID: integer (nullable = true)\n |-- CustomerID: integer (nullable = true)\n |-- Product: string (nullable = true)\n |-- Quantity: integer (nullable = true)\n |-- Price: integer (nullable = true)\n |-- OrderDate: date (nullable = true)\n\n"
     ]
    }
   ],
   "source": [
    "# 2. Print schema\n",
    "df_customers.printSchema()\n",
    "df_orders.printSchema()"
   ]
  },
  {
   "cell_type": "code",
   "execution_count": 0,
   "metadata": {
    "application/vnd.databricks.v1+cell": {
     "cellMetadata": {
      "byteLimit": 2048000,
      "rowLimit": 10000
     },
     "inputWidgets": {},
     "nuid": "44f44e42-b666-457a-abce-cc6608baa24c",
     "showTitle": false,
     "tableResultSettingsMap": {},
     "title": ""
    }
   },
   "outputs": [
    {
     "output_type": "stream",
     "name": "stdout",
     "output_type": "stream",
     "text": [
      "+-------+----------+-------+--------+-----+----------+-----------+\n|OrderID|CustomerID|Product|Quantity|Price| OrderDate|TotalAmount|\n+-------+----------+-------+--------+-----+----------+-----------+\n|   1001|       101| Laptop|       1|70000|2024-01-05|      70000|\n|   1002|       102| Mobile|       2|25000|2024-02-10|      50000|\n|   1003|       103|   Desk|       1|10000|2024-03-15|      10000|\n|   1004|       104|  Mouse|       3| 1000|2024-04-01|       3000|\n|   1005|       105|Monitor|       1|12000|2024-04-25|      12000|\n+-------+----------+-------+--------+-----+----------+-----------+\n\n"
     ]
    }
   ],
   "source": [
    "# 3. Add TotalAmount = Quantity * Price\n",
    "df_orders = df_orders.withColumn(\"TotalAmount\", col(\"Quantity\") * col(\"Price\"))\n",
    "df_orders.show()"
   ]
  },
  {
   "cell_type": "code",
   "execution_count": 0,
   "metadata": {
    "application/vnd.databricks.v1+cell": {
     "cellMetadata": {
      "byteLimit": 2048000,
      "rowLimit": 10000
     },
     "inputWidgets": {},
     "nuid": "9c862e08-ca01-458b-8160-502f73799c98",
     "showTitle": false,
     "tableResultSettingsMap": {},
     "title": ""
    }
   },
   "outputs": [
    {
     "output_type": "stream",
     "name": "stdout",
     "output_type": "stream",
     "text": [
      "+----------+-------+-------+--------+-----+----------+-----------+-----+---------+---+\n|CustomerID|OrderID|Product|Quantity|Price| OrderDate|TotalAmount| Name|     City|Age|\n+----------+-------+-------+--------+-----+----------+-----------+-----+---------+---+\n|       101|   1001| Laptop|       1|70000|2024-01-05|      70000|Aditi|   Mumbai| 28|\n|       102|   1002| Mobile|       2|25000|2024-02-10|      50000|Rohan|    Delhi| 35|\n|       103|   1003|   Desk|       1|10000|2024-03-15|      10000|Meena|Bangalore| 41|\n|       104|   1004|  Mouse|       3| 1000|2024-04-01|       3000|Kabir|Hyderabad| 30|\n|       105|   1005|Monitor|       1|12000|2024-04-25|      12000| Zoya|  Chennai| 25|\n+----------+-------+-------+--------+-----+----------+-----------+-----+---------+---+\n\n"
     ]
    }
   ],
   "source": [
    "# 4. Join both DataFrames on CustomerID\n",
    "df_joined = df_orders.join(df_customers, on=\"CustomerID\", how=\"inner\")\n",
    "df_joined.show()"
   ]
  },
  {
   "cell_type": "code",
   "execution_count": 0,
   "metadata": {
    "application/vnd.databricks.v1+cell": {
     "cellMetadata": {
      "byteLimit": 2048000,
      "rowLimit": 10000
     },
     "inputWidgets": {},
     "nuid": "d6e1f6f1-deb0-44cb-bcf0-7af8e033d20a",
     "showTitle": false,
     "tableResultSettingsMap": {},
     "title": ""
    }
   },
   "outputs": [
    {
     "output_type": "stream",
     "name": "stdout",
     "output_type": "stream",
     "text": [
      "+----------+-------+-------+--------+-----+----------+-----------+-----+------+---+\n|CustomerID|OrderID|Product|Quantity|Price| OrderDate|TotalAmount| Name|  City|Age|\n+----------+-------+-------+--------+-----+----------+-----------+-----+------+---+\n|       101|   1001| Laptop|       1|70000|2024-01-05|      70000|Aditi|Mumbai| 28|\n|       102|   1002| Mobile|       2|25000|2024-02-10|      50000|Rohan| Delhi| 35|\n+----------+-------+-------+--------+-----+----------+-----------+-----+------+---+\n\n"
     ]
    }
   ],
   "source": [
    "# 5. Filter orders where TotalAmount > 20000\n",
    "df_filtered = df_joined.filter(col(\"TotalAmount\") > 20000)\n",
    "df_filtered.show()"
   ]
  },
  {
   "cell_type": "code",
   "execution_count": 0,
   "metadata": {
    "application/vnd.databricks.v1+cell": {
     "cellMetadata": {
      "byteLimit": 2048000,
      "rowLimit": 10000
     },
     "inputWidgets": {},
     "nuid": "46031aa6-550d-4c89-960f-b8d18a111b66",
     "showTitle": false,
     "tableResultSettingsMap": {},
     "title": ""
    }
   },
   "outputs": [
    {
     "output_type": "stream",
     "name": "stdout",
     "output_type": "stream",
     "text": [
      "+----------+----------+\n|CustomerID|OrderCount|\n+----------+----------+\n|       101|         1|\n|       103|         1|\n|       102|         1|\n|       105|         1|\n|       104|         1|\n+----------+----------+\n\n+----------+----+----------+\n|CustomerID|Name|OrderCount|\n+----------+----+----------+\n+----------+----+----------+\n\n"
     ]
    }
   ],
   "source": [
    "# 6. Show customers who placed more than 1 order\n",
    "from pyspark.sql.functions import countDistinct, count\n",
    "\n",
    "df_order_counts = df_orders.groupBy(\"CustomerID\").agg(count(\"OrderID\").alias(\"OrderCount\"))\n",
    "df_order_counts.show()\n",
    "df_multiple_orders = df_order_counts.filter(col(\"OrderCount\") > 1)\n",
    "df_multiple_orders.join(df_customers, \"CustomerID\").select(\"CustomerID\", \"Name\", \"OrderCount\").show()"
   ]
  },
  {
   "cell_type": "code",
   "execution_count": 0,
   "metadata": {
    "application/vnd.databricks.v1+cell": {
     "cellMetadata": {
      "byteLimit": 2048000,
      "rowLimit": 10000
     },
     "inputWidgets": {},
     "nuid": "eb67c882-50f8-4cfd-bddd-952d8478db08",
     "showTitle": false,
     "tableResultSettingsMap": {},
     "title": ""
    }
   },
   "outputs": [
    {
     "output_type": "stream",
     "name": "stdout",
     "output_type": "stream",
     "text": [
      "+---------+-------------+\n|     City|AvgOrderValue|\n+---------+-------------+\n|Bangalore|      10000.0|\n|  Chennai|      12000.0|\n|   Mumbai|      70000.0|\n|    Delhi|      50000.0|\n|Hyderabad|       3000.0|\n+---------+-------------+\n\n"
     ]
    }
   ],
   "source": [
    "# 7. Group orders by City and get average order value\n",
    "df_avg_city = df_joined.groupBy(\"City\").agg(avg(\"TotalAmount\").alias(\"AvgOrderValue\"))\n",
    "df_avg_city.show()"
   ]
  },
  {
   "cell_type": "code",
   "execution_count": 0,
   "metadata": {
    "application/vnd.databricks.v1+cell": {
     "cellMetadata": {
      "byteLimit": 2048000,
      "rowLimit": 10000
     },
     "inputWidgets": {},
     "nuid": "db5d2f19-972e-4e24-927d-68ffee38633f",
     "showTitle": false,
     "tableResultSettingsMap": {},
     "title": ""
    }
   },
   "outputs": [
    {
     "output_type": "stream",
     "name": "stdout",
     "output_type": "stream",
     "text": [
      "+----------+-------+-------+--------+-----+----------+-----------+-----+---------+---+\n|CustomerID|OrderID|Product|Quantity|Price| OrderDate|TotalAmount| Name|     City|Age|\n+----------+-------+-------+--------+-----+----------+-----------+-----+---------+---+\n|       105|   1005|Monitor|       1|12000|2024-04-25|      12000| Zoya|  Chennai| 25|\n|       104|   1004|  Mouse|       3| 1000|2024-04-01|       3000|Kabir|Hyderabad| 30|\n|       103|   1003|   Desk|       1|10000|2024-03-15|      10000|Meena|Bangalore| 41|\n|       102|   1002| Mobile|       2|25000|2024-02-10|      50000|Rohan|    Delhi| 35|\n|       101|   1001| Laptop|       1|70000|2024-01-05|      70000|Aditi|   Mumbai| 28|\n+----------+-------+-------+--------+-----+----------+-----------+-----+---------+---+\n\n"
     ]
    }
   ],
   "source": [
    "# 8. Sort orders by OrderDate in descending order\n",
    "df_sorted = df_joined.orderBy(col(\"OrderDate\").desc())\n",
    "df_sorted.show()"
   ]
  },
  {
   "cell_type": "code",
   "execution_count": 0,
   "metadata": {
    "application/vnd.databricks.v1+cell": {
     "cellMetadata": {
      "byteLimit": 2048000,
      "rowLimit": 10000
     },
     "inputWidgets": {},
     "nuid": "07a6d391-84e7-4a21-a91a-45d2e472ff85",
     "showTitle": false,
     "tableResultSettingsMap": {},
     "title": ""
    }
   },
   "outputs": [],
   "source": [
    "# 9. Write final joined result as Parquet file partitioned by City\n",
    "df_joined.write.mode(\"overwrite\").partitionBy(\"City\").parquet(\"dbfs:/FileStore/output/orders_parquet\")"
   ]
  },
  {
   "cell_type": "code",
   "execution_count": 0,
   "metadata": {
    "application/vnd.databricks.v1+cell": {
     "cellMetadata": {
      "byteLimit": 2048000,
      "rowLimit": 10000
     },
     "inputWidgets": {},
     "nuid": "5fbbbd2d-4516-4e7f-af2e-605c64f96d64",
     "showTitle": false,
     "tableResultSettingsMap": {},
     "title": ""
    }
   },
   "outputs": [],
   "source": [
    "# 10. Create a temporary view\n",
    "df_joined.createOrReplaceTempView(\"orders_view\")"
   ]
  }
 ],
 "metadata": {
  "application/vnd.databricks.v1+notebook": {
   "computePreferences": null,
   "dashboards": [],
   "environmentMetadata": {
    "base_environment": "",
    "environment_version": "2"
   },
   "inputWidgetPreferences": null,
   "language": "python",
   "notebookMetadata": {
    "pythonIndentUnit": 4
   },
   "notebookName": "CustomerOrderAnalysis_PySpark_Databricks2025-06-13 10:12:42",
   "widgets": {}
  },
  "language_info": {
   "name": "python"
  }
 },
 "nbformat": 4,
 "nbformat_minor": 0
}