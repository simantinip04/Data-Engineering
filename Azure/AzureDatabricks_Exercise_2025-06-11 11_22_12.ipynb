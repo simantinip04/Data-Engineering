{
 "cells": [
  {
   "cell_type": "code",
   "execution_count": 0,
   "metadata": {
    "application/vnd.databricks.v1+cell": {
     "cellMetadata": {
      "byteLimit": 2048000,
      "rowLimit": 10000
     },
     "inputWidgets": {},
     "nuid": "2b695c86-bd7c-46f9-8624-2a0faeaff7c0",
     "showTitle": false,
     "tableResultSettingsMap": {},
     "title": ""
    }
   },
   "outputs": [
    {
     "output_type": "execute_result",
     "data": {
      "text/html": [
       "\n",
       "            <div>\n",
       "                <p><b>SparkSession - hive</b></p>\n",
       "                \n",
       "        <div>\n",
       "            <p><b>SparkContext</b></p>\n",
       "\n",
       "            <p><a href=\"/?o=4054280922637182#setting/sparkui/0611-041854-oedbfkos/driver-1262975443335533958\">Spark UI</a></p>\n",
       "\n",
       "            <dl>\n",
       "              <dt>Version</dt>\n",
       "                <dd><code>v3.5.0</code></dd>\n",
       "              <dt>Master</dt>\n",
       "                <dd><code>local[*, 4]</code></dd>\n",
       "              <dt>AppName</dt>\n",
       "                <dd><code>Databricks Shell</code></dd>\n",
       "            </dl>\n",
       "        </div>\n",
       "        \n",
       "            </div>\n",
       "        "
      ],
      "text/plain": [
       "<pyspark.sql.session.SparkSession at 0x7b970814cd90>"
      ]
     },
     "execution_count": 2,
     "metadata": {},
     "output_type": "execute_result"
    }
   ],
   "source": [
    "from pyspark.sql import SparkSession\n",
    "\n",
    "spark = SparkSession.builder\\\n",
    "        .appName(\"Azure Exercise\")\\\n",
    "        .getOrCreate()\n",
    "\n",
    "spark"
   ]
  },
  {
   "cell_type": "code",
   "execution_count": 0,
   "metadata": {
    "application/vnd.databricks.v1+cell": {
     "cellMetadata": {
      "byteLimit": 2048000,
      "rowLimit": 10000
     },
     "inputWidgets": {},
     "nuid": "e136e343-b164-4ba5-bf81-638a752076f4",
     "showTitle": false,
     "tableResultSettingsMap": {},
     "title": ""
    }
   },
   "outputs": [
    {
     "output_type": "stream",
     "name": "stdout",
     "output_type": "stream",
     "text": [
      "+------+-----------+------+\n|  Name| Department|Salary|\n+------+-----------+------+\n|Ananya|         HR| 52000|\n| Rahul|Engineering| 65000|\n| Priya|Engineering| 60000|\n|  Zoya|  Marketing| 48000|\n| Karan|         HR| 53000|\n|Naveen|Engineering| 70000|\n|Fatima|  Marketing| 45000|\n+------+-----------+------+\n\n"
     ]
    }
   ],
   "source": [
    "data = [\n",
    "    (\"Ananya\", \"HR\", 52000),\n",
    "    (\"Rahul\", \"Engineering\", 65000),\n",
    "    (\"Priya\", \"Engineering\", 60000),\n",
    "    (\"Zoya\", \"Marketing\", 48000),\n",
    "    (\"Karan\", \"HR\", 53000),\n",
    "    (\"Naveen\", \"Engineering\", 70000),\n",
    "    (\"Fatima\", \"Marketing\", 45000)\n",
    "]\n",
    "\n",
    "columns = [\"Name\", \"Department\", \"Salary\"]\n",
    "\n",
    "df = spark.createDataFrame(data, columns)\n",
    "df.show()"
   ]
  },
  {
   "cell_type": "code",
   "execution_count": 0,
   "metadata": {
    "application/vnd.databricks.v1+cell": {
     "cellMetadata": {
      "byteLimit": 2048000,
      "rowLimit": 10000
     },
     "inputWidgets": {},
     "nuid": "3c8210d6-1f85-4fd7-a2ae-b094c466a2ce",
     "showTitle": false,
     "tableResultSettingsMap": {},
     "title": ""
    }
   },
   "outputs": [
    {
     "output_type": "stream",
     "name": "stdout",
     "output_type": "stream",
     "text": [
      "+------+-----------+------+\n|  Name| Department|Salary|\n+------+-----------+------+\n|Ananya|         HR| 52000|\n| Rahul|Engineering| 65000|\n| Priya|Engineering| 60000|\n|  Zoya|  Marketing| 48000|\n| Karan|         HR| 53000|\n|Naveen|Engineering| 70000|\n|Fatima|  Marketing| 45000|\n+------+-----------+------+\n\nroot\n |-- Name: string (nullable = true)\n |-- Department: string (nullable = true)\n |-- Salary: long (nullable = true)\n\nTotal number of employees: 7\n"
     ]
    }
   ],
   "source": [
    "#Exercise Set 1: Basics\n",
    "# 1. Display all records in the DataFrame.\n",
    "df.show()\n",
    "\n",
    "# 2. Print the schema of the DataFrame.\n",
    "df.printSchema()\n",
    "\n",
    "# 3. Count total number of employees.df\n",
    "total_employees = df.count()\n",
    "print(f\"Total number of employees: {total_employees}\")"
   ]
  },
  {
   "cell_type": "code",
   "execution_count": 0,
   "metadata": {
    "application/vnd.databricks.v1+cell": {
     "cellMetadata": {
      "byteLimit": 2048000,
      "rowLimit": 10000
     },
     "inputWidgets": {},
     "nuid": "29ce6bd5-84af-4294-ba7b-dcc5dbca04b4",
     "showTitle": false,
     "tableResultSettingsMap": {},
     "title": ""
    }
   },
   "outputs": [
    {
     "output_type": "stream",
     "name": "stdout",
     "output_type": "stream",
     "text": [
      "+------+-----------+------+-------+\n|  Name| Department|Salary|  Bonus|\n+------+-----------+------+-------+\n|Ananya|         HR| 52000| 7800.0|\n| Rahul|Engineering| 65000| 9750.0|\n| Priya|Engineering| 60000| 9000.0|\n|  Zoya|  Marketing| 48000| 7200.0|\n| Karan|         HR| 53000| 7950.0|\n|Naveen|Engineering| 70000|10500.0|\n|Fatima|  Marketing| 45000| 6750.0|\n+------+-----------+------+-------+\n\n+------+-----------+------+-------+-------+\n|  Name| Department|Salary|  Bonus| NetPay|\n+------+-----------+------+-------+-------+\n|Ananya|         HR| 52000| 7800.0|59800.0|\n| Rahul|Engineering| 65000| 9750.0|74750.0|\n| Priya|Engineering| 60000| 9000.0|69000.0|\n|  Zoya|  Marketing| 48000| 7200.0|55200.0|\n| Karan|         HR| 53000| 7950.0|60950.0|\n|Naveen|Engineering| 70000|10500.0|80500.0|\n|Fatima|  Marketing| 45000| 6750.0|51750.0|\n+------+-----------+------+-------+-------+\n\n"
     ]
    }
   ],
   "source": [
    "#Exercise Set 2: Column Operations\n",
    "# 4. Add a new column Bonus which is 15% of Salary.\n",
    "df = df.withColumn(\"Bonus\", df[\"Salary\"] * 0.15)\n",
    "df.show()\n",
    "\n",
    "# 5. Add a new column NetPay = Salary + Bonus.\n",
    "df = df.withColumn(\"NetPay\", df[\"Salary\"] + df[\"Bonus\"])\n",
    "df.show()"
   ]
  },
  {
   "cell_type": "code",
   "execution_count": 0,
   "metadata": {
    "application/vnd.databricks.v1+cell": {
     "cellMetadata": {
      "byteLimit": 2048000,
      "rowLimit": 10000
     },
     "inputWidgets": {},
     "nuid": "2d84403f-d477-4c66-92ef-6653da78c825",
     "showTitle": false,
     "tableResultSettingsMap": {},
     "title": ""
    }
   },
   "outputs": [
    {
     "output_type": "stream",
     "name": "stdout",
     "output_type": "stream",
     "text": [
      "+------+-----------+------+-------+-------+\n|  Name| Department|Salary|  Bonus| NetPay|\n+------+-----------+------+-------+-------+\n| Rahul|Engineering| 65000| 9750.0|74750.0|\n| Priya|Engineering| 60000| 9000.0|69000.0|\n|Naveen|Engineering| 70000|10500.0|80500.0|\n+------+-----------+------+-------+-------+\n\n+------+-----------+------+-------+-------+\n|  Name| Department|Salary|  Bonus| NetPay|\n+------+-----------+------+-------+-------+\n| Rahul|Engineering| 65000| 9750.0|74750.0|\n|Naveen|Engineering| 70000|10500.0|80500.0|\n+------+-----------+------+-------+-------+\n\n+------+-----------+------+-------+-------+\n|  Name| Department|Salary|  Bonus| NetPay|\n+------+-----------+------+-------+-------+\n|Ananya|         HR| 52000| 7800.0|59800.0|\n| Rahul|Engineering| 65000| 9750.0|74750.0|\n| Priya|Engineering| 60000| 9000.0|69000.0|\n| Karan|         HR| 53000| 7950.0|60950.0|\n|Naveen|Engineering| 70000|10500.0|80500.0|\n+------+-----------+------+-------+-------+\n\n"
     ]
    }
   ],
   "source": [
    "#Exercise Set 3: Filtering and Conditions\n",
    "# 6. Display only employees from the “Engineering” department.\n",
    "engineering_employees = df.filter(df[\"Department\"] == \"Engineering\")\n",
    "engineering_employees.show()\n",
    "\n",
    "# 7. Display employees whose salary is greater than 60000.\n",
    "emp_by_salary = df.filter(df[\"Salary\"] > 60000)\n",
    "emp_by_salary.show()\n",
    "\n",
    "# 8. Display employees who are not in the “Marketing” department.\n",
    "non_marketing_employees = df.filter(df[\"Department\"] != \"Marketing\")\n",
    "non_marketing_employees.show()"
   ]
  },
  {
   "cell_type": "code",
   "execution_count": 0,
   "metadata": {
    "application/vnd.databricks.v1+cell": {
     "cellMetadata": {
      "byteLimit": 2048000,
      "rowLimit": 10000
     },
     "inputWidgets": {},
     "nuid": "780293c7-928f-4dbe-b483-cc095b012c75",
     "showTitle": false,
     "tableResultSettingsMap": {},
     "title": ""
    }
   },
   "outputs": [
    {
     "output_type": "stream",
     "name": "stdout",
     "output_type": "stream",
     "text": [
      "+------+-----------+------+-------+-------+\n|  Name| Department|Salary|  Bonus| NetPay|\n+------+-----------+------+-------+-------+\n|Naveen|Engineering| 70000|10500.0|80500.0|\n| Rahul|Engineering| 65000| 9750.0|74750.0|\n| Priya|Engineering| 60000| 9000.0|69000.0|\n+------+-----------+------+-------+-------+\n\n+------+-----------+------+-------+-------+\n|  Name| Department|Salary|  Bonus| NetPay|\n+------+-----------+------+-------+-------+\n|Naveen|Engineering| 70000|10500.0|80500.0|\n| Rahul|Engineering| 65000| 9750.0|74750.0|\n| Priya|Engineering| 60000| 9000.0|69000.0|\n| Karan|         HR| 53000| 7950.0|60950.0|\n|Ananya|         HR| 52000| 7800.0|59800.0|\n|  Zoya|  Marketing| 48000| 7200.0|55200.0|\n|Fatima|  Marketing| 45000| 6750.0|51750.0|\n+------+-----------+------+-------+-------+\n\n"
     ]
    }
   ],
   "source": [
    "#Exercise Set 4: Sorting and Limiting\n",
    "from pyspark.sql.functions import col\n",
    "# 9. Show top 3 highest paid employees.\n",
    "top_3_employees = df.orderBy(df[\"Salary\"].desc()).limit(3)\n",
    "top_3_employees.show()\n",
    "\n",
    "# 10. Sort the data by Department ascending and Salary descending.\n",
    "sorted_df = df.orderBy(col(\"Department\").asc(), col(\"Salary\").desc())\n",
    "sorted_df.show()"
   ]
  },
  {
   "cell_type": "code",
   "execution_count": 0,
   "metadata": {
    "application/vnd.databricks.v1+cell": {
     "cellMetadata": {
      "byteLimit": 2048000,
      "rowLimit": 10000
     },
     "inputWidgets": {},
     "nuid": "625fa803-3141-445f-a1af-0a65640cfb6f",
     "showTitle": false,
     "tableResultSettingsMap": {},
     "title": ""
    }
   },
   "outputs": [
    {
     "output_type": "stream",
     "name": "stdout",
     "output_type": "stream",
     "text": [
      "+------+-----------+------+-------+-------+------+\n|  Name| Department|Salary|  Bonus| NetPay| Level|\n+------+-----------+------+-------+-------+------+\n|Ananya|         HR| 52000| 7800.0|59800.0|   Mid|\n| Rahul|Engineering| 65000| 9750.0|74750.0|Senior|\n| Priya|Engineering| 60000| 9000.0|69000.0|   Mid|\n|  Zoya|  Marketing| 48000| 7200.0|55200.0|Junior|\n| Karan|         HR| 53000| 7950.0|60950.0|   Mid|\n|Naveen|Engineering| 70000|10500.0|80500.0|Senior|\n|Fatima|  Marketing| 45000| 6750.0|51750.0|Junior|\n+------+-----------+------+-------+-------+------+\n\n+------+-----------+------+-------+-------+------+\n|  Name| Department|Salary|  Bonus| NetPay| Level|\n+------+-----------+------+-------+-------+------+\n|ANANYA|         HR| 52000| 7800.0|59800.0|   Mid|\n| RAHUL|Engineering| 65000| 9750.0|74750.0|Senior|\n| PRIYA|Engineering| 60000| 9000.0|69000.0|   Mid|\n|  ZOYA|  Marketing| 48000| 7200.0|55200.0|Junior|\n| KARAN|         HR| 53000| 7950.0|60950.0|   Mid|\n|NAVEEN|Engineering| 70000|10500.0|80500.0|Senior|\n|FATIMA|  Marketing| 45000| 6750.0|51750.0|Junior|\n+------+-----------+------+-------+-------+------+\n\n"
     ]
    }
   ],
   "source": [
    "#Exercise Set 5: String and Case Logic\n",
    "from pyspark.sql.functions import when, upper, col\n",
    "\n",
    "#11: Add Level column\n",
    "df_with_level = df.withColumn(\"Level\", \n",
    "    when(col(\"Salary\") > 60000, \"Senior\")\n",
    "    .when((col(\"Salary\") >= 50000) & (col(\"Salary\") <= 60000), \"Mid\")\n",
    "    .otherwise(\"Junior\")\n",
    ")\n",
    "df_with_level.show()\n",
    "\n",
    "#12: Convert Name to uppercase (on df_with_level)\n",
    "df_final = df_with_level.withColumn(\"Name\", upper(col(\"Name\")))\n",
    "\n",
    "df_final.show()\n"
   ]
  }
 ],
 "metadata": {
  "application/vnd.databricks.v1+notebook": {
   "computePreferences": null,
   "dashboards": [],
   "environmentMetadata": {
    "base_environment": "",
    "environment_version": "2"
   },
   "inputWidgetPreferences": null,
   "language": "python",
   "notebookMetadata": {
    "pythonIndentUnit": 4
   },
   "notebookName": "AzureDatabricks_Exercise_2025-06-11 11:22:12",
   "widgets": {}
  },
  "language_info": {
   "name": "python"
  }
 },
 "nbformat": 4,
 "nbformat_minor": 0
}