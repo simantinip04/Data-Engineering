{
  "nbformat": 4,
  "nbformat_minor": 0,
  "metadata": {
    "colab": {
      "provenance": [],
      "authorship_tag": "ABX9TyP68v5/wrrQ9UvW1rD4QDZK",
      "include_colab_link": true
    },
    "kernelspec": {
      "name": "python3",
      "display_name": "Python 3"
    },
    "language_info": {
      "name": "python"
    }
  },
  "cells": [
    {
      "cell_type": "markdown",
      "metadata": {
        "id": "view-in-github",
        "colab_type": "text"
      },
      "source": [
        "<a href=\"https://colab.research.google.com/github/simantinip04/Data-Engineering/blob/main/Coding%20Assessment/PySpark%20Coding%20Assessment/Assessment2/9June_PySpark_CodingAssessment_2.ipynb\" target=\"_parent\"><img src=\"https://colab.research.google.com/assets/colab-badge.svg\" alt=\"Open In Colab\"/></a>"
      ]
    },
    {
      "cell_type": "code",
      "execution_count": null,
      "metadata": {
        "id": "svaicszO5Dx3"
      },
      "outputs": [],
      "source": [
        "#PySpark Task Set – Part 3\n",
        "#HR & Workforce Analytics, DataFrame APIs, Joins, SQL, Date Logic,Aggregation, UDFs, Views"
      ]
    },
    {
      "cell_type": "code",
      "source": [
        "from pyspark.sql import SparkSession\n",
        "import pandas as pd\n",
        "from io import StringIO\n",
        "\n",
        "spark=SparkSession.builder.appName(\"HR Workforce Analytics\").getOrCreate()\n",
        "\n",
        "print(spark)"
      ],
      "metadata": {
        "colab": {
          "base_uri": "https://localhost:8080/",
          "height": 0
        },
        "id": "_8iy6hH45fvv",
        "outputId": "8181263b-63d7-43fb-ed24-405dfd6f9268"
      },
      "execution_count": 1,
      "outputs": [
        {
          "output_type": "stream",
          "name": "stdout",
          "text": [
            "<pyspark.sql.session.SparkSession object at 0x7d5a6e281c10>\n"
          ]
        }
      ]
    },
    {
      "cell_type": "code",
      "source": [
        "#Data\n",
        "#Sample CSV and JSON files\n",
        "employees_csv = \"\"\"EmpID,Name,Department,JoinDate,Salary,ManagerID\n",
        "1,Anita,HR,2021-05-01,55000,\n",
        "2,Raj,Engineering,2020-03-15,80000,1\n",
        "3,Simran,Engineering,2022-07-10,75000,1\n",
        "4,Aamir,Marketing,2019-11-20,60000,1\n",
        "5,Nisha,HR,2023-01-05,50000,1\n",
        "\"\"\"\n",
        "\n",
        "attendance_csv = \"\"\"EmpID,Date,Status\n",
        "1,2024-04-01,Present\n",
        "1,2024-04-02,Present\n",
        "2,2024-04-01,Absent\n",
        "2,2024-04-02,Present\n",
        "3,2024-04-01,Present\n",
        "3,2024-04-02,Present\n",
        "4,2024-04-01,Absent\n",
        "4,2024-04-02,Absent\n",
        "5,2024-04-01,Present\n",
        "5,2024-04-02,Present\n",
        "\"\"\"\n",
        "\n",
        "bonuses_json = \"\"\"\n",
        "[\n",
        "{\"EmpID\": 1, \"Year\": 2023, \"Bonus\": 5000},\n",
        "{\"EmpID\": 2, \"Year\": 2023, \"Bonus\": 7000},\n",
        "{\"EmpID\": 3, \"Year\": 2023, \"Bonus\": 6500},\n",
        "{\"EmpID\": 4, \"Year\": 2023, \"Bonus\": 6000},\n",
        "{\"EmpID\": 5, \"Year\": 2023, \"Bonus\": 4000}\n",
        "]\n",
        "\"\"\"\n",
        "\n",
        "# Saving\n",
        "with open(\"employees.csv\", \"w\") as f:\n",
        "    f.write(employees_csv)\n",
        "\n",
        "with open(\"attendance.csv\", \"w\") as f:\n",
        "    f.write(attendance_csv)\n",
        "\n",
        "with open(\"bonuses.json\", \"w\") as f:\n",
        "    f.write(bonuses_json)"
      ],
      "metadata": {
        "id": "QcN5bYBT8fEO"
      },
      "execution_count": 2,
      "outputs": []
    },
    {
      "cell_type": "code",
      "source": [
        "#Task 1- Ingestion & Exploration\n",
        "\n",
        "from pyspark.sql.functions import *\n",
        "\n",
        "employees = spark.read.csv(\"employees.csv\", header=True, inferSchema=True)\n",
        "attendance = spark.read.csv(\"attendance.csv\", header=True, inferSchema=True)\n",
        "bonuses = spark.read.json(\"bonuses.json\")\n",
        "\n",
        "employees.printSchema()\n",
        "attendance.printSchema()\n",
        "bonuses.printSchema()\n",
        "\n",
        "employees.show()\n",
        "attendance.show()\n",
        "bonuses.show()\n",
        "\n",
        "# Distinct departments\n",
        "distinct_dept = employees.select(\"Department\").distinct()\n",
        "distinct_dept.count()\n",
        "distinct_dept.show()"
      ],
      "metadata": {
        "colab": {
          "base_uri": "https://localhost:8080/",
          "height": 0
        },
        "id": "mkiKbOz99B1s",
        "outputId": "07bb03ed-8ed6-4c9f-c9d4-e3070c41b518"
      },
      "execution_count": 3,
      "outputs": [
        {
          "output_type": "stream",
          "name": "stdout",
          "text": [
            "root\n",
            " |-- EmpID: integer (nullable = true)\n",
            " |-- Name: string (nullable = true)\n",
            " |-- Department: string (nullable = true)\n",
            " |-- JoinDate: date (nullable = true)\n",
            " |-- Salary: integer (nullable = true)\n",
            " |-- ManagerID: integer (nullable = true)\n",
            "\n",
            "root\n",
            " |-- EmpID: integer (nullable = true)\n",
            " |-- Date: date (nullable = true)\n",
            " |-- Status: string (nullable = true)\n",
            "\n",
            "root\n",
            " |-- Bonus: long (nullable = true)\n",
            " |-- EmpID: long (nullable = true)\n",
            " |-- Year: long (nullable = true)\n",
            " |-- _corrupt_record: string (nullable = true)\n",
            "\n",
            "+-----+------+-----------+----------+------+---------+\n",
            "|EmpID|  Name| Department|  JoinDate|Salary|ManagerID|\n",
            "+-----+------+-----------+----------+------+---------+\n",
            "|    1| Anita|         HR|2021-05-01| 55000|     NULL|\n",
            "|    2|   Raj|Engineering|2020-03-15| 80000|        1|\n",
            "|    3|Simran|Engineering|2022-07-10| 75000|        1|\n",
            "|    4| Aamir|  Marketing|2019-11-20| 60000|        1|\n",
            "|    5| Nisha|         HR|2023-01-05| 50000|        1|\n",
            "+-----+------+-----------+----------+------+---------+\n",
            "\n",
            "+-----+----------+-------+\n",
            "|EmpID|      Date| Status|\n",
            "+-----+----------+-------+\n",
            "|    1|2024-04-01|Present|\n",
            "|    1|2024-04-02|Present|\n",
            "|    2|2024-04-01| Absent|\n",
            "|    2|2024-04-02|Present|\n",
            "|    3|2024-04-01|Present|\n",
            "|    3|2024-04-02|Present|\n",
            "|    4|2024-04-01| Absent|\n",
            "|    4|2024-04-02| Absent|\n",
            "|    5|2024-04-01|Present|\n",
            "|    5|2024-04-02|Present|\n",
            "+-----+----------+-------+\n",
            "\n",
            "+-----+-----+----+---------------+\n",
            "|Bonus|EmpID|Year|_corrupt_record|\n",
            "+-----+-----+----+---------------+\n",
            "| NULL| NULL|NULL|              [|\n",
            "| 5000|    1|2023|           NULL|\n",
            "| 7000|    2|2023|           NULL|\n",
            "| 6500|    3|2023|           NULL|\n",
            "| 6000|    4|2023|           NULL|\n",
            "| 4000|    5|2023|           NULL|\n",
            "| NULL| NULL|NULL|              ]|\n",
            "+-----+-----+----+---------------+\n",
            "\n",
            "+-----------+\n",
            "| Department|\n",
            "+-----------+\n",
            "|Engineering|\n",
            "|         HR|\n",
            "|  Marketing|\n",
            "+-----------+\n",
            "\n"
          ]
        }
      ]
    },
    {
      "cell_type": "code",
      "source": [
        "#Task 2-Data Frame Operations\n",
        "\n",
        "from pyspark.sql.functions import datediff, current_date, round\n",
        "\n",
        "#Add a column TenureYears using datediff() and round()\n",
        "emp_df = employees.withColumn(\"TenureYears\", round(datediff(current_date(), col(\"JoinDate\")) / 365, 2))\n",
        "emp_df.show()\n",
        "\n",
        "#Calculate TotalCompensation = Salary + Bonus .\n",
        "emp_bonus_df = emp_df.join(bonuses, \"EmpID\")\n",
        "emp_bonus_df = emp_bonus_df.withColumn(\"TotalCompensation\", col(\"Salary\") + col(\"Bonus\"))\n",
        "emp_bonus_df.show()\n",
        "\n",
        "#Filter employees with more than 2 years in the company.\n",
        "filtered_emp = emp_bonus_df.filter(col(\"TenureYears\") > 2)\n",
        "filtered_emp.show()\n",
        "\n",
        "#Show employees who report to a manager ( ManagerID is not null ).\n",
        "emp_bonus_df.filter(col(\"ManagerID\").isNotNull()).show()"
      ],
      "metadata": {
        "colab": {
          "base_uri": "https://localhost:8080/",
          "height": 0
        },
        "id": "pkebIHQD9bJG",
        "outputId": "6313d1a8-c3a2-4740-81f8-476d55731ada"
      },
      "execution_count": 4,
      "outputs": [
        {
          "output_type": "stream",
          "name": "stdout",
          "text": [
            "+-----+------+-----------+----------+------+---------+-----------+\n",
            "|EmpID|  Name| Department|  JoinDate|Salary|ManagerID|TenureYears|\n",
            "+-----+------+-----------+----------+------+---------+-----------+\n",
            "|    1| Anita|         HR|2021-05-01| 55000|     NULL|       4.11|\n",
            "|    2|   Raj|Engineering|2020-03-15| 80000|        1|       5.24|\n",
            "|    3|Simran|Engineering|2022-07-10| 75000|        1|       2.92|\n",
            "|    4| Aamir|  Marketing|2019-11-20| 60000|        1|       5.56|\n",
            "|    5| Nisha|         HR|2023-01-05| 50000|        1|       2.43|\n",
            "+-----+------+-----------+----------+------+---------+-----------+\n",
            "\n",
            "+-----+------+-----------+----------+------+---------+-----------+-----+----+---------------+-----------------+\n",
            "|EmpID|  Name| Department|  JoinDate|Salary|ManagerID|TenureYears|Bonus|Year|_corrupt_record|TotalCompensation|\n",
            "+-----+------+-----------+----------+------+---------+-----------+-----+----+---------------+-----------------+\n",
            "|    1| Anita|         HR|2021-05-01| 55000|     NULL|       4.11| 5000|2023|           NULL|            60000|\n",
            "|    2|   Raj|Engineering|2020-03-15| 80000|        1|       5.24| 7000|2023|           NULL|            87000|\n",
            "|    3|Simran|Engineering|2022-07-10| 75000|        1|       2.92| 6500|2023|           NULL|            81500|\n",
            "|    4| Aamir|  Marketing|2019-11-20| 60000|        1|       5.56| 6000|2023|           NULL|            66000|\n",
            "|    5| Nisha|         HR|2023-01-05| 50000|        1|       2.43| 4000|2023|           NULL|            54000|\n",
            "+-----+------+-----------+----------+------+---------+-----------+-----+----+---------------+-----------------+\n",
            "\n",
            "+-----+------+-----------+----------+------+---------+-----------+-----+----+---------------+-----------------+\n",
            "|EmpID|  Name| Department|  JoinDate|Salary|ManagerID|TenureYears|Bonus|Year|_corrupt_record|TotalCompensation|\n",
            "+-----+------+-----------+----------+------+---------+-----------+-----+----+---------------+-----------------+\n",
            "|    1| Anita|         HR|2021-05-01| 55000|     NULL|       4.11| 5000|2023|           NULL|            60000|\n",
            "|    2|   Raj|Engineering|2020-03-15| 80000|        1|       5.24| 7000|2023|           NULL|            87000|\n",
            "|    3|Simran|Engineering|2022-07-10| 75000|        1|       2.92| 6500|2023|           NULL|            81500|\n",
            "|    4| Aamir|  Marketing|2019-11-20| 60000|        1|       5.56| 6000|2023|           NULL|            66000|\n",
            "|    5| Nisha|         HR|2023-01-05| 50000|        1|       2.43| 4000|2023|           NULL|            54000|\n",
            "+-----+------+-----------+----------+------+---------+-----------+-----+----+---------------+-----------------+\n",
            "\n",
            "+-----+------+-----------+----------+------+---------+-----------+-----+----+---------------+-----------------+\n",
            "|EmpID|  Name| Department|  JoinDate|Salary|ManagerID|TenureYears|Bonus|Year|_corrupt_record|TotalCompensation|\n",
            "+-----+------+-----------+----------+------+---------+-----------+-----+----+---------------+-----------------+\n",
            "|    2|   Raj|Engineering|2020-03-15| 80000|        1|       5.24| 7000|2023|           NULL|            87000|\n",
            "|    3|Simran|Engineering|2022-07-10| 75000|        1|       2.92| 6500|2023|           NULL|            81500|\n",
            "|    4| Aamir|  Marketing|2019-11-20| 60000|        1|       5.56| 6000|2023|           NULL|            66000|\n",
            "|    5| Nisha|         HR|2023-01-05| 50000|        1|       2.43| 4000|2023|           NULL|            54000|\n",
            "+-----+------+-----------+----------+------+---------+-----------+-----+----+---------------+-----------------+\n",
            "\n"
          ]
        }
      ]
    },
    {
      "cell_type": "code",
      "source": [
        "#Task 3- Aggregation\n",
        "\n",
        "#Avg salary per department\n",
        "avg_salary_dept = employees.groupBy(\"Department\").agg(avg(\"Salary\"))\n",
        "avg_salary_dept.show()\n",
        "\n",
        "#No. of Employees under each manager\n",
        "no_of_emp_manager = employees.groupBy(\"ManagerID\").agg(count(\"*\").alias(\"TeamSize\"))\n",
        "no_of_emp_manager.show()\n",
        "\n",
        "#Count of absences per employee\n",
        "count_of_absence = attendance.filter(col(\"Status\") == \"Absent\") \\\n",
        ".groupBy(\"EmpID\").count().withColumnRenamed(\"count\", \"AbsenceCount\")\n",
        "count_of_absence.show()"
      ],
      "metadata": {
        "colab": {
          "base_uri": "https://localhost:8080/",
          "height": 0
        },
        "id": "tbVmuBxN-DvV",
        "outputId": "d5738bab-e4ce-4253-d20c-96ad8da48466"
      },
      "execution_count": 5,
      "outputs": [
        {
          "output_type": "stream",
          "name": "stdout",
          "text": [
            "+-----------+-----------+\n",
            "| Department|avg(Salary)|\n",
            "+-----------+-----------+\n",
            "|Engineering|    77500.0|\n",
            "|         HR|    52500.0|\n",
            "|  Marketing|    60000.0|\n",
            "+-----------+-----------+\n",
            "\n",
            "+---------+--------+\n",
            "|ManagerID|TeamSize|\n",
            "+---------+--------+\n",
            "|     NULL|       1|\n",
            "|        1|       4|\n",
            "+---------+--------+\n",
            "\n",
            "+-----+------------+\n",
            "|EmpID|AbsenceCount|\n",
            "+-----+------------+\n",
            "|    4|           2|\n",
            "|    2|           1|\n",
            "+-----+------------+\n",
            "\n"
          ]
        }
      ]
    },
    {
      "cell_type": "code",
      "source": [
        "#4. Joins\n",
        "total_days = attendance.groupBy(\"EmpID\").count().withColumnRenamed(\"count\", \"TotalDays\")\n",
        "present_days = attendance.filter(col(\"Status\") == \"Present\") \\\n",
        "    .groupBy(\"EmpID\").count().withColumnRenamed(\"count\", \"PresentDays\")\n",
        "\n",
        "attendance_rate = total_days.join(present_days, \"EmpID\") \\\n",
        "    .withColumn(\"AttendancePercent\", round(col(\"PresentDays\") / col(\"TotalDays\") * 100, 2))\n",
        "\n",
        "#Join employees and attendance → Get attendance % (Present days / Total days).\n",
        "emp_attendance = employees.join(attendance_rate, \"EmpID\", \"left\")\n",
        "emp_attendance.select(\"EmpID\", \"Name\", \"AttendancePercent\").show()\n",
        "\n",
        "#Join employees and bonuses → Show top 3 employees by TotalCompensation.\n",
        "emp_bonus_totalcomp = emp_bonus_df.orderBy(col(\"TotalCompensation\").desc()).select(\"EmpID\", \"Name\", \"TotalCompensation\")\n",
        "emp_bonus_totalcomp.show(3)\n",
        "\n",
        "#Multi-level join: employees + bonuses + attendance .\n",
        "full_df = employees.join(bonuses, \"EmpID\").join(attendance_rate, \"EmpID\", \"left\")\n",
        "full_df.show()"
      ],
      "metadata": {
        "colab": {
          "base_uri": "https://localhost:8080/",
          "height": 0
        },
        "id": "X8MrElm4-r4g",
        "outputId": "ce31efb6-a92d-4fe7-d5fe-e0cb8536da36"
      },
      "execution_count": 6,
      "outputs": [
        {
          "output_type": "stream",
          "name": "stdout",
          "text": [
            "+-----+------+-----------------+\n",
            "|EmpID|  Name|AttendancePercent|\n",
            "+-----+------+-----------------+\n",
            "|    1| Anita|            100.0|\n",
            "|    2|   Raj|             50.0|\n",
            "|    3|Simran|            100.0|\n",
            "|    4| Aamir|             NULL|\n",
            "|    5| Nisha|            100.0|\n",
            "+-----+------+-----------------+\n",
            "\n",
            "+-----+------+-----------------+\n",
            "|EmpID|  Name|TotalCompensation|\n",
            "+-----+------+-----------------+\n",
            "|    2|   Raj|            87000|\n",
            "|    3|Simran|            81500|\n",
            "|    4| Aamir|            66000|\n",
            "+-----+------+-----------------+\n",
            "only showing top 3 rows\n",
            "\n",
            "+-----+------+-----------+----------+------+---------+-----+----+---------------+---------+-----------+-----------------+\n",
            "|EmpID|  Name| Department|  JoinDate|Salary|ManagerID|Bonus|Year|_corrupt_record|TotalDays|PresentDays|AttendancePercent|\n",
            "+-----+------+-----------+----------+------+---------+-----+----+---------------+---------+-----------+-----------------+\n",
            "|    1| Anita|         HR|2021-05-01| 55000|     NULL| 5000|2023|           NULL|        2|          2|            100.0|\n",
            "|    2|   Raj|Engineering|2020-03-15| 80000|        1| 7000|2023|           NULL|        2|          1|             50.0|\n",
            "|    3|Simran|Engineering|2022-07-10| 75000|        1| 6500|2023|           NULL|        2|          2|            100.0|\n",
            "|    4| Aamir|  Marketing|2019-11-20| 60000|        1| 6000|2023|           NULL|     NULL|       NULL|             NULL|\n",
            "|    5| Nisha|         HR|2023-01-05| 50000|        1| 4000|2023|           NULL|        2|          2|            100.0|\n",
            "+-----+------+-----------+----------+------+---------+-----+----+---------------+---------+-----------+-----------------+\n",
            "\n"
          ]
        }
      ]
    },
    {
      "cell_type": "code",
      "source": [
        "#5. String & Date Functions\n",
        "#Extract year and month from JoinDate .\n",
        "employees = employees.withColumn(\"JoinYear\", year(\"JoinDate\")) \\\n",
        "                     .withColumn(\"JoinMonth\", month(\"JoinDate\"))\n",
        "employees.show()\n",
        "\n",
        "#Mask employee names using regex.\n",
        "employees = employees.withColumn(\"MaskedName\", regexp_replace(\"Name\", \"[aeiouAEIOU]\", \"*\"))\n",
        "employees.show()\n",
        "\n",
        "#Use substring() to create EmpCode like \"EMP001\".\n",
        "employees = employees.withColumn(\"EmpCode\", format_string(\"EMP%03d\", col(\"EmpID\")))\n",
        "employees.select(\"EmpID\", \"Name\", \"EmpCode\", \"MaskedName\").show()"
      ],
      "metadata": {
        "colab": {
          "base_uri": "https://localhost:8080/",
          "height": 0
        },
        "id": "vWVwgBQc-r7P",
        "outputId": "0ab92813-f26e-4d48-c1c1-1da142db3b1d"
      },
      "execution_count": 7,
      "outputs": [
        {
          "output_type": "stream",
          "name": "stdout",
          "text": [
            "+-----+------+-----------+----------+------+---------+--------+---------+\n",
            "|EmpID|  Name| Department|  JoinDate|Salary|ManagerID|JoinYear|JoinMonth|\n",
            "+-----+------+-----------+----------+------+---------+--------+---------+\n",
            "|    1| Anita|         HR|2021-05-01| 55000|     NULL|    2021|        5|\n",
            "|    2|   Raj|Engineering|2020-03-15| 80000|        1|    2020|        3|\n",
            "|    3|Simran|Engineering|2022-07-10| 75000|        1|    2022|        7|\n",
            "|    4| Aamir|  Marketing|2019-11-20| 60000|        1|    2019|       11|\n",
            "|    5| Nisha|         HR|2023-01-05| 50000|        1|    2023|        1|\n",
            "+-----+------+-----------+----------+------+---------+--------+---------+\n",
            "\n",
            "+-----+------+-----------+----------+------+---------+--------+---------+----------+\n",
            "|EmpID|  Name| Department|  JoinDate|Salary|ManagerID|JoinYear|JoinMonth|MaskedName|\n",
            "+-----+------+-----------+----------+------+---------+--------+---------+----------+\n",
            "|    1| Anita|         HR|2021-05-01| 55000|     NULL|    2021|        5|     *n*t*|\n",
            "|    2|   Raj|Engineering|2020-03-15| 80000|        1|    2020|        3|       R*j|\n",
            "|    3|Simran|Engineering|2022-07-10| 75000|        1|    2022|        7|    S*mr*n|\n",
            "|    4| Aamir|  Marketing|2019-11-20| 60000|        1|    2019|       11|     **m*r|\n",
            "|    5| Nisha|         HR|2023-01-05| 50000|        1|    2023|        1|     N*sh*|\n",
            "+-----+------+-----------+----------+------+---------+--------+---------+----------+\n",
            "\n",
            "+-----+------+-------+----------+\n",
            "|EmpID|  Name|EmpCode|MaskedName|\n",
            "+-----+------+-------+----------+\n",
            "|    1| Anita| EMP001|     *n*t*|\n",
            "|    2|   Raj| EMP002|       R*j|\n",
            "|    3|Simran| EMP003|    S*mr*n|\n",
            "|    4| Aamir| EMP004|     **m*r|\n",
            "|    5| Nisha| EMP005|     N*sh*|\n",
            "+-----+------+-------+----------+\n",
            "\n"
          ]
        }
      ]
    },
    {
      "cell_type": "code",
      "source": [
        "#6. Conditional & Null Handling\n",
        "#Use when/otherwise to label performance:\n",
        "    # “High” if Bonus > 6000\n",
        "    # “Medium” if 4000–6000\n",
        "    # “Low” otherwise\n",
        "emp_bonus_df = emp_bonus_df.withColumn(\n",
        "    \"Performance\",\n",
        "    when(col(\"Bonus\") > 6000, \"High\")\n",
        "    .when((col(\"Bonus\") > 4000) & (col(\"Bonus\") <= 6000), \"Medium\")\n",
        "    .otherwise(\"Low\")\n",
        ")\n",
        "emp_bonus_df.show()\n",
        "\n",
        "#Handle missing ManagerID using fillna(\"No Manager\") .\n",
        "employees_filled = employees.fillna({\"ManagerID\": \"No Manager\"})\n",
        "employees_filled.show()"
      ],
      "metadata": {
        "colab": {
          "base_uri": "https://localhost:8080/",
          "height": 0
        },
        "id": "mUzlhbHv-r-B",
        "outputId": "7ecb9304-c39f-41d1-afbd-0f40e0f1ac57"
      },
      "execution_count": 8,
      "outputs": [
        {
          "output_type": "stream",
          "name": "stdout",
          "text": [
            "+-----+------+-----------+----------+------+---------+-----------+-----+----+---------------+-----------------+-----------+\n",
            "|EmpID|  Name| Department|  JoinDate|Salary|ManagerID|TenureYears|Bonus|Year|_corrupt_record|TotalCompensation|Performance|\n",
            "+-----+------+-----------+----------+------+---------+-----------+-----+----+---------------+-----------------+-----------+\n",
            "|    1| Anita|         HR|2021-05-01| 55000|     NULL|       4.11| 5000|2023|           NULL|            60000|     Medium|\n",
            "|    2|   Raj|Engineering|2020-03-15| 80000|        1|       5.24| 7000|2023|           NULL|            87000|       High|\n",
            "|    3|Simran|Engineering|2022-07-10| 75000|        1|       2.92| 6500|2023|           NULL|            81500|       High|\n",
            "|    4| Aamir|  Marketing|2019-11-20| 60000|        1|       5.56| 6000|2023|           NULL|            66000|     Medium|\n",
            "|    5| Nisha|         HR|2023-01-05| 50000|        1|       2.43| 4000|2023|           NULL|            54000|        Low|\n",
            "+-----+------+-----------+----------+------+---------+-----------+-----+----+---------------+-----------------+-----------+\n",
            "\n",
            "+-----+------+-----------+----------+------+---------+--------+---------+----------+-------+\n",
            "|EmpID|  Name| Department|  JoinDate|Salary|ManagerID|JoinYear|JoinMonth|MaskedName|EmpCode|\n",
            "+-----+------+-----------+----------+------+---------+--------+---------+----------+-------+\n",
            "|    1| Anita|         HR|2021-05-01| 55000|     NULL|    2021|        5|     *n*t*| EMP001|\n",
            "|    2|   Raj|Engineering|2020-03-15| 80000|        1|    2020|        3|       R*j| EMP002|\n",
            "|    3|Simran|Engineering|2022-07-10| 75000|        1|    2022|        7|    S*mr*n| EMP003|\n",
            "|    4| Aamir|  Marketing|2019-11-20| 60000|        1|    2019|       11|     **m*r| EMP004|\n",
            "|    5| Nisha|         HR|2023-01-05| 50000|        1|    2023|        1|     N*sh*| EMP005|\n",
            "+-----+------+-----------+----------+------+---------+--------+---------+----------+-------+\n",
            "\n"
          ]
        }
      ]
    },
    {
      "cell_type": "code",
      "source": [
        "#7. Spark SQL\n",
        "# Create Database hr\n",
        "spark.sql(\"CREATE DATABASE IF NOT EXISTS hr\")\n",
        "spark.catalog.setCurrentDatabase(\"hr\")\n",
        "\n",
        "# Save dataframes as tables\n",
        "employees.write.mode(\"overwrite\").saveAsTable(\"employees\")\n",
        "attendance.write.mode(\"overwrite\").saveAsTable(\"attendance\")\n",
        "bonuses.write.mode(\"overwrite\").saveAsTable(\"bonuses\")\n",
        "\n",
        "# SQL Queries\n",
        "#Top paid employee in each department.\n",
        "spark.sql(\"\"\"\n",
        "    SELECT Department, Name, Salary\n",
        "    FROM employees\n",
        "    WHERE (Department, Salary) IN (\n",
        "        SELECT Department, MAX(Salary)\n",
        "        FROM employees\n",
        "        GROUP BY Department\n",
        "    )\n",
        "\"\"\").show()\n",
        "\n",
        "#Attendance rate by department.\n",
        "spark.sql(\"\"\"\n",
        "    SELECT\n",
        "      e.Department,\n",
        "      ROUND(AVG(CASE WHEN a.Status = 'Present' THEN 1 ELSE 0 END) * 100, 2) AS AttendanceRate\n",
        "    FROM employees e\n",
        "    JOIN attendance a ON e.EmpID = a.EmpID\n",
        "    GROUP BY e.Department\n",
        "\"\"\").show()\n",
        "\n",
        "#Employees joined after 2021 with salary >\n",
        "70,000.\n",
        "spark.sql(\"\"\"\n",
        "    SELECT * FROM employees\n",
        "    WHERE JoinDate > '2021-01-01' AND Salary > 70000\n",
        "\"\"\").show()"
      ],
      "metadata": {
        "colab": {
          "base_uri": "https://localhost:8080/",
          "height": 0
        },
        "id": "bAnZsZKL-sAY",
        "outputId": "5713bbbf-0313-4c3d-aa7f-04b6c0d9b254"
      },
      "execution_count": 10,
      "outputs": [
        {
          "output_type": "stream",
          "name": "stdout",
          "text": [
            "+-----------+-----+------+\n",
            "| Department| Name|Salary|\n",
            "+-----------+-----+------+\n",
            "|         HR|Anita| 55000|\n",
            "|Engineering|  Raj| 80000|\n",
            "|  Marketing|Aamir| 60000|\n",
            "+-----------+-----+------+\n",
            "\n",
            "+-----------+--------------+\n",
            "| Department|AttendanceRate|\n",
            "+-----------+--------------+\n",
            "|Engineering|          75.0|\n",
            "|         HR|         100.0|\n",
            "|  Marketing|           0.0|\n",
            "+-----------+--------------+\n",
            "\n",
            "+-----+------+-----------+----------+------+---------+--------+---------+----------+-------+\n",
            "|EmpID|  Name| Department|  JoinDate|Salary|ManagerID|JoinYear|JoinMonth|MaskedName|EmpCode|\n",
            "+-----+------+-----------+----------+------+---------+--------+---------+----------+-------+\n",
            "|    3|Simran|Engineering|2022-07-10| 75000|        1|    2022|        7|    S*mr*n| EMP003|\n",
            "+-----+------+-----------+----------+------+---------+--------+---------+----------+-------+\n",
            "\n"
          ]
        }
      ]
    },
    {
      "cell_type": "code",
      "source": [
        "#Task 8- Advanced(Optional)\n",
        "from pyspark.sql.functions import udf\n",
        "from pyspark.sql.types import StringType\n",
        "\n",
        "# UDF for Department classification\n",
        "def classify_dept(dept):\n",
        "    return \"Tech\" if dept in [\"Engineering\"] else \"Non-Tech\"\n",
        "\n",
        "classify_udf = udf(classify_dept, StringType())\n",
        "\n",
        "classified_df = employees.withColumn(\"DeptType\", classify_udf(\"Department\"))\n",
        "classified_df.select(\"EmpID\", \"Department\", \"DeptType\").show()\n",
        "\n",
        "# Assuming emp_attendance DataFrame is already created\n",
        "emp_attendance.createOrReplaceTempView(\"emp_attendance_summary\")\n",
        "\n",
        "summary_df = spark.sql(\"SELECT * FROM emp_attendance_summary\")\n",
        "summary_df.show(truncate=False)\n",
        "\n",
        "# Save as parquet partitioned by Department\n",
        "summary_df.write.mode(\"overwrite\").partitionBy(\"Department\").parquet(\"emp_attendance_summary.parquet\")\n",
        "\n",
        "# Read back parquet to confirm and show\n",
        "parquet_df = spark.read.parquet(\"emp_attendance_summary.parquet\")\n",
        "parquet_df.show(truncate=False)\n"
      ],
      "metadata": {
        "colab": {
          "base_uri": "https://localhost:8080/",
          "height": 0
        },
        "id": "DcjcdTbyAUzk",
        "outputId": "ff202c32-1657-4a11-b375-3953d5af28f2"
      },
      "execution_count": 12,
      "outputs": [
        {
          "output_type": "stream",
          "name": "stdout",
          "text": [
            "+-----+-----------+--------+\n",
            "|EmpID| Department|DeptType|\n",
            "+-----+-----------+--------+\n",
            "|    1|         HR|Non-Tech|\n",
            "|    2|Engineering|    Tech|\n",
            "|    3|Engineering|    Tech|\n",
            "|    4|  Marketing|Non-Tech|\n",
            "|    5|         HR|Non-Tech|\n",
            "+-----+-----------+--------+\n",
            "\n",
            "+-----+------+-----------+----------+------+---------+---------+-----------+-----------------+\n",
            "|EmpID|Name  |Department |JoinDate  |Salary|ManagerID|TotalDays|PresentDays|AttendancePercent|\n",
            "+-----+------+-----------+----------+------+---------+---------+-----------+-----------------+\n",
            "|1    |Anita |HR         |2021-05-01|55000 |NULL     |2        |2          |100.0            |\n",
            "|2    |Raj   |Engineering|2020-03-15|80000 |1        |2        |1          |50.0             |\n",
            "|3    |Simran|Engineering|2022-07-10|75000 |1        |2        |2          |100.0            |\n",
            "|4    |Aamir |Marketing  |2019-11-20|60000 |1        |NULL     |NULL       |NULL             |\n",
            "|5    |Nisha |HR         |2023-01-05|50000 |1        |2        |2          |100.0            |\n",
            "+-----+------+-----------+----------+------+---------+---------+-----------+-----------------+\n",
            "\n",
            "+-----+------+----------+------+---------+---------+-----------+-----------------+-----------+\n",
            "|EmpID|Name  |JoinDate  |Salary|ManagerID|TotalDays|PresentDays|AttendancePercent|Department |\n",
            "+-----+------+----------+------+---------+---------+-----------+-----------------+-----------+\n",
            "|1    |Anita |2021-05-01|55000 |NULL     |2        |2          |100.0            |HR         |\n",
            "|5    |Nisha |2023-01-05|50000 |1        |2        |2          |100.0            |HR         |\n",
            "|2    |Raj   |2020-03-15|80000 |1        |2        |1          |50.0             |Engineering|\n",
            "|3    |Simran|2022-07-10|75000 |1        |2        |2          |100.0            |Engineering|\n",
            "|4    |Aamir |2019-11-20|60000 |1        |NULL     |NULL       |NULL             |Marketing  |\n",
            "+-----+------+----------+------+---------+---------+-----------+-----------------+-----------+\n",
            "\n"
          ]
        }
      ]
    }
  ]
}